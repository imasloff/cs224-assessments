{
 "cells": [
  {
   "cell_type": "markdown",
   "metadata": {
    "id": "3HqK14JLSStR"
   },
   "source": [
    "# CS224N Assignment 1: Exploring Word Vectors (25 Points)\n",
    "### <font color='blue'> Due 4:30pm, Tue April 9th 2024</font>\n",
    "\n",
    "Welcome to CS224N! \n",
    "\n",
    "Before you start, make sure you **read the README.md** in the same directory as this notebook for important setup information. You need to install some Python libraries before you can successfully do this assignment. A lot of code is provided in this notebook, and we highly encourage you to read and understand it as part of the learning :)\n",
    "\n",
    "If you aren't super familiar with Python, Numpy, or Matplotlib, we recommend you check out the review session on Friday. The session will be recorded and the material will be made available on our [website](http://web.stanford.edu/class/cs224n/index.html#schedule). The CS231N Python/Numpy [tutorial](https://cs231n.github.io/python-numpy-tutorial/) is also a great resource.\n",
    "\n",
    "\n",
    "**Assignment Notes:** Please make sure to save the notebook as you go along. Submission Instructions are located at the bottom of the notebook."
   ]
  },
  {
   "cell_type": "code",
   "execution_count": 3,
   "metadata": {
    "ExecuteTime": {
     "end_time": "2024-03-27T08:04:19.343709Z",
     "start_time": "2024-03-27T08:04:15.222676Z"
    },
    "colab": {
     "base_uri": "https://localhost:8080/"
    },
    "id": "8AGQxROrSStf",
    "outputId": "45390a52-8c82-466d-dcf3-d5b355f14aa4"
   },
   "outputs": [],
   "source": [
    "# All Import Statements Defined Here\n",
    "# Note: Do not add to this list.\n",
    "# ----------------\n",
    "\n",
    "import sys\n",
    "assert sys.version_info[0] == 3\n",
    "assert sys.version_info[1] >= 8\n",
    "\n",
    "from platform import python_version\n",
    "assert int(python_version().split(\".\")[1]) >= 5, \"Please upgrade your Python version following the instructions in \\\n",
    "    the README.md file found in the same directory as this notebook. Your Python version is \" + python_version()\n",
    "\n",
    "from gensim.models import KeyedVectors\n",
    "from gensim.test.utils import datapath\n",
    "import pprint\n",
    "import matplotlib.pyplot as plt\n",
    "plt.rcParams['figure.figsize'] = [10, 5]\n",
    "\n",
    "from datasets import load_dataset\n",
    "imdb_dataset = load_dataset(\"stanfordnlp/imdb\")\n",
    "\n",
    "import re\n",
    "import numpy as np\n",
    "import random\n",
    "import scipy as sp\n",
    "from sklearn.decomposition import TruncatedSVD\n",
    "from sklearn.decomposition import PCA\n",
    "\n",
    "START_TOKEN = '<START>'\n",
    "END_TOKEN = '<END>'\n",
    "NUM_SAMPLES = 150\n",
    "\n",
    "np.random.seed(0)\n",
    "random.seed(0)\n",
    "# ----------------"
   ]
  },
  {
   "cell_type": "markdown",
   "metadata": {
    "id": "SICd5IedSSto"
   },
   "source": [
    "## Word Vectors\n",
    "\n",
    "Word Vectors are often used as a fundamental component for downstream NLP tasks, e.g. question answering, text generation, translation, etc., so it is important to build some intuitions as to their strengths and weaknesses. Here, you will explore two types of word vectors: those derived from *co-occurrence matrices*, and those derived via *GloVe*. \n",
    "\n",
    "**Note on Terminology:** The terms \"word vectors\" and \"word embeddings\" are often used interchangeably. The term \"embedding\" refers to the fact that we are encoding aspects of a word's meaning in a lower dimensional space. As [Wikipedia](https://en.wikipedia.org/wiki/Word_embedding) states, \"*conceptually it involves a mathematical embedding from a space with one dimension per word to a continuous vector space with a much lower dimension*\"."
   ]
  },
  {
   "cell_type": "markdown",
   "metadata": {
    "id": "6Eug6AVrSStr"
   },
   "source": [
    "## Part 1: Count-Based Word Vectors (10 points)\n",
    "\n",
    "Most word vector models start from the following idea:\n",
    "\n",
    "*You shall know a word by the company it keeps ([Firth, J. R. 1957:11](https://en.wikipedia.org/wiki/John_Rupert_Firth))*\n",
    "\n",
    "Many word vector implementations are driven by the idea that similar words, i.e., (near) synonyms, will be used in similar contexts. As a result, similar words will often be spoken or written along with a shared subset of words, i.e., contexts. By examining these contexts, we can try to develop embeddings for our words. With this intuition in mind, many \"old school\" approaches to constructing word vectors relied on word counts. Here we elaborate upon one of those strategies, *co-occurrence matrices* (for more information, see [here](https://web.stanford.edu/~jurafsky/slp3/6.pdf) or [here](https://web.archive.org/web/20190530091127/https://medium.com/data-science-group-iitr/word-embedding-2d05d270b285))."
   ]
  },
  {
   "cell_type": "markdown",
   "metadata": {
    "id": "L6uQ9-DVSSts"
   },
   "source": [
    "### Co-Occurrence\n",
    "\n",
    "A co-occurrence matrix counts how often things co-occur in some environment. Given some word $w_i$ occurring in the document, we consider the *context window* surrounding $w_i$. Supposing our fixed window size is $n$, then this is the $n$ preceding and $n$ subsequent words in that document, i.e. words $w_{i-n} \\dots w_{i-1}$ and $w_{i+1} \\dots w_{i+n}$. We build a *co-occurrence matrix* $M$, which is a symmetric word-by-word matrix in which $M_{ij}$ is the number of times $w_j$ appears inside $w_i$'s window among all documents.\n",
    "\n",
    "**Example: Co-Occurrence with Fixed Window of n=1**:\n",
    "\n",
    "Document 1: \"all that glitters is not gold\"\n",
    "\n",
    "Document 2: \"all is well that ends well\"\n",
    "\n",
    "\n",
    "|     *    | `<START>` | all | that | glitters | is   | not  | gold  | well | ends | `<END>` |\n",
    "|----------|-------|-----|------|----------|------|------|-------|------|------|-----|\n",
    "| `<START>`    | 0     | 2   | 0    | 0        | 0    | 0    | 0     | 0    | 0    | 0   |\n",
    "| all      | 2     | 0   | 1    | 0        | 1    | 0    | 0     | 0    | 0    | 0   |\n",
    "| that     | 0     | 1   | 0    | 1        | 0    | 0    | 0     | 1    | 1    | 0   |\n",
    "| glitters | 0     | 0   | 1    | 0        | 1    | 0    | 0     | 0    | 0    | 0   |\n",
    "| is       | 0     | 1   | 0    | 1        | 0    | 1    | 0     | 1    | 0    | 0   |\n",
    "| not      | 0     | 0   | 0    | 0        | 1    | 0    | 1     | 0    | 0    | 0   |\n",
    "| gold     | 0     | 0   | 0    | 0        | 0    | 1    | 0     | 0    | 0    | 1   |\n",
    "| well     | 0     | 0   | 1    | 0        | 1    | 0    | 0     | 0    | 1    | 1   |\n",
    "| ends     | 0     | 0   | 1    | 0        | 0    | 0    | 0     | 1    | 0    | 0   |\n",
    "| `<END>`      | 0     | 0   | 0    | 0        | 0    | 0    | 1     | 1    | 0    | 0   |\n",
    "\n",
    "In NLP, we commonly use `<START>` and `<END>` tokens to mark the beginning and end of sentences, paragraphs, or documents. These tokens are included in co-occurrence counts, encapsulating each document, for example: \"`<START>` All that glitters is not gold `<END>`\".\n",
    "\n",
    "The matrix rows (or columns) provide word vectors based on word-word co-occurrence, but they can be large. To reduce dimensionality, we employ Singular Value Decomposition (SVD), akin to PCA, selecting the top $k$ principal components. The SVD process decomposes the co-occurrence matrix $A$ into singular values in the diagonal $S$ matrix and new, shorter word vectors in $U_k$.\n",
    "\n",
    "This dimensionality reduction maintains semantic relationships; for instance, *doctor* and *hospital* will be closer than *doctor* and *dog*.\n",
    "\n",
    "For those unfamiliar with eigenvalues and SVD, a beginner-friendly introduction to SVD is available [here](https://davetang.org/file/Singular_Value_Decomposition_Tutorial.pdf). Additional resources for in-depth understanding include lectures [7](https://web.stanford.edu/class/cs168/l/l7.pdf), [8](http://theory.stanford.edu/~tim/s15/l/l8.pdf), and [9](https://web.stanford.edu/class/cs168/l/l9.pdf) of CS168, providing high-level treatment of these algorithms. For practical implementation, utilizing pre-programmed functions from Python packages like numpy, scipy, or sklearn is recommended. While applying full SVD to large corpora can be memory-intensive, scalable techniques such as Truncated SVD exist for extracting the top $k$ vector components efficiently."
   ]
  },
  {
   "cell_type": "markdown",
   "metadata": {
    "id": "7IKeK4xtSStv"
   },
   "source": [
    "### Plotting Co-Occurrence Word Embeddings\n",
    "\n",
    "Here, we will be using the Large Movie Review Dataset. This is a dataset for binary sentiment classification containing substantially more data than previous benchmark datasets. We provide a set of 25,000 highly polar movie reviews for training, and 25,000 for testing. There is additional unlabeled data for use as well. We provide a `read_corpus` function below that pulls out the text of a movie review from the dataset. The function also adds `<START>` and `<END>` tokens to each of the documents, and lowercases words. You do **not** have to perform any other kind of pre-processing."
   ]
  },
  {
   "cell_type": "code",
   "execution_count": 4,
   "metadata": {
    "ExecuteTime": {
     "end_time": "2024-03-27T08:06:28.097673Z",
     "start_time": "2024-03-27T08:06:28.094138Z"
    },
    "id": "xwD2htUoSStw"
   },
   "outputs": [],
   "source": [
    "def read_corpus():\n",
    "    \"\"\" Read files from the Large Movie Review Dataset.\n",
    "        Params:\n",
    "            category (string): category name\n",
    "        Return:\n",
    "            list of lists, with words from each of the processed files\n",
    "    \"\"\"\n",
    "    files = imdb_dataset[\"train\"][\"text\"][:NUM_SAMPLES]\n",
    "    return [[START_TOKEN] + [re.sub(r'[^\\w]', '', w.lower()) for w in f.split(\" \")] + [END_TOKEN] for f in files]\n"
   ]
  },
  {
   "cell_type": "markdown",
   "metadata": {
    "id": "hVLquFhjSStx"
   },
   "source": [
    "Let's have a look what these documents are like…."
   ]
  },
  {
   "cell_type": "code",
   "execution_count": 5,
   "metadata": {
    "ExecuteTime": {
     "end_time": "2024-03-27T08:06:29.881790Z",
     "start_time": "2024-03-27T08:06:29.404708Z"
    },
    "colab": {
     "base_uri": "https://localhost:8080/"
    },
    "id": "mC7B9Cb-SSty",
    "outputId": "a1861c4f-723a-4d99-98d9-5f5db3a92e7a"
   },
   "outputs": [
    {
     "name": "stdout",
     "output_type": "stream",
     "text": [
      "[['<START>', 'i', 'rented', 'i', 'am', 'curiousyellow', 'from', 'my', 'video', 'store', 'because',\n",
      "  'of', 'all', 'the', 'controversy', 'that', 'surrounded', 'it', 'when', 'it', 'was', 'first',\n",
      "  'released', 'in', '1967', 'i', 'also', 'heard', 'that', 'at', 'first', 'it', 'was', 'seized',\n",
      "  'by', 'us', 'customs', 'if', 'it', 'ever', 'tried', 'to', 'enter', 'this', 'country', 'therefore',\n",
      "  'being', 'a', 'fan', 'of', 'films', 'considered', 'controversial', 'i', 'really', 'had', 'to',\n",
      "  'see', 'this', 'for', 'myselfbr', 'br', 'the', 'plot', 'is', 'centered', 'around', 'a', 'young',\n",
      "  'swedish', 'drama', 'student', 'named', 'lena', 'who', 'wants', 'to', 'learn', 'everything',\n",
      "  'she', 'can', 'about', 'life', 'in', 'particular', 'she', 'wants', 'to', 'focus', 'her',\n",
      "  'attentions', 'to', 'making', 'some', 'sort', 'of', 'documentary', 'on', 'what', 'the', 'average',\n",
      "  'swede', 'thought', 'about', 'certain', 'political', 'issues', 'such', 'as', 'the', 'vietnam',\n",
      "  'war', 'and', 'race', 'issues', 'in', 'the', 'united', 'states', 'in', 'between', 'asking',\n",
      "  'politicians', 'and', 'ordinary', 'denizens', 'of', 'stockholm', 'about', 'their', 'opinions',\n",
      "  'on', 'politics', 'she', 'has', 'sex', 'with', 'her', 'drama', 'teacher', 'classmates', 'and',\n",
      "  'married', 'menbr', 'br', 'what', 'kills', 'me', 'about', 'i', 'am', 'curiousyellow', 'is',\n",
      "  'that', '40', 'years', 'ago', 'this', 'was', 'considered', 'pornographic', 'really', 'the', 'sex',\n",
      "  'and', 'nudity', 'scenes', 'are', 'few', 'and', 'far', 'between', 'even', 'then', 'its', 'not',\n",
      "  'shot', 'like', 'some', 'cheaply', 'made', 'porno', 'while', 'my', 'countrymen', 'mind', 'find',\n",
      "  'it', 'shocking', 'in', 'reality', 'sex', 'and', 'nudity', 'are', 'a', 'major', 'staple', 'in',\n",
      "  'swedish', 'cinema', 'even', 'ingmar', 'bergman', 'arguably', 'their', 'answer', 'to', 'good',\n",
      "  'old', 'boy', 'john', 'ford', 'had', 'sex', 'scenes', 'in', 'his', 'filmsbr', 'br', 'i', 'do',\n",
      "  'commend', 'the', 'filmmakers', 'for', 'the', 'fact', 'that', 'any', 'sex', 'shown', 'in', 'the',\n",
      "  'film', 'is', 'shown', 'for', 'artistic', 'purposes', 'rather', 'than', 'just', 'to', 'shock',\n",
      "  'people', 'and', 'make', 'money', 'to', 'be', 'shown', 'in', 'pornographic', 'theaters', 'in',\n",
      "  'america', 'i', 'am', 'curiousyellow', 'is', 'a', 'good', 'film', 'for', 'anyone', 'wanting',\n",
      "  'to', 'study', 'the', 'meat', 'and', 'potatoes', 'no', 'pun', 'intended', 'of', 'swedish',\n",
      "  'cinema', 'but', 'really', 'this', 'film', 'doesnt', 'have', 'much', 'of', 'a', 'plot', '<END>'],\n",
      " ['<START>', 'i', 'am', 'curious', 'yellow', 'is', 'a', 'risible', 'and', 'pretentious', 'steaming',\n",
      "  'pile', 'it', 'doesnt', 'matter', 'what', 'ones', 'political', 'views', 'are', 'because', 'this',\n",
      "  'film', 'can', 'hardly', 'be', 'taken', 'seriously', 'on', 'any', 'level', 'as', 'for', 'the',\n",
      "  'claim', 'that', 'frontal', 'male', 'nudity', 'is', 'an', 'automatic', 'nc17', 'that', 'isnt',\n",
      "  'true', 'ive', 'seen', 'rrated', 'films', 'with', 'male', 'nudity', 'granted', 'they', 'only',\n",
      "  'offer', 'some', 'fleeting', 'views', 'but', 'where', 'are', 'the', 'rrated', 'films', 'with',\n",
      "  'gaping', 'vulvas', 'and', 'flapping', 'labia', 'nowhere', 'because', 'they', 'dont', 'exist',\n",
      "  'the', 'same', 'goes', 'for', 'those', 'crappy', 'cable', 'shows', 'schlongs', 'swinging', 'in',\n",
      "  'the', 'breeze', 'but', 'not', 'a', 'clitoris', 'in', 'sight', 'and', 'those', 'pretentious',\n",
      "  'indie', 'movies', 'like', 'the', 'brown', 'bunny', 'in', 'which', 'were', 'treated', 'to', 'the',\n",
      "  'site', 'of', 'vincent', 'gallos', 'throbbing', 'johnson', 'but', 'not', 'a', 'trace', 'of',\n",
      "  'pink', 'visible', 'on', 'chloe', 'sevigny', 'before', 'crying', 'or', 'implying',\n",
      "  'doublestandard', 'in', 'matters', 'of', 'nudity', 'the', 'mentally', 'obtuse', 'should', 'take',\n",
      "  'into', 'account', 'one', 'unavoidably', 'obvious', 'anatomical', 'difference', 'between', 'men',\n",
      "  'and', 'women', 'there', 'are', 'no', 'genitals', 'on', 'display', 'when', 'actresses', 'appears',\n",
      "  'nude', 'and', 'the', 'same', 'cannot', 'be', 'said', 'for', 'a', 'man', 'in', 'fact', 'you',\n",
      "  'generally', 'wont', 'see', 'female', 'genitals', 'in', 'an', 'american', 'film', 'in',\n",
      "  'anything', 'short', 'of', 'porn', 'or', 'explicit', 'erotica', 'this', 'alleged',\n",
      "  'doublestandard', 'is', 'less', 'a', 'double', 'standard', 'than', 'an', 'admittedly',\n",
      "  'depressing', 'ability', 'to', 'come', 'to', 'terms', 'culturally', 'with', 'the', 'insides',\n",
      "  'of', 'womens', 'bodies', '<END>'],\n",
      " ['<START>', 'if', 'only', 'to', 'avoid', 'making', 'this', 'type', 'of', 'film', 'in', 'the',\n",
      "  'future', 'this', 'film', 'is', 'interesting', 'as', 'an', 'experiment', 'but', 'tells', 'no',\n",
      "  'cogent', 'storybr', 'br', 'one', 'might', 'feel', 'virtuous', 'for', 'sitting', 'thru', 'it',\n",
      "  'because', 'it', 'touches', 'on', 'so', 'many', 'important', 'issues', 'but', 'it', 'does', 'so',\n",
      "  'without', 'any', 'discernable', 'motive', 'the', 'viewer', 'comes', 'away', 'with', 'no', 'new',\n",
      "  'perspectives', 'unless', 'one', 'comes', 'up', 'with', 'one', 'while', 'ones', 'mind', 'wanders',\n",
      "  'as', 'it', 'will', 'invariably', 'do', 'during', 'this', 'pointless', 'filmbr', 'br', 'one',\n",
      "  'might', 'better', 'spend', 'ones', 'time', 'staring', 'out', 'a', 'window', 'at', 'a', 'tree',\n",
      "  'growingbr', 'br', '', '<END>']]\n",
      "corpus size:  290\n"
     ]
    }
   ],
   "source": [
    "imdb_corpus = read_corpus()\n",
    "pprint.pprint(imdb_corpus[:3], compact=True, width=100)\n",
    "print(\"corpus size: \", len(imdb_corpus[0]))"
   ]
  },
  {
   "cell_type": "markdown",
   "metadata": {
    "id": "tfa216H1SSt0"
   },
   "source": [
    "### Question 1.1: Implement `distinct_words` [code] (2 points)\n",
    "\n",
    "Write a method to work out the distinct words (word types) that occur in the corpus.\n",
    "\n",
    "You can use `for` loops to process the input `corpus` (a list of list of strings), but try using Python list comprehensions (which are generally faster). In particular, [this](https://coderwall.com/p/rcmaea/flatten-a-list-of-lists-in-one-line-in-python) may be useful to flatten a list of lists. If you're not familiar with Python list comprehensions in general, here's [more information](https://python-3-patterns-idioms-test.readthedocs.io/en/latest/Comprehensions.html).\n",
    "\n",
    "Your returned `corpus_words` should be sorted. You can use python's `sorted` function for this.\n",
    "\n",
    "You may find it useful to use [Python sets](https://www.w3schools.com/python/python_sets.asp) to remove duplicate words."
   ]
  },
  {
   "cell_type": "code",
   "execution_count": 6,
   "metadata": {
    "id": "NjJABbVFSSt1"
   },
   "outputs": [],
   "source": [
    "def distinct_words(corpus):\n",
    "    \"\"\" Determine a list of distinct words for the corpus.\n",
    "        Params:\n",
    "            corpus (list of list of strings): corpus of documents\n",
    "        Return:\n",
    "            corpus_words (list of strings): sorted list of distinct words across the corpus\n",
    "            n_corpus_words (integer): number of distinct words across the corpus\n",
    "    \"\"\"\n",
    "    corpus_words = []\n",
    "    n_corpus_words = -1\n",
    "    \n",
    "    # ------------------\n",
    "    # Write your implementation here.\n",
    "    corpus_words = sorted(set(word for file in corpus for word in file))\n",
    "    n_corpus_words = len(corpus_words)\n",
    "    \n",
    "    # ------------------\n",
    "\n",
    "    return corpus_words, n_corpus_words"
   ]
  },
  {
   "cell_type": "code",
   "execution_count": 7,
   "metadata": {
    "colab": {
     "base_uri": "https://localhost:8080/"
    },
    "id": "iKfXBXySSSt3",
    "outputId": "8b49421a-1cff-4f10-fe4a-927f30570b59"
   },
   "outputs": [
    {
     "name": "stdout",
     "output_type": "stream",
     "text": [
      "--------------------------------------------------------------------------------\n",
      "Passed All Tests!\n",
      "--------------------------------------------------------------------------------\n"
     ]
    }
   ],
   "source": [
    "# ---------------------\n",
    "# Run this sanity check\n",
    "# Note that this not an exhaustive check for correctness.\n",
    "# ---------------------\n",
    "\n",
    "# Define toy corpus\n",
    "test_corpus = [\"{} All that glitters isn't gold {}\".format(START_TOKEN, END_TOKEN).split(\" \"), \"{} All's well that ends well {}\".format(START_TOKEN, END_TOKEN).split(\" \")]\n",
    "test_corpus_words, num_corpus_words = distinct_words(test_corpus)\n",
    "\n",
    "# Correct answers\n",
    "ans_test_corpus_words = sorted([START_TOKEN, \"All\", \"ends\", \"that\", \"gold\", \"All's\", \"glitters\", \"isn't\", \"well\", END_TOKEN])\n",
    "ans_num_corpus_words = len(ans_test_corpus_words)\n",
    "\n",
    "# Test correct number of words\n",
    "assert(num_corpus_words == ans_num_corpus_words), \"Incorrect number of distinct words. Correct: {}. Yours: {}\".format(ans_num_corpus_words, num_corpus_words)\n",
    "\n",
    "# Test correct words\n",
    "assert (test_corpus_words == ans_test_corpus_words), \"Incorrect corpus_words.\\nCorrect: {}\\nYours:   {}\".format(str(ans_test_corpus_words), str(test_corpus_words))\n",
    "\n",
    "# Print Success\n",
    "print (\"-\" * 80)\n",
    "print(\"Passed All Tests!\")\n",
    "print (\"-\" * 80)"
   ]
  },
  {
   "cell_type": "markdown",
   "metadata": {
    "id": "ymDFJn_lSSt5"
   },
   "source": [
    "### Question 1.2: Implement `compute_co_occurrence_matrix` [code] (3 points)\n",
    "\n",
    "Write a method that constructs a co-occurrence matrix for a certain window-size $n$ (with a default of 4), considering words $n$ before and $n$ after the word in the center of the window. Here, we start to use `numpy (np)` to represent vectors, matrices, and tensors. If you're not familiar with NumPy, there's a NumPy tutorial in the second half of this cs231n [Python NumPy tutorial](http://cs231n.github.io/python-numpy-tutorial/).\n"
   ]
  },
  {
   "cell_type": "code",
   "execution_count": 8,
   "metadata": {
    "id": "v8MIy3KDSSt6"
   },
   "outputs": [],
   "source": [
    "def compute_co_occurrence_matrix(corpus, window_size=4):\n",
    "    \"\"\" Compute co-occurrence matrix for the given corpus and window_size (default of 4).\n",
    "    \n",
    "        Note: Each word in a document should be at the center of a window. Words near edges will have a smaller\n",
    "              number of co-occurring words.\n",
    "              \n",
    "              For example, if we take the document \"<START> All that glitters is not gold <END>\" with window size of 4,\n",
    "              \"All\" will co-occur with \"<START>\", \"that\", \"glitters\", \"is\", and \"not\".\n",
    "    \n",
    "        Params:\n",
    "            corpus (list of list of strings): corpus of documents\n",
    "            window_size (int): size of context window\n",
    "        Return:\n",
    "            M (a symmetric numpy matrix of shape (number of unique words in the corpus , number of unique words in the corpus)): \n",
    "                Co-occurence matrix of word counts. \n",
    "                The ordering of the words in the rows/columns should be the same as the ordering of the words given by the distinct_words function.\n",
    "            word2ind (dict): dictionary that maps word to index (i.e. row/column number) for matrix M.\n",
    "    \"\"\"\n",
    "    words, n_words = distinct_words(corpus)\n",
    "    M = None\n",
    "    word2ind = {}\n",
    "    \n",
    "    # ------------------\n",
    "    # Write your implementation here.\n",
    "    M = np.zeros(shape=(n_words, n_words))\n",
    "    word2ind = {w: i for i, w in enumerate(words)}\n",
    "    print(word2ind)\n",
    "    for center_word in words:\n",
    "        index = word2ind[center_word]\n",
    "        for sent in corpus:\n",
    "            for cw_idx, word in enumerate(sent):\n",
    "                if word == center_word:\n",
    "                    start = max(0, cw_idx - window_size)\n",
    "                    end = min(len(sent), cw_idx + window_size)\n",
    "                    window = sent[start : cw_idx] + sent[cw_idx + 1 : end]\n",
    "                    for neighbour in window:\n",
    "                        M[index, word2ind[neighbour]] += 1\n",
    "                        M[word2ind[neighbour], index] += 1\n",
    "    # ------------------\n",
    "\n",
    "    return M, word2ind"
   ]
  },
  {
   "cell_type": "code",
   "execution_count": 9,
   "metadata": {
    "colab": {
     "base_uri": "https://localhost:8080/"
    },
    "id": "u-6ID1qhSSt7",
    "outputId": "f4f1bccb-06a8-4bb6-ec80-f2b6201b2645"
   },
   "outputs": [
    {
     "name": "stdout",
     "output_type": "stream",
     "text": [
      "{'<END>': 0, '<START>': 1, 'All': 2, \"All's\": 3, 'ends': 4, 'glitters': 5, 'gold': 6, \"isn't\": 7, 'that': 8, 'well': 9}\n",
      "--------------------------------------------------------------------------------\n",
      "Passed All Tests!\n",
      "--------------------------------------------------------------------------------\n"
     ]
    }
   ],
   "source": [
    "# ---------------------\n",
    "# Run this sanity check\n",
    "# Note that this is not an exhaustive check for correctness.\n",
    "# ---------------------\n",
    "\n",
    "# Define toy corpus and get student's co-occurrence matrix\n",
    "test_corpus = [\"{} All that glitters isn't gold {}\".format(START_TOKEN, END_TOKEN).split(\" \"), \"{} All's well that ends well {}\".format(START_TOKEN, END_TOKEN).split(\" \")]\n",
    "M_test, word2ind_test = compute_co_occurrence_matrix(test_corpus, window_size=1)\n",
    "\n",
    "# Correct M and word2ind\n",
    "M_test_ans = np.array( \n",
    "    [[0., 0., 0., 0., 0., 0., 1., 0., 0., 1.,],\n",
    "     [0., 0., 1., 1., 0., 0., 0., 0., 0., 0.,],\n",
    "     [0., 1., 0., 0., 0., 0., 0., 0., 1., 0.,],\n",
    "     [0., 1., 0., 0., 0., 0., 0., 0., 0., 1.,],\n",
    "     [0., 0., 0., 0., 0., 0., 0., 0., 1., 1.,],\n",
    "     [0., 0., 0., 0., 0., 0., 0., 1., 1., 0.,],\n",
    "     [1., 0., 0., 0., 0., 0., 0., 1., 0., 0.,],\n",
    "     [0., 0., 0., 0., 0., 1., 1., 0., 0., 0.,],\n",
    "     [0., 0., 1., 0., 1., 1., 0., 0., 0., 1.,],\n",
    "     [1., 0., 0., 1., 1., 0., 0., 0., 1., 0.,]]\n",
    ")\n",
    "ans_test_corpus_words = sorted([START_TOKEN, \"All\", \"ends\", \"that\", \"gold\", \"All's\", \"glitters\", \"isn't\", \"well\", END_TOKEN])\n",
    "word2ind_ans = dict(zip(ans_test_corpus_words, range(len(ans_test_corpus_words))))\n",
    "\n",
    "# Test correct word2ind\n",
    "assert (word2ind_ans == word2ind_test), \"Your word2ind is incorrect:\\nCorrect: {}\\nYours: {}\".format(word2ind_ans, word2ind_test)\n",
    "\n",
    "# Test correct M shape\n",
    "assert (M_test.shape == M_test_ans.shape), \"M matrix has incorrect shape.\\nCorrect: {}\\nYours: {}\".format(M_test.shape, M_test_ans.shape)\n",
    "\n",
    "# Test correct M values\n",
    "for w1 in word2ind_ans.keys():\n",
    "    idx1 = word2ind_ans[w1]\n",
    "    for w2 in word2ind_ans.keys():\n",
    "        idx2 = word2ind_ans[w2]\n",
    "        student = M_test[idx1, idx2]\n",
    "        correct = M_test_ans[idx1, idx2]\n",
    "        if student != correct:\n",
    "            print(\"Correct M:\")\n",
    "            print(M_test_ans)\n",
    "            print(\"Your M: \")\n",
    "            print(M_test)\n",
    "            raise AssertionError(\"Incorrect count at index ({}, {})=({}, {}) in matrix M. Yours has {} but should have {}.\".format(idx1, idx2, w1, w2, student, correct))\n",
    "\n",
    "# Print Success\n",
    "print (\"-\" * 80)\n",
    "print(\"Passed All Tests!\")\n",
    "print (\"-\" * 80)"
   ]
  },
  {
   "cell_type": "markdown",
   "metadata": {
    "id": "K-nyJnAASSt9"
   },
   "source": [
    "### Question 1.3: Implement `reduce_to_k_dim` [code] (1 point)\n",
    "\n",
    "Construct a method that performs dimensionality reduction on the matrix to produce k-dimensional embeddings. Use SVD to take the top k components and produce a new matrix of k-dimensional embeddings. \n",
    "\n",
    "**Note:** All of numpy, scipy, and scikit-learn (`sklearn`) provide *some* implementation of SVD, but only scipy and sklearn provide an implementation of Truncated SVD, and only sklearn provides an efficient randomized algorithm for calculating large-scale Truncated SVD. So please use [sklearn.decomposition.TruncatedSVD](https://scikit-learn.org/stable/modules/generated/sklearn.decomposition.TruncatedSVD.html)."
   ]
  },
  {
   "cell_type": "code",
   "execution_count": 10,
   "metadata": {
    "id": "truGMjifSSt9"
   },
   "outputs": [],
   "source": [
    "def reduce_to_k_dim(M, k=2):\n",
    "    \"\"\" Reduce a co-occurence count matrix of dimensionality (num_corpus_words, num_corpus_words)\n",
    "        to a matrix of dimensionality (num_corpus_words, k) using the following SVD function from Scikit-Learn:\n",
    "            - http://scikit-learn.org/stable/modules/generated/sklearn.decomposition.TruncatedSVD.html\n",
    "    \n",
    "        Params:\n",
    "            M (numpy matrix of shape (number of unique words in the corpus , number of unique words in the corpus)): co-occurence matrix of word counts\n",
    "            k (int): embedding size of each word after dimension reduction\n",
    "        Return:\n",
    "            M_reduced (numpy matrix of shape (number of corpus words, k)): matrix of k-dimensioal word embeddings.\n",
    "                    In terms of the SVD from math class, this actually returns U * S\n",
    "    \"\"\"    \n",
    "    n_iters = 10    # Use this parameter in your call to `TruncatedSVD`\n",
    "    M_reduced = None\n",
    "    print(\"Running Truncated SVD over %i words...\" % (M.shape[0]))\n",
    "    \n",
    "    # ------------------\n",
    "    # Write your implementation here.\n",
    "    svd = TruncatedSVD(n_components=k, n_iter=n_iters)\n",
    "    M_reduced = svd.fit_transform(M)\n",
    "    # ------------------\n",
    "\n",
    "    print(\"Done.\")\n",
    "    return M_reduced"
   ]
  },
  {
   "cell_type": "code",
   "execution_count": 11,
   "metadata": {
    "colab": {
     "base_uri": "https://localhost:8080/"
    },
    "id": "7pqKuqvhSSt-",
    "outputId": "7d147bd2-9916-4226-d936-43ce795006cb"
   },
   "outputs": [
    {
     "name": "stdout",
     "output_type": "stream",
     "text": [
      "{'<END>': 0, '<START>': 1, 'All': 2, \"All's\": 3, 'ends': 4, 'glitters': 5, 'gold': 6, \"isn't\": 7, 'that': 8, 'well': 9}\n",
      "Running Truncated SVD over 10 words...\n",
      "Done.\n",
      "--------------------------------------------------------------------------------\n",
      "Passed All Tests!\n",
      "--------------------------------------------------------------------------------\n"
     ]
    }
   ],
   "source": [
    "# ---------------------\n",
    "# Run this sanity check\n",
    "# Note that this is not an exhaustive check for correctness \n",
    "# In fact we only check that your M_reduced has the right dimensions.\n",
    "# ---------------------\n",
    "\n",
    "# Define toy corpus and run student code\n",
    "test_corpus = [\"{} All that glitters isn't gold {}\".format(START_TOKEN, END_TOKEN).split(\" \"), \"{} All's well that ends well {}\".format(START_TOKEN, END_TOKEN).split(\" \")]\n",
    "M_test, word2ind_test = compute_co_occurrence_matrix(test_corpus, window_size=1)\n",
    "M_test_reduced = reduce_to_k_dim(M_test, k=2)\n",
    "\n",
    "# Test proper dimensions\n",
    "assert (M_test_reduced.shape[0] == 10), \"M_reduced has {} rows; should have {}\".format(M_test_reduced.shape[0], 10)\n",
    "assert (M_test_reduced.shape[1] == 2), \"M_reduced has {} columns; should have {}\".format(M_test_reduced.shape[1], 2)\n",
    "\n",
    "# Print Success\n",
    "print (\"-\" * 80)\n",
    "print(\"Passed All Tests!\")\n",
    "print (\"-\" * 80)"
   ]
  },
  {
   "cell_type": "markdown",
   "metadata": {
    "id": "apZknsLoSSt_"
   },
   "source": [
    "### Question 1.4: Implement `plot_embeddings` [code] (1 point)\n",
    "\n",
    "Here you will write a function to plot a set of 2D vectors in 2D space. For graphs, we will use Matplotlib (`plt`).\n",
    "\n",
    "For this example, you may find it useful to adapt [this code](http://web.archive.org/web/20190924160434/https://www.pythonmembers.club/2018/05/08/matplotlib-scatter-plot-annotate-set-text-at-label-each-point/). In the future, a good way to make a plot is to look at [the Matplotlib gallery](https://matplotlib.org/gallery/index.html), find a plot that looks somewhat like what you want, and adapt the code they give."
   ]
  },
  {
   "cell_type": "code",
   "execution_count": 12,
   "metadata": {
    "id": "dDcCZE5lSSuA"
   },
   "outputs": [],
   "source": [
    "def plot_embeddings(M_reduced, word2ind, words):\n",
    "    \"\"\" Plot in a scatterplot the embeddings of the words specified in the list \"words\".\n",
    "        NOTE: do not plot all the words listed in M_reduced / word2ind.\n",
    "        Include a label next to each point.\n",
    "        \n",
    "        Params:\n",
    "            M_reduced (numpy matrix of shape (number of unique words in the corpus , 2)): matrix of 2-dimensioal word embeddings\n",
    "            word2ind (dict): dictionary that maps word to indices for matrix M\n",
    "            words (list of strings): words whose embeddings we want to visualize\n",
    "    \"\"\"\n",
    "\n",
    "    # ------------------\n",
    "    # Write your implementation here.\n",
    "\n",
    "    x_coords = M_reduced[:, 0]\n",
    "    y_coords = M_reduced[:, 1]\n",
    "\n",
    "    for i, word in enumerate(words):\n",
    "        x = x_coords[i]\n",
    "        y = y_coords[i]\n",
    "        plt.scatter(x, y, marker='x', color='red')\n",
    "        plt.text(x, y, word, fontsize=9)\n",
    "    plt.show()\n",
    "    \n",
    "    # ------------------"
   ]
  },
  {
   "cell_type": "code",
   "execution_count": 13,
   "metadata": {
    "colab": {
     "base_uri": "https://localhost:8080/",
     "height": 372
    },
    "id": "gHxOMWPxSSuB",
    "outputId": "565711fc-02ea-43cb-daa5-8b8bb310cdda"
   },
   "outputs": [
    {
     "name": "stdout",
     "output_type": "stream",
     "text": [
      "--------------------------------------------------------------------------------\n",
      "Outputted Plot:\n"
     ]
    },
    {
     "data": {
      "image/png": "[encoded data removed]",
      "text/plain": [
       "<Figure size 1000x500 with 1 Axes>"
      ]
     },
     "metadata": {},
     "output_type": "display_data"
    },
    {
     "name": "stdout",
     "output_type": "stream",
     "text": [
      "--------------------------------------------------------------------------------\n"
     ]
    }
   ],
   "source": [
    "# ---------------------\n",
    "# Run this sanity check\n",
    "# Note that this is not an exhaustive check for correctness.\n",
    "# The plot produced should look like the included file question_1.4_test.png \n",
    "# ---------------------\n",
    "\n",
    "print (\"-\" * 80)\n",
    "print (\"Outputted Plot:\")\n",
    "\n",
    "M_reduced_plot_test = np.array([[1, 1], [-1, -1], [1, -1], [-1, 1], [0, 0]])\n",
    "word2ind_plot_test = {'test1': 0, 'test2': 1, 'test3': 2, 'test4': 3, 'test5': 4}\n",
    "words = ['test1', 'test2', 'test3', 'test4', 'test5']\n",
    "plot_embeddings(M_reduced_plot_test, word2ind_plot_test, words)\n",
    "\n",
    "print (\"-\" * 80)"
   ]
  },
  {
   "cell_type": "markdown",
   "metadata": {
    "id": "YpBzYs2hSSuC"
   },
   "source": [
    "### Question 1.5: Co-Occurrence Plot Analysis [written] (3 points)\n",
    "\n",
    "Now we will put together all the parts you have written! We will compute the co-occurrence matrix with fixed window of 4 (the default window size), over the Large Movie Review corpus. Then we will use TruncatedSVD to compute 2-dimensional embeddings of each word. TruncatedSVD returns U\\*S, so we need to normalize the returned vectors, so that all the vectors will appear around the unit circle (therefore closeness is directional closeness). **Note**: The line of code below that does the normalizing uses the NumPy concept of *broadcasting*. If you don't know about broadcasting, check out\n",
    "[Computation on Arrays: Broadcasting by Jake VanderPlas](https://jakevdp.github.io/PythonDataScienceHandbook/02.05-computation-on-arrays-broadcasting.html).\n",
    "\n",
    "Run the below cell to produce the plot. It can take up to a few minutes to run."
   ]
  },
  {
   "cell_type": "code",
   "execution_count": 14,
   "metadata": {
    "colab": {
     "base_uri": "https://localhost:8080/",
     "height": 355
    },
    "id": "7L1Uk50mSSuD",
    "outputId": "35ae3e41-07c8-421b-e75c-dcbeaa4fb015"
   },
   "outputs": [
    {
     "name": "stdout",
     "output_type": "stream",
     "text": [
      "{'': 0, '000': 1, '010br': 2, '08': 3, '1': 4, '10': 5, '100': 6, '1010': 7, '1015': 8, '1030': 9, '10dirbrad': 10, '10if': 11, '10yearold': 12, '11': 13, '110': 14, '12': 15, '120': 16, '13': 17, '1331': 18, '15': 19, '16': 20, '18000': 21, '18rated': 22, '1930s': 23, '1949er': 24, '1950s': 25, '1951': 26, '1955': 27, '1967': 28, '1969': 29, '1970': 30, '1971': 31, '1972': 32, '1979': 33, '1980': 34, '1981': 35, '1984': 36, '1987': 37, '1998': 38, '1999': 39, '19th': 40, '1st': 41, '2': 42, '20': 43, '200000': 44, '2001': 45, '2003': 46, '20072008': 47, '20s': 48, '210': 49, '23rd': 50, '25': 51, '2d': 52, '3': 53, '30': 54, '3000': 55, '30s': 56, '310': 57, '34th': 58, '3510': 59, '35yearold': 60, '360': 61, '3d': 62, '3dbr': 63, '3part': 64, '4': 65, '40': 66, '410': 67, '43': 68, '5': 69, '5050': 70, '50s': 71, '550': 72, '6': 73, '60': 74, '60s': 75, '60searly': 76, '610': 77, '69': 78, '6million': 79, '7': 80, '70': 81, '70s': 82, '70sbr': 83, '70sstyle': 84, '71': 85, '72nd': 86, '75': 87, '7ft': 88, '80': 89, '80s': 90, '832003': 91, '84': 92, '8½': 93, '90': 94, '930': 95, '94': 96, '99': 97, '<END>': 98, '<START>': 99, '_is_': 100, 'a': 101, 'aapke': 102, 'aaron': 103, 'abandon': 104, 'abandoned': 105, 'abducted': 106, 'abiding': 107, 'ability': 108, 'able': 109, 'aboard': 110, 'abominably': 111, 'abomination': 112, 'about': 113, 'aboutbr': 114, 'above': 115, 'abroad': 116, 'absolute': 117, 'absolutely': 118, 'abstract': 119, 'absurd': 120, 'abundance': 121, 'abuse': 122, 'abuseand': 123, 'accent': 124, 'accentit': 125, 'accents': 126, 'accept': 127, 'accident': 128, 'accompanied': 129, 'accomplished': 130, 'account': 131, 'accounts': 132, 'accusationbr': 133, 'accused': 134, 'achieved': 135, 'aching': 136, 'acquired': 137, 'acres': 138, 'across': 139, 'act': 140, 'actbr': 141, 'acted': 142, 'acting': 143, 'actingbr': 144, 'actingits': 145, 'actingwellhmmm': 146, 'action': 147, 'actionerbr': 148, 'actionpacked': 149, 'actions': 150, 'actor': 151, 'actors': 152, 'actorsactresses': 153, 'actorsbr': 154, 'actress': 155, 'actresses': 156, 'acts': 157, 'actual': 158, 'actually': 159, 'ad': 160, 'adaptation': 161, 'adapted': 162, 'add': 163, 'added': 164, 'adding': 165, 'addition': 166, 'additionally': 167, 'adequate': 168, 'adjective': 169, 'adjustin': 170, 'adlibed': 171, 'admire': 172, 'admired': 173, 'admit': 174, 'admittedly': 175, 'adulterous': 176, 'adultery': 177, 'adults': 178, 'adventure': 179, 'advertised': 180, 'advice': 181, 'advise': 182, 'ae': 183, 'affair': 184, 'affect': 185, 'affection': 186, 'afi': 187, 'afraid': 188, 'africa': 189, 'after': 190, 'aftermath': 191, 'afternoon': 192, 'afterthought': 193, 'afterwards': 194, 'again': 195, 'against': 196, 'age': 197, 'aged': 198, 'agency': 199, 'agendabr': 200, 'agent': 201, 'ages': 202, 'aggravating': 203, 'aggressive': 204, 'ago': 205, 'agonizing': 206, 'agree': 207, 'agreebr': 208, 'agreeing': 209, 'agrees': 210, 'ah': 211, 'ahead': 212, 'ahem': 213, 'ahold': 214, 'aidebr': 215, 'aided': 216, 'aint': 217, 'air': 218, 'airing': 219, 'airpuffed': 220, 'airs': 221, 'aka': 222, 'akelly': 223, 'akin': 224, 'akkayas': 225, 'al': 226, 'alarming': 227, 'alas': 228, 'albeit': 229, 'album': 230, 'alegria': 231, 'alert': 232, 'alien': 233, 'aliens': 234, 'aline': 235, 'alistair': 236, 'alkhali': 237, 'all': 238, 'allbr': 239, 'alleged': 240, 'allen': 241, 'alliance': 242, 'allow': 243, 'allowed': 244, 'allowing': 245, 'allows': 246, 'alltime': 247, 'almodovar': 248, 'almost': 249, 'aloknath': 250, 'alone': 251, 'along': 252, 'already': 253, 'alreadybr': 254, 'also': 255, 'altar': 256, 'altering': 257, 'alternate': 258, 'although': 259, 'altman': 260, 'altmanbr': 261, 'always': 262, 'alzheimers': 263, 'am': 264, 'amateur': 265, 'amateurish': 266, 'amati': 267, 'amazedamazed': 268, 'amazes': 269, 'amazing': 270, 'amazingly': 271, 'amazon': 272, 'ambiguity': 273, 'ambiguous': 274, 'america': 275, 'american': 276, 'americans': 277, 'amigo': 278, 'amistad': 279, 'among': 280, 'amongst': 281, 'amount': 282, 'amounts': 283, 'ample': 284, 'amrita': 285, 'amusing': 286, 'an': 287, 'anatomical': 288, 'and': 289, 'andie': 290, 'angel': 291, 'angela': 292, 'angels': 293, 'anger': 294, 'angle': 295, 'anglebr': 296, 'angles': 297, 'angry': 298, 'animal': 299, 'animals': 300, 'animation': 301, 'animatronics': 302, 'annmargret': 303, 'annoyed': 304, 'annoying': 305, 'annoyingbr': 306, 'annoys': 307, 'anonymous': 308, 'another': 309, 'anotherbr': 310, 'answer': 311, 'answerby': 312, 'answered': 313, 'answers': 314, 'antagonist': 315, 'anthology': 316, 'anthologya': 317, 'anticipated': 318, 'anticipating': 319, 'anticipation': 320, 'antonio': 321, 'antonioni': 322, 'anupam': 323, 'anxious': 324, 'anxiously': 325, 'any': 326, 'anybody': 327, 'anyhow': 328, 'anymore': 329, 'anyone': 330, 'anyonebr': 331, 'anyones': 332, 'anything': 333, 'anyway': 334, 'anyways': 335, 'apart': 336, 'ape': 337, 'apologies': 338, 'appalling': 339, 'appallingly': 340, 'apparent': 341, 'apparently': 342, 'appeal': 343, 'appealingsince': 344, 'appeals': 345, 'appear': 346, 'appearance': 347, 'appearances': 348, 'appearing': 349, 'appears': 350, 'applauds': 351, 'appreciate': 352, 'appreciation': 353, 'approach': 354, 'approaching': 355, 'approved': 356, 'april': 357, 'arab': 358, 'arabia': 359, 'arabs': 360, 'arcs': 361, 'are': 362, 'area': 363, 'areabr': 364, 'arent': 365, 'arguably': 366, 'argue': 367, 'aristocratic': 368, 'aristocrats': 369, 'armor': 370, 'arms': 371, 'army': 372, 'arnaz': 373, 'arnold': 374, 'around': 375, 'arouse': 376, 'aroused': 377, 'arrested': 378, 'arrived': 379, 'arrives': 380, 'art': 381, 'artbr': 382, 'arthouse': 383, 'arthur': 384, 'arthurian': 385, 'artifactwhatever': 386, 'artist': 387, 'artistic': 388, 'artists': 389, 'artwork': 390, 'arty': 391, 'as': 392, 'ashamed': 393, 'ashes': 394, 'asian': 395, 'aside': 396, 'asinie': 397, 'ask': 398, 'asked': 399, 'asking': 400, 'asks': 401, 'asleep': 402, 'asleepbr': 403, 'aspect': 404, 'aspects': 405, 'aspiring': 406, 'ass': 407, 'assassinate': 408, 'assembled': 409, 'assetbr': 410, 'assistant': 411, 'associated': 412, 'assume': 413, 'assuming': 414, 'assured': 415, 'assuredly': 416, 'astonishing': 417, 'astounding': 418, 'astoundingly': 419, 'aswell': 420, 'at': 421, 'ate': 422, 'atmosphere': 423, 'atrocious': 424, 'atrociously': 425, 'atrocity': 426, 'attached': 427, 'attack': 428, 'attacked': 429, 'attacks': 430, 'attempt': 431, 'attempts': 432, 'attention': 433, 'attentions': 434, 'attorney': 435, 'attract': 436, 'attracted': 437, 'attraction': 438, 'attractions': 439, 'attractive': 440, 'audience': 441, 'audiencebr': 442, 'audiences': 443, 'audition': 444, 'audrey': 445, 'aunt': 446, 'aunts': 447, 'australia': 448, 'australiaincluding': 449, 'australian': 450, 'australians': 451, 'authentic': 452, 'autobiography': 453, 'automatic': 454, 'automatically': 455, 'available': 456, 'availablebr': 457, 'avariciously': 458, 'avenging': 459, 'avenue': 460, 'average': 461, 'avoid': 462, 'avoidbr': 463, 'avoided': 464, 'awaiting': 465, 'awake': 466, 'award': 467, 'away': 468, 'awe': 469, 'awesome': 470, 'awful': 471, 'awfully': 472, 'awhile': 473, 'awkward': 474, 'b': 475, 'baby': 476, 'back': 477, 'backdrops': 478, 'backflashes': 479, 'background': 480, 'backing': 481, 'backstabber': 482, 'bad': 483, 'badacted': 484, 'badafter': 485, 'badass': 486, 'badbr': 487, 'baddie': 488, 'baddies': 489, 'badjatya': 490, 'badjatyas': 491, 'badly': 492, 'badlyconceived': 493, 'bag': 494, 'bags': 495, 'bail': 496, 'bait': 497, 'baiting': 498, 'bajillion': 499, 'baldly': 500, 'ball': 501, 'balls': 502, 'banderas': 503, 'bandit': 504, 'bandwagon': 505, 'banging': 506, 'bank': 507, 'bankrobbers': 508, 'bankrupt': 509, 'banned': 510, 'banningwhich': 511, 'baptist': 512, 'bar': 513, 'barantini': 514, 'barcelona': 515, 'barcelonans': 516, 'bare': 517, 'barefoot': 518, 'barely': 519, 'barf': 520, 'bargain': 521, 'bargaining': 522, 'barjatya': 523, 'barjatyas': 524, 'barkers': 525, 'barr': 526, 'barrels': 527, 'barren': 528, 'bars': 529, 'base': 530, 'based': 531, 'basement': 532, 'bashing': 533, 'basically': 534, 'bath': 535, 'bathtub': 536, 'battle': 537, 'battling': 538, 'be': 539, 'beach': 540, 'beaker': 541, 'beamera': 542, 'bear': 543, 'bearable': 544, 'beard': 545, 'beards': 546, 'beat': 547, 'beaten': 548, 'beats': 549, 'beautiful': 550, 'beautifully': 551, 'beauty': 552, 'became': 553, 'because': 554, 'beckon': 555, 'beckoned': 556, 'become': 557, 'becomes': 558, 'bedbr': 559, 'bedeviled': 560, 'bee': 561, 'beef': 562, 'been': 563, 'beer': 564, 'beers': 565, 'before': 566, 'beforebr': 567, 'befriends': 568, 'beg': 569, 'beggars': 570, 'begin': 571, 'beginning': 572, 'begins': 573, 'begs': 574, 'behalfbr': 575, 'behaving': 576, 'behavior': 577, 'behaviorand': 578, 'behind': 579, 'behindbr': 580, 'behl': 581, 'being': 582, 'beings': 583, 'beliefbr': 584, 'believable': 585, 'believablebr': 586, 'believe': 587, 'believed': 588, 'believes': 589, 'belligerent': 590, 'belongs': 591, 'below': 592, 'ben': 593, 'beneath': 594, 'benefit': 595, 'beowulf': 596, 'bergman': 597, 'berlins': 598, 'bernard': 599, 'berth': 600, 'bertinellis': 601, 'besides': 602, 'bespectacled': 603, 'best': 604, 'bet': 605, 'betcha': 606, 'betrayal': 607, 'betrays': 608, 'better': 609, 'betterbr': 610, 'betty': 611, 'between': 612, 'bewareunless': 613, 'beyond': 614, 'bgrade': 615, 'bhagyashree': 616, 'big': 617, 'bigger': 618, 'biggest': 619, 'bignames': 620, 'bikini': 621, 'bill': 622, 'billed': 623, 'billy': 624, 'bimbo': 625, 'bimboesque': 626, 'binks': 627, 'biography': 628, 'biopic': 629, 'bird': 630, 'birds': 631, 'birth': 632, 'bit': 633, 'bite': 634, 'bits': 635, 'bitten': 636, 'bitterly': 637, 'bizarre': 638, 'black': 639, 'blackandwhite': 640, 'blackproduced': 641, 'blah': 642, 'blair': 643, 'blame': 644, 'bland': 645, 'blank': 646, 'blasted': 647, 'blatant': 648, 'blatantly': 649, 'blaxploitation': 650, 'bleach': 651, 'bleakest': 652, 'blessing': 653, 'blockbusters': 654, 'bloke': 655, 'blonde': 656, 'blood': 657, 'bloodshot': 658, 'bloody': 659, 'bloom': 660, 'blow': 661, 'blower': 662, 'blue': 663, 'blueeyed': 664, 'blues': 665, 'bluesmartie': 666, 'bluntly': 667, 'blur': 668, 'blurred': 669, 'blurry': 670, 'blurs': 671, 'bmovie': 672, 'bmovies': 673, 'board': 674, 'boarded': 675, 'boat': 676, 'boatload': 677, 'bob': 678, 'bodies': 679, 'bogdanovich': 680, 'bogdanovichs': 681, 'bogdonavitch': 682, 'bogdonovich': 683, 'bomb': 684, 'bone': 685, 'bonnie': 686, 'bonus': 687, 'boob': 688, 'book': 689, 'bookbr': 690, 'bookbut': 691, 'books': 692, 'booth': 693, 'borders': 694, 'bore': 695, 'bored': 696, 'borefeast': 697, 'boring': 698, 'boringfor': 699, 'boston': 700, 'botched': 701, 'both': 702, 'bother': 703, 'bothered': 704, 'bottle': 705, 'bottles': 706, 'bottom': 707, 'bought': 708, 'bounce': 709, 'bows': 710, 'box': 711, 'boxbr': 712, 'boy': 713, 'boyfriend': 714, 'boys': 715, 'br': 716, 'bra': 717, 'brad': 718, 'brain': 719, 'brains': 720, 'brakesbr': 721, 'brand': 722, 'brandnew': 723, 'brats': 724, 'bratty': 725, 'brave': 726, 'brazil': 727, 'brazilian': 728, 'breakdown': 729, 'breakfast': 730, 'breaking': 731, 'breaks': 732, 'breasts': 733, 'breath': 734, 'breathing': 735, 'breeze': 736, 'breezy': 737, 'brett': 738, 'brick': 739, 'brides': 740, 'brief': 741, 'briefly': 742, 'bright': 743, 'brilliance': 744, 'bring': 745, 'bringing': 746, 'brings': 747, 'brining': 748, 'britain': 749, 'british': 750, 'broadcast': 751, 'broadway': 752, 'broken': 753, 'brooke': 754, 'brooklynamerican': 755, 'brosnans': 756, 'brother': 757, 'brotherafter': 758, 'brothers': 759, 'brought': 760, 'brouhaha': 761, 'brown': 762, 'browning': 763, 'bruce': 764, 'brush': 765, 'brutal': 766, 'brutally': 767, 'bs': 768, 'buchfellner': 769, 'bucks': 770, 'bucksbr': 771, 'budding': 772, 'buddy': 773, 'budget': 774, 'buff': 775, 'buffalo': 776, 'bug': 777, 'build': 778, 'built': 779, 'bulging': 780, 'bulgingeyed': 781, 'bulk': 782, 'bullets': 783, 'bum': 784, 'bummer': 785, 'bumpsbut': 786, 'bunch': 787, 'bunnies': 788, 'bunny': 789, 'burial': 790, 'buried': 791, 'buries': 792, 'burn': 793, 'burned': 794, 'burns': 795, 'burr': 796, 'burst': 797, 'bursting': 798, 'burt': 799, 'bush': 800, 'business': 801, 'but': 802, 'butand': 803, 'butch': 804, 'butt': 805, 'buy': 806, 'buyer': 807, 'buying': 808, 'buzz': 809, 'by': 810, 'byrne': 811, 'c': 812, 'cabaret': 813, 'cable': 814, 'cabo': 815, 'cacophonous': 816, 'cactus': 817, 'cad': 818, 'calamitous': 819, 'calamity': 820, 'call': 821, 'called': 822, 'calling': 823, 'callingbr': 824, 'calls': 825, 'camcorder': 826, 'came': 827, 'camel': 828, 'camera': 829, 'camerabr': 830, 'camerawork': 831, 'camp': 832, 'campers': 833, 'camping': 834, 'campsite': 835, 'can': 836, 'cancel': 837, 'cancels': 838, 'cancer': 839, 'candy': 840, 'canned': 841, 'cannibal': 842, 'cannibals': 843, 'cannot': 844, 'canon': 845, 'cant': 846, 'capital': 847, 'capras': 848, 'capsule': 849, 'captured': 850, 'capturing': 851, 'car': 852, 'card': 853, 'cardboard': 854, 'cards': 855, 'care': 856, 'cared': 857, 'career': 858, 'careers': 859, 'careys': 860, 'caricature': 861, 'caring': 862, 'carlos': 863, 'carol': 864, 'carried': 865, 'carry': 866, 'cartoon': 867, 'cartoonbr': 868, 'cartoonish': 869, 'cartoons': 870, 'case': 871, 'cash': 872, 'cassidy': 873, 'cast': 874, 'casting': 875, 'castros': 876, 'casually': 877, 'catalan': 878, 'cataluñas': 879, 'catastrophic': 880, 'catch': 881, 'catches': 882, 'categories': 883, 'category': 884, 'cater': 885, 'catholicism': 886, 'cats': 887, 'catsgotcanary': 888, 'cattle': 889, 'caught': 890, 'caused': 891, 'causes': 892, 'cave': 893, 'cavorting': 894, 'celebrate': 895, 'celebrated': 896, 'celebration': 897, 'celebrity': 898, 'cell': 899, 'cellarbr': 900, 'celoron': 901, 'censorship': 902, 'center': 903, 'centered': 904, 'centerfold': 905, 'central': 906, 'cents': 907, 'centuries': 908, 'century': 909, 'certain': 910, 'certainly': 911, 'cesspool': 912, 'cgi': 913, 'chace': 914, 'chained': 915, 'chalk': 916, 'challenge': 917, 'chamber': 918, 'chance': 919, 'chances': 920, 'change': 921, 'changed': 922, 'channel': 923, 'chantings': 924, 'chaotic': 925, 'character': 926, 'characters': 927, 'charge': 928, 'charles': 929, 'charlie': 930, 'charm': 931, 'charming': 932, 'chasing': 933, 'cheap': 934, 'cheaper': 935, 'cheapest': 936, 'cheaply': 937, 'cheapo': 938, 'cheated': 939, 'cheating': 940, 'check': 941, 'checked': 942, 'checking': 943, 'cheerleaders': 944, 'cheese': 945, 'cheesy': 946, 'chemistry': 947, 'chesterton': 948, 'chewing': 949, 'chews': 950, 'chic': 951, 'chick': 952, 'child': 953, 'children': 954, 'childrens': 955, 'china': 956, 'chip': 957, 'chloe': 958, 'chocolate': 959, 'choice': 960, 'choir': 961, 'choose': 962, 'chooses': 963, 'choppy': 964, 'chopras': 965, 'chore': 966, 'chose': 967, 'chosen': 968, 'chris': 969, 'christian': 970, 'christians': 971, 'christmas': 972, 'christmastimebr': 973, 'chronically': 974, 'chronicle': 975, 'chronicles': 976, 'chroniclesbr': 977, 'church': 978, 'churns': 979, 'cinderella': 980, 'cinema': 981, 'cinematic': 982, 'cinematography': 983, 'cinemusique': 984, 'circumstances': 985, 'circus': 986, 'citizens': 987, 'city': 988, 'citystyle': 989, 'civil': 990, 'civility': 991, 'claim': 992, 'claimed': 993, 'clan': 994, 'clancy': 995, 'clark': 996, 'clarks': 997, 'class': 998, 'classed': 999, 'classes': 1000, 'classic': 1001, 'classical': 1002, 'classics': 1003, 'classmates': 1004, 'claustrophobic': 1005, 'clean': 1006, 'clear': 1007, 'clearly': 1008, 'clever': 1009, 'cliche': 1010, 'clicheridden': 1011, 'cliché': 1012, 'clichéd': 1013, 'clichés': 1014, 'clients': 1015, 'cliff': 1016, 'clifford': 1017, 'climaxes': 1018, 'climbing': 1019, 'clinic': 1020, 'clitoris': 1021, 'cliver': 1022, 'clooney': 1023, 'close': 1024, 'closely': 1025, 'closer': 1026, 'closeups': 1027, 'clothes': 1028, 'clothing': 1029, 'clowns': 1030, 'club': 1031, 'cluba': 1032, 'clubs': 1033, 'clue': 1034, 'clumsy': 1035, 'clunker': 1036, 'clunky': 1037, 'clyde': 1038, 'coast': 1039, 'coat': 1040, 'cocktail': 1041, 'code': 1042, 'coffeshop': 1043, 'cogent': 1044, 'coincidences': 1045, 'cold': 1046, 'cole': 1047, 'colebr': 1048, 'collapse': 1049, 'collateral': 1050, 'collection': 1051, 'colleen': 1052, 'college': 1053, 'colombo': 1054, 'color': 1055, 'colors': 1056, 'coloured': 1057, 'columbus': 1058, 'combination': 1059, 'combine': 1060, 'combo': 1061, 'combr': 1062, 'come': 1063, 'comedian': 1064, 'comedienne': 1065, 'comedies': 1066, 'comedy': 1067, 'comedybr': 1068, 'comes': 1069, 'comeunfortunatelybr': 1070, 'comfort': 1071, 'comfortable': 1072, 'comfortably': 1073, 'comforting': 1074, 'comic': 1075, 'coming': 1076, 'commend': 1077, 'comment': 1078, 'commentbr': 1079, 'commenting': 1080, 'comments': 1081, 'commercial': 1082, 'commercialism': 1083, 'commits': 1084, 'common': 1085, 'commonly': 1086, 'companions': 1087, 'company': 1088, 'companys': 1089, 'compared': 1090, 'comparing': 1091, 'comparisonbr': 1092, 'compelled': 1093, 'competence': 1094, 'competent': 1095, 'competition': 1096, 'complain': 1097, 'complete': 1098, 'completely': 1099, 'completists': 1100, 'complicate': 1101, 'complicating': 1102, 'components': 1103, 'comprehensively': 1104, 'concept': 1105, 'concerned': 1106, 'concernedbr': 1107, 'concerns': 1108, 'concession': 1109, 'conclusion': 1110, 'condemned': 1111, 'condensed': 1112, 'condo': 1113, 'condon': 1114, 'confess': 1115, 'confesses': 1116, 'confident': 1117, 'confirmation': 1118, 'confirming': 1119, 'confirms': 1120, 'conflict': 1121, 'conflicts': 1122, 'conformed': 1123, 'confrontation': 1124, 'confronted': 1125, 'confused': 1126, 'confusing': 1127, 'confusion': 1128, 'congratulate': 1129, 'congregationbr': 1130, 'connect': 1131, 'connected': 1132, 'connection': 1133, 'connery': 1134, 'cons': 1135, 'consequently': 1136, 'conservative': 1137, 'consider': 1138, 'considered': 1139, 'considering': 1140, 'consists': 1141, 'constable': 1142, 'constant': 1143, 'constantly': 1144, 'constitution': 1145, 'constructed': 1146, 'consulted': 1147, 'contained': 1148, 'contains': 1149, 'contamination': 1150, 'contender': 1151, 'content': 1152, 'context': 1153, 'continent': 1154, 'continue': 1155, 'continues': 1156, 'continuing': 1157, 'continuity': 1158, 'contrary': 1159, 'contribute': 1160, 'contrived': 1161, 'control': 1162, 'controlled': 1163, 'controversial': 1164, 'controversy': 1165, 'convey': 1166, 'conviction': 1167, 'convince': 1168, 'convinced': 1169, 'convincing': 1170, 'convoluted': 1171, 'cooed': 1172, 'cook': 1173, 'cookie': 1174, 'cool': 1175, 'cop': 1176, 'copies': 1177, 'copious': 1178, 'coproduction': 1179, 'copy': 1180, 'coquettish': 1181, 'corey': 1182, 'corner': 1183, 'corny': 1184, 'corpse': 1185, 'correct': 1186, 'correctly': 1187, 'corruption': 1188, 'cost': 1189, 'costars': 1190, 'costners': 1191, 'costs': 1192, 'costume': 1193, 'costumes': 1194, 'cotton': 1195, 'could': 1196, 'couldnt': 1197, 'count': 1198, 'counting': 1199, 'countless': 1200, 'country': 1201, 'countrybr': 1202, 'countrymen': 1203, 'countrys': 1204, 'countryside': 1205, 'couple': 1206, 'coupled': 1207, 'couples': 1208, 'courageous': 1209, 'course': 1210, 'cover': 1211, 'covered': 1212, 'cowards': 1213, 'cowriting': 1214, 'cowritten': 1215, 'cozy': 1216, 'crack': 1217, 'craft': 1218, 'cram': 1219, 'crank': 1220, 'crap': 1221, 'crapbr': 1222, 'crappy': 1223, 'craptacular': 1224, 'cratchit': 1225, 'crawford': 1226, 'crawl': 1227, 'crawls': 1228, 'crazed': 1229, 'crazy': 1230, 'create': 1231, 'created': 1232, 'creating': 1233, 'creation': 1234, 'creative': 1235, 'creativity': 1236, 'creator': 1237, 'creators': 1238, 'creatures': 1239, 'credentials': 1240, 'credibility': 1241, 'credit': 1242, 'credited': 1243, 'credits': 1244, 'crew': 1245, 'crib': 1246, 'cribbins': 1247, 'cried': 1248, 'crime': 1249, 'criminal': 1250, 'criminals': 1251, 'cringe': 1252, 'critic': 1253, 'criticize': 1254, 'criticizing': 1255, 'critics': 1256, 'cronies': 1257, 'cropped': 1258, 'cross': 1259, 'crosses': 1260, 'crossing': 1261, 'crotch': 1262, 'crowds': 1263, 'crude': 1264, 'cruel': 1265, 'cruelty': 1266, 'crushed': 1267, 'cry': 1268, 'crying': 1269, 'cryptic': 1270, 'cubitt': 1271, 'cue': 1272, 'cult': 1273, 'cultural': 1274, 'culturally': 1275, 'culture': 1276, 'cup': 1277, 'cupboards': 1278, 'curing': 1279, 'curio': 1280, 'curious': 1281, 'curiousyellow': 1282, 'cuss': 1283, 'cussing': 1284, 'customers': 1285, 'customs': 1286, 'cut': 1287, 'cute': 1288, 'cuteness': 1289, 'cuts': 1290, 'cutsbr': 1291, 'cutting': 1292, 'cybil': 1293, 'cybill': 1294, 'cynical': 1295, 'd': 1296, 'dad': 1297, 'daffodils': 1298, 'daisy': 1299, 'dallas': 1300, 'damage': 1301, 'damaged': 1302, 'dame': 1303, 'damn': 1304, 'dan': 1305, 'dancer': 1306, 'dancing': 1307, 'dancingas': 1308, 'dang': 1309, 'danger': 1310, 'danny': 1311, 'dark': 1312, 'darker': 1313, 'darkest': 1314, 'darkness': 1315, 'darn': 1316, 'darts': 1317, 'date': 1318, 'datebr': 1319, 'daughter': 1320, 'daughterbr': 1321, 'daughters': 1322, 'david': 1323, 'davis': 1324, 'day': 1325, 'days': 1326, 'dc': 1327, 'de': 1328, 'dead': 1329, 'deadening': 1330, 'deaf': 1331, 'deal': 1332, 'dealing': 1333, 'dear': 1334, 'death': 1335, 'deaths': 1336, 'debts': 1337, 'decades': 1338, 'decapitated': 1339, 'decapitation': 1340, 'deceive': 1341, 'decent': 1342, 'deceptive': 1343, 'decide': 1344, 'decided': 1345, 'decides': 1346, 'deciding': 1347, 'decisions': 1348, 'declare': 1349, 'dedication': 1350, 'dee': 1351, 'deedee': 1352, 'deep': 1353, 'deepest': 1354, 'deerintheheadlights': 1355, 'dees': 1356, 'defend': 1357, 'defending': 1358, 'define': 1359, 'definitely': 1360, 'definitions': 1361, 'definitive': 1362, 'deformed': 1363, 'degree': 1364, 'delhi': 1365, 'delighted': 1366, 'delightful': 1367, 'delights': 1368, 'deliver': 1369, 'delivered': 1370, 'delivering': 1371, 'delivers': 1372, 'delivery': 1373, 'delphine': 1374, 'demand': 1375, 'demanded': 1376, 'demanding': 1377, 'demeaning': 1378, 'democracy': 1379, 'demonstrate': 1380, 'demonstrates': 1381, 'demonstrative': 1382, 'demure': 1383, 'demy': 1384, 'deniro': 1385, 'deniz': 1386, 'denizens': 1387, 'denominator': 1388, 'department': 1389, 'depraved': 1390, 'depressing': 1391, 'depressingly': 1392, 'deprived': 1393, 'depth': 1394, 'deputy': 1395, 'derided': 1396, 'derived': 1397, 'derringdo': 1398, 'descendant': 1399, 'descending': 1400, 'descends': 1401, 'described': 1402, 'desert': 1403, 'deserved': 1404, 'deserves': 1405, 'deserving': 1406, 'desi': 1407, 'design': 1408, 'designed': 1409, 'designs': 1410, 'desired': 1411, 'desiredbr': 1412, 'desperate': 1413, 'despite': 1414, 'destination': 1415, 'destroyed': 1416, 'destruction': 1417, 'destructive': 1418, 'detail': 1419, 'details': 1420, 'detective': 1421, 'detectives': 1422, 'deteriorated': 1423, 'detestably': 1424, 'deuce': 1425, 'develop': 1426, 'developed': 1427, 'development': 1428, 'developments': 1429, 'device': 1430, 'devil': 1431, 'devise': 1432, 'devoid': 1433, 'devour': 1434, 'diabolical': 1435, 'dialect': 1436, 'dialog': 1437, 'dialogs': 1438, 'dialogue': 1439, 'dialoguebr': 1440, 'dicked': 1441, 'dickens': 1442, 'dictate': 1443, 'dictating': 1444, 'did': 1445, 'didnt': 1446, 'didntbr': 1447, 'die': 1448, 'died': 1449, 'diehard': 1450, 'difference': 1451, 'different': 1452, 'differentbr': 1453, 'difficult': 1454, 'difficulty': 1455, 'dig': 1456, 'dignitary': 1457, 'dignity': 1458, 'dimension': 1459, 'dimensional': 1460, 'dimensionalbr': 1461, 'diminishes': 1462, 'dinosaurs': 1463, 'diplomat': 1464, 'dipped': 1465, 'dire': 1466, 'direct': 1467, 'directed': 1468, 'directing': 1469, 'direction': 1470, 'directions': 1471, 'directly': 1472, 'director': 1473, 'directordevil': 1474, 'directors': 1475, 'directorthat': 1476, 'directs': 1477, 'dirty': 1478, 'disagree': 1479, 'disappointed': 1480, 'disappointing': 1481, 'disappointingpaper': 1482, 'disappointment': 1483, 'disapproval': 1484, 'disaster': 1485, 'disastrous': 1486, 'disbelief': 1487, 'disc': 1488, 'discarded': 1489, 'discernable': 1490, 'discourage': 1491, 'discover': 1492, 'discovery': 1493, 'discs': 1494, 'disdain': 1495, 'diseasebr': 1496, 'disguisebr': 1497, 'disgusted': 1498, 'disgusting': 1499, 'disgustingly': 1500, 'disjointed': 1501, 'display': 1502, 'disposalbr': 1503, 'disputes': 1504, 'disrespect': 1505, 'disrespected': 1506, 'disservice': 1507, 'distance': 1508, 'distinguish': 1509, 'distorted': 1510, 'distortions': 1511, 'distract': 1512, 'distributed': 1513, 'disturbing': 1514, 'ditzy': 1515, 'divorced': 1516, 'do': 1517, 'doa': 1518, 'doc': 1519, 'docudrama': 1520, 'documentary': 1521, 'documented': 1522, 'doe': 1523, 'does': 1524, 'doesbr': 1525, 'doesnt': 1526, 'dog': 1527, 'dogville': 1528, 'doing': 1529, 'doingbr': 1530, 'domain': 1531, 'dominated': 1532, 'donatello': 1533, 'done': 1534, 'donna': 1535, 'dons': 1536, 'dont': 1537, 'doodles': 1538, 'doomed': 1539, 'door': 1540, 'doppleganger': 1541, 'dorothy': 1542, 'dotsbr': 1543, 'double': 1544, 'doublecross': 1545, 'doubleheaded': 1546, 'doublestandard': 1547, 'doublevision': 1548, 'doubt': 1549, 'doubtfully': 1550, 'dovey': 1551, 'down': 1552, 'downbr': 1553, 'downer': 1554, 'downey': 1555, 'downhill': 1556, 'download': 1557, 'downloading': 1558, 'downtrodden': 1559, 'dozen': 1560, 'dozens': 1561, 'dpp': 1562, 'dpps': 1563, 'dr': 1564, 'drab': 1565, 'drag': 1566, 'dragged': 1567, 'dragging': 1568, 'dragonlord': 1569, 'drags': 1570, 'drain': 1571, 'draino': 1572, 'drama': 1573, 'dramatic': 1574, 'dramaticisation': 1575, 'dramatism': 1576, 'draper': 1577, 'draperbr': 1578, 'draw': 1579, 'drawing': 1580, 'drawn': 1581, 'dreadful': 1582, 'dreadfully': 1583, 'dream': 1584, 'dreamed': 1585, 'dreamland': 1586, 'dreamy': 1587, 'dreary': 1588, 'dreck': 1589, 'dribble': 1590, 'drifting': 1591, 'drifts': 1592, 'drink': 1593, 'drinking': 1594, 'dripping': 1595, 'drive': 1596, 'drivel': 1597, 'driven': 1598, 'driving': 1599, 'droning': 1600, 'drop': 1601, 'drug': 1602, 'drugs': 1603, 'drums': 1604, 'drunk': 1605, 'dry': 1606, 'dub': 1607, 'dubbed': 1608, 'dubbing': 1609, 'dubious': 1610, 'dubiousbr': 1611, 'dude': 1612, 'due': 1613, 'dull': 1614, 'dullards': 1615, 'dullest': 1616, 'dumb': 1617, 'dumbest': 1618, 'dunne': 1619, 'during': 1620, 'duty': 1621, 'duvall': 1622, 'duvalls': 1623, 'dvd': 1624, 'dwindles': 1625, 'dying': 1626, 'e': 1627, 'each': 1628, 'eagerly': 1629, 'ear': 1630, 'eareating': 1631, 'earl': 1632, 'earlier': 1633, 'early': 1634, 'earn': 1635, 'earns': 1636, 'earp': 1637, 'earth': 1638, 'earthbound': 1639, 'easily': 1640, 'eastern': 1641, 'easy': 1642, 'eat': 1643, 'eating': 1644, 'eats': 1645, 'ebenezer': 1646, 'echo': 1647, 'echos': 1648, 'ecstasy': 1649, 'ed': 1650, 'edgerton': 1651, 'edible': 1652, 'edit': 1653, 'edited': 1654, 'editing': 1655, 'editors': 1656, 'edits': 1657, 'edtv': 1658, 'educational': 1659, 'edward': 1660, 'effect': 1661, 'effectbr': 1662, 'effective': 1663, 'effectively': 1664, 'effects': 1665, 'effort': 1666, 'effortbr': 1667, 'efforts': 1668, 'effusively': 1669, 'eighty': 1670, 'either': 1671, 'eitherbr': 1672, 'eitheri': 1673, 'ekta': 1674, 'el': 1675, 'election': 1676, 'elegantly': 1677, 'elements': 1678, 'elevate': 1679, 'elite': 1680, 'else': 1681, 'elsewhere': 1682, 'embarrassed': 1683, 'embarrassing': 1684, 'embarrassment': 1685, 'embrace': 1686, 'embraced': 1687, 'emerged': 1688, 'emergedbr': 1689, 'emerging': 1690, 'emily': 1691, 'emir': 1692, 'emmy': 1693, 'emotion': 1694, 'emotional': 1695, 'emotionless': 1696, 'emotions': 1697, 'emotionsbr': 1698, 'empathy': 1699, 'emphasize': 1700, 'empire': 1701, 'employed': 1702, 'empty': 1703, 'en': 1704, 'encounter': 1705, 'encountered': 1706, 'encounters': 1707, 'encourage': 1708, 'end': 1709, 'endearing': 1710, 'ended': 1711, 'ending': 1712, 'endings': 1713, 'endingtype': 1714, 'endless': 1715, 'endlessly': 1716, 'ends': 1717, 'endure': 1718, 'enemies': 1719, 'enforcement': 1720, 'enforcer': 1721, 'engage': 1722, 'engaged': 1723, 'engaging': 1724, 'engalnd': 1725, 'england': 1726, 'english': 1727, 'englishliverpudlian': 1728, 'enhancement': 1729, 'enjoy': 1730, 'enjoyable': 1731, 'enjoyablebr': 1732, 'enjoyed': 1733, 'enlivened': 1734, 'enough': 1735, 'enraged': 1736, 'ensure': 1737, 'enter': 1738, 'entertain': 1739, 'entertained': 1740, 'entertainedbr': 1741, 'entertaining': 1742, 'entertainment': 1743, 'enthusiastic': 1744, 'enthusiastically': 1745, 'entire': 1746, 'entirely': 1747, 'environment': 1748, 'environs': 1749, 'epic': 1750, 'episode': 1751, 'episodes': 1752, 'equally': 1753, 'equates': 1754, 'equilibrium': 1755, 'equinox': 1756, 'equipment': 1757, 'era': 1758, 'eraincluding': 1759, 'erm': 1760, 'ernest': 1761, 'ernst': 1762, 'erotic': 1763, 'erotica': 1764, 'errors': 1765, 'escape': 1766, 'escaped': 1767, 'escapejust': 1768, 'escapes': 1769, 'especially': 1770, 'especiallybr': 1771, 'essay': 1772, 'essence': 1773, 'establishment': 1774, 'estate': 1775, 'esteban': 1776, 'esthetes': 1777, 'etc': 1778, 'eternal': 1779, 'ethel': 1780, 'ethnic': 1781, 'euro': 1782, 'eurocannibal': 1783, 'eurocult': 1784, 'europa': 1785, 'europe': 1786, 'european': 1787, 'eurotrash': 1788, 'eva': 1789, 'even': 1790, 'event': 1791, 'events': 1792, 'eventually': 1793, 'ever': 1794, 'everbr': 1795, 'everpresent': 1796, 'every': 1797, 'everybody': 1798, 'everyone': 1799, 'everything': 1800, 'everythingbr': 1801, 'evil': 1802, 'evolve': 1803, 'ewoks': 1804, 'exact': 1805, 'exactly': 1806, 'exaggerated': 1807, 'examining': 1808, 'example': 1809, 'examples': 1810, 'excellent': 1811, 'except': 1812, 'exception': 1813, 'exceptional': 1814, 'excess': 1815, 'exchange': 1816, 'excited': 1817, 'excitement': 1818, 'exclaiming': 1819, 'excrement': 1820, 'excruciating': 1821, 'excuse': 1822, 'excuses': 1823, 'executed': 1824, 'execution': 1825, 'executioners': 1826, 'executive': 1827, 'exercise': 1828, 'exgirlfriend': 1829, 'exhaustion': 1830, 'exhumed': 1831, 'exist': 1832, 'existence': 1833, 'existencebr': 1834, 'exists': 1835, 'expand': 1836, 'expect': 1837, 'expectations': 1838, 'expected': 1839, 'expecting': 1840, 'expense': 1841, 'experience': 1842, 'experiment': 1843, 'explain': 1844, 'explained': 1845, 'explains': 1846, 'explicit': 1847, 'exploitation': 1848, 'exploitative': 1849, 'explored': 1850, 'explosion': 1851, 'exposed': 1852, 'express': 1853, 'expressed': 1854, 'expression': 1855, 'expressions': 1856, 'extending': 1857, 'extra': 1858, 'extras': 1859, 'extravagant': 1860, 'extreme': 1861, 'extremely': 1862, 'extrovert': 1863, 'eye': 1864, 'eyeballs': 1865, 'eyecatching': 1866, 'eyes': 1867, 'eyesbr': 1868, 'f': 1869, 'fabulous': 1870, 'face': 1871, 'faceless': 1872, 'facets': 1873, 'fact': 1874, 'factbr': 1875, 'factor': 1876, 'factory': 1877, 'facts': 1878, 'factual': 1879, 'fail': 1880, 'failed': 1881, 'fails': 1882, 'failure': 1883, 'faint': 1884, 'faintest': 1885, 'fair': 1886, 'fairly': 1887, 'fake': 1888, 'fakesad': 1889, 'falk': 1890, 'fall': 1891, 'falling': 1892, 'falls': 1893, 'falsely': 1894, 'familiar': 1895, 'families': 1896, 'family': 1897, 'familys': 1898, 'famous': 1899, 'fan': 1900, 'fanatic': 1901, 'fanaticism': 1902, 'fanciful': 1903, 'fancifully': 1904, 'fancy': 1905, 'fans': 1906, 'fantasies': 1907, 'fantastic': 1908, 'fantasy': 1909, 'far': 1910, 'farce': 1911, 'fare': 1912, 'fares': 1913, 'farfetched': 1914, 'farm': 1915, 'fascinating': 1916, 'fashion': 1917, 'fashioned': 1918, 'fast': 1919, 'faster': 1920, 'fastforward': 1921, 'fastmotion': 1922, 'fat': 1923, 'fatal': 1924, 'fate': 1925, 'father': 1926, 'fault': 1927, 'favorite': 1928, 'favour': 1929, 'fear': 1930, 'feature': 1931, 'featured': 1932, 'features': 1933, 'feeble': 1934, 'feebly': 1935, 'feel': 1936, 'feeling': 1937, 'feelings': 1938, 'feels': 1939, 'fell': 1940, 'fellner': 1941, 'fellow': 1942, 'felt': 1943, 'female': 1944, 'ferox': 1945, 'fest': 1946, 'fetch': 1947, 'fetched': 1948, 'few': 1949, 'fiction': 1950, 'fictional': 1951, 'fictionalizing': 1952, 'fiend': 1953, 'fifteen': 1954, 'fifth': 1955, 'fifty': 1956, 'fiftytwo': 1957, 'fight': 1958, 'fighting': 1959, 'figure': 1960, 'figures': 1961, 'fill': 1962, 'filler': 1963, 'filling': 1964, 'film': 1965, 'filmbr': 1966, 'filmed': 1967, 'filmic': 1968, 'filming': 1969, 'filminstead': 1970, 'filmits': 1971, 'filmmaker': 1972, 'filmmakers': 1973, 'filmmaking': 1974, 'films': 1975, 'filmsbr': 1976, 'final': 1977, 'finales': 1978, 'finally': 1979, 'financed': 1980, 'financial': 1981, 'find': 1982, 'finding': 1983, 'finds': 1984, 'fine': 1985, 'finer': 1986, 'fingers': 1987, 'finish': 1988, 'finished': 1989, 'finishing': 1990, 'finlay': 1991, 'fire': 1992, 'fired': 1993, 'firedand': 1994, 'first': 1995, 'firstbr': 1996, 'fish': 1997, 'fist': 1998, 'fistfight': 1999, 'fit': 2000, 'fitzpatrick': 2001, 'five': 2002, 'fixed': 2003, 'fk': 2004, 'flakey': 2005, 'flap': 2006, 'flapping': 2007, 'flash': 2008, 'flashback': 2009, 'flashbacks': 2010, 'flashing': 2011, 'flashlight': 2012, 'flashy': 2013, 'flatbr': 2014, 'flawed': 2015, 'flaws': 2016, 'flawsbr': 2017, 'fleeting': 2018, 'fleischer': 2019, 'flesh': 2020, 'flesheating': 2021, 'fleshed': 2022, 'fleshpigtailed': 2023, 'flick': 2024, 'flickering': 2025, 'flicking': 2026, 'flicks': 2027, 'flipped': 2028, 'flock': 2029, 'flocked': 2030, 'flood': 2031, 'floor': 2032, 'floored': 2033, 'flow': 2034, 'flower': 2035, 'flowers': 2036, 'fluff': 2037, 'flunky': 2038, 'fluttery': 2039, 'focus': 2040, 'focusing': 2041, 'fogging': 2042, 'foggy': 2043, 'folk': 2044, 'follow': 2045, 'followed': 2046, 'following': 2047, 'follows': 2048, 'fondas': 2049, 'food': 2050, 'footage': 2051, 'football': 2052, 'footnote': 2053, 'for': 2054, 'forbidden': 2055, 'force': 2056, 'forced': 2057, 'forcing': 2058, 'ford': 2059, 'foreign': 2060, 'forever': 2061, 'forget': 2062, 'forgetable': 2063, 'forgettablebr': 2064, 'forgivable': 2065, 'forgot': 2066, 'forgotten': 2067, 'forgottenbr': 2068, 'form': 2069, 'formal': 2070, 'format': 2071, 'former': 2072, 'formerly': 2073, 'forming': 2074, 'formula': 2075, 'forrest': 2076, 'forth': 2077, 'fortunantely': 2078, 'fortunately': 2079, 'fortynine': 2080, 'forward': 2081, 'forwarded': 2082, 'forwards': 2083, 'fosses': 2084, 'found': 2085, 'foundation': 2086, 'fount': 2087, 'four': 2088, 'fourbr': 2089, 'fourteen': 2090, 'foxx': 2091, 'foxxs': 2092, 'frailty': 2093, 'framework': 2094, 'franchise': 2095, 'francis': 2096, 'francisca': 2097, 'franco': 2098, 'francos': 2099, 'frank': 2100, 'frankly': 2101, 'freak': 2102, 'freaked': 2103, 'freakiest': 2104, 'freaks': 2105, 'freckles': 2106, 'fred': 2107, 'frederic': 2108, 'free': 2109, 'freebie': 2110, 'freeway': 2111, 'freezeframes': 2112, 'french': 2113, 'frequent': 2114, 'fresh': 2115, 'fridge': 2116, 'friend': 2117, 'friends': 2118, 'friendship': 2119, 'friggen': 2120, 'frightening': 2121, 'from': 2122, 'frontal': 2123, 'frontier': 2124, 'fudoh': 2125, 'fugitive': 2126, 'fulci': 2127, 'full': 2128, 'fullest': 2129, 'fullframe': 2130, 'fully': 2131, 'fun': 2132, 'funbr': 2133, 'function': 2134, 'functional': 2135, 'funding': 2136, 'funds': 2137, 'funniest': 2138, 'funny': 2139, 'fuqua': 2140, 'fuquas': 2141, 'furious': 2142, 'furlong': 2143, 'furnished': 2144, 'furs': 2145, 'further': 2146, 'furthermore': 2147, 'futile': 2148, 'future': 2149, 'futurebr': 2150, 'futuristic': 2151, 'féminin': 2152, 'g': 2153, 'gabor': 2154, 'gag': 2155, 'gags': 2156, 'gained': 2157, 'gal': 2158, 'galaxina': 2159, 'gallos': 2160, 'galumphing': 2161, 'game': 2162, 'gang': 2163, 'gangster': 2164, 'gaol': 2165, 'gaping': 2166, 'garage': 2167, 'garb': 2168, 'garbage': 2169, 'garbagebr': 2170, 'garbo': 2171, 'gardens': 2172, 'garrett': 2173, 'gate': 2174, 'gates': 2175, 'gave': 2176, 'gay': 2177, 'gazarra': 2178, 'gazzara': 2179, 'gcse': 2180, 'gear': 2181, 'gems': 2182, 'general': 2183, 'generally': 2184, 'generation': 2185, 'generations': 2186, 'generics': 2187, 'generosity': 2188, 'generous': 2189, 'generously': 2190, 'genitals': 2191, 'genius': 2192, 'geniusbr': 2193, 'genre': 2194, 'genres': 2195, 'gentleman': 2196, 'geoffrey': 2197, 'geographic': 2198, 'geographical': 2199, 'geographically': 2200, 'george': 2201, 'german': 2202, 'germany': 2203, 'gershwin': 2204, 'gesture': 2205, 'get': 2206, 'gets': 2207, 'getting': 2208, 'ghost': 2209, 'ghosting': 2210, 'ghosts': 2211, 'ghostzombies': 2212, 'ghoulish': 2213, 'giant': 2214, 'gift': 2215, 'gifts': 2216, 'giggled': 2217, 'giggles': 2218, 'gigglesome': 2219, 'gimmicks': 2220, 'gimmicky': 2221, 'ginger': 2222, 'girl': 2223, 'girlbr': 2224, 'girlfriend': 2225, 'girlfriends': 2226, 'girls': 2227, 'gisela': 2228, 'give': 2229, 'given': 2230, 'gives': 2231, 'giving': 2232, 'glad': 2233, 'glass': 2234, 'glasses': 2235, 'glimpse': 2236, 'glitches': 2237, 'global': 2238, 'gloombr': 2239, 'glorify': 2240, 'glory': 2241, 'glow': 2242, 'glowing': 2243, 'gnarly': 2244, 'go': 2245, 'goal': 2246, 'god': 2247, 'godards': 2248, 'godawful': 2249, 'godbr': 2250, 'goddard': 2251, 'goers': 2252, 'goes': 2253, 'going': 2254, 'goldie': 2255, 'goldies': 2256, 'gone': 2257, 'gonna': 2258, 'good': 2259, 'goodasgold': 2260, 'goodbye': 2261, 'goodlooking': 2262, 'goof': 2263, 'goofs': 2264, 'goofy': 2265, 'goosey': 2266, 'gore': 2267, 'gorgeous': 2268, 'gory': 2269, 'got': 2270, 'gotta': 2271, 'gotten': 2272, 'gouge': 2273, 'government': 2274, 'gozu': 2275, 'grab': 2276, 'grabbed': 2277, 'grabs': 2278, 'grace': 2279, 'grade': 2280, 'grader': 2281, 'grading': 2282, 'graduation': 2283, 'grail': 2284, 'grainy': 2285, 'grandparents': 2286, 'grant': 2287, 'granted': 2288, 'graphically': 2289, 'grasp': 2290, 'gratuitous': 2291, 'grave': 2292, 'gravebr': 2293, 'great': 2294, 'greater': 2295, 'greatest': 2296, 'greatness': 2297, 'greedy': 2298, 'gregor': 2299, 'greydon': 2300, 'grief': 2301, 'griffiths': 2302, 'grin': 2303, 'grippingbr': 2304, 'grizzled': 2305, 'groaning': 2306, 'groans': 2307, 'gross': 2308, 'grossly': 2309, 'ground': 2310, 'groundbr': 2311, 'groundwork': 2312, 'group': 2313, 'grousing': 2314, 'grow': 2315, 'growingbr': 2316, 'growls': 2317, 'grown': 2318, 'grrrrrrrrrr': 2319, 'grudgingly': 2320, 'gruesome': 2321, 'grunting': 2322, 'guarded': 2323, 'guards': 2324, 'guess': 2325, 'guessing': 2326, 'guesswork': 2327, 'guide': 2328, 'guides': 2329, 'guilt': 2330, 'guilty': 2331, 'guitar': 2332, 'gun': 2333, 'gunfight': 2334, 'guns': 2335, 'gut': 2336, 'guts': 2337, 'guy': 2338, 'guys': 2339, 'hackbr': 2340, 'hackneyed': 2341, 'had': 2342, 'hadbr': 2343, 'hadnt': 2344, 'hadntbr': 2345, 'haggerty': 2346, 'haggertys': 2347, 'haha': 2348, 'hahk': 2349, 'hahn': 2350, 'hain': 2351, 'hair': 2352, 'hairdovery': 2353, 'half': 2354, 'halfassed': 2355, 'halfbakedbr': 2356, 'halfhearted': 2357, 'halfheartedly': 2358, 'halfway': 2359, 'hallmark': 2360, 'halloween': 2361, 'hamfisted': 2362, 'hammer': 2363, 'hammering': 2364, 'hampshire': 2365, 'hand': 2366, 'handed': 2367, 'handful': 2368, 'handle': 2369, 'handled': 2370, 'hands': 2371, 'handsome': 2372, 'hanged': 2373, 'hanging': 2374, 'hangover': 2375, 'hangs': 2376, 'hank': 2377, 'hansen': 2378, 'hanson': 2379, 'hap': 2380, 'happen': 2381, 'happenbr': 2382, 'happened': 2383, 'happening': 2384, 'happens': 2385, 'happensafter': 2386, 'happily': 2387, 'happiness': 2388, 'happy': 2389, 'happybr': 2390, 'happythinking': 2391, 'harass': 2392, 'harbor': 2393, 'hard': 2394, 'hardgore': 2395, 'hardly': 2396, 'hare': 2397, 'harem': 2398, 'harmless': 2399, 'harp': 2400, 'harpy': 2401, 'harpys': 2402, 'harrison': 2403, 'harrowing': 2404, 'harryhausen': 2405, 'harsh': 2406, 'harshness': 2407, 'hart': 2408, 'hartley': 2409, 'has': 2410, 'hasnt': 2411, 'haste': 2412, 'hate': 2413, 'hater': 2414, 'haunt': 2415, 'have': 2416, 'havebr': 2417, 'havent': 2418, 'having': 2419, 'hawn': 2420, 'hawns': 2421, 'hddcs': 2422, 'he': 2423, 'head': 2424, 'headachebr': 2425, 'headmistress': 2426, 'headphones': 2427, 'headscratching': 2428, 'heaps': 2429, 'hear': 2430, 'heard': 2431, 'heardbr': 2432, 'hearing': 2433, 'hears': 2434, 'heart': 2435, 'heartfelt': 2436, 'heartofgold': 2437, 'hearts': 2438, 'heartstrings': 2439, 'heartthrob': 2440, 'heath': 2441, 'heats': 2442, 'heaved': 2443, 'heaven': 2444, 'heavily': 2445, 'heavy': 2446, 'heck': 2447, 'hed': 2448, 'hee': 2449, 'hein': 2450, 'heisthostage': 2451, 'held': 2452, 'helicopter': 2453, 'helicopters': 2454, 'hell': 2455, 'hello': 2456, 'helmed': 2457, 'help': 2458, 'helped': 2459, 'hence': 2460, 'henry': 2461, 'henson': 2462, 'hepburn': 2463, 'hepburns': 2464, 'hepburnwho': 2465, 'her': 2466, 'herbert': 2467, 'herbr': 2468, 'here': 2469, 'herein': 2470, 'heres': 2471, 'hero': 2472, 'heroes': 2473, 'heroine': 2474, 'herself': 2475, 'hes': 2476, 'hesitate': 2477, 'hey': 2478, 'heyday': 2479, 'hidden': 2480, 'hide': 2481, 'hideaway': 2482, 'hideous': 2483, 'high': 2484, 'highlight': 2485, 'highly': 2486, 'highprofile': 2487, 'highschoolers': 2488, 'hike': 2489, 'hilarious': 2490, 'hilariously': 2491, 'hilarity': 2492, 'hillarious': 2493, 'him': 2494, 'himbr': 2495, 'himself': 2496, 'hindi': 2497, 'hinted': 2498, 'hip': 2499, 'hippies': 2500, 'hire': 2501, 'hired': 2502, 'hires': 2503, 'hiring': 2504, 'his': 2505, 'hisher': 2506, 'hispanic': 2507, 'historic': 2508, 'historical': 2509, 'historically': 2510, 'history': 2511, 'historybr': 2512, 'hit': 2513, 'hitchcock': 2514, 'hitchcocklike': 2515, 'hitchhiker': 2516, 'hits': 2517, 'hmmm': 2518, 'hobbled': 2519, 'hokey': 2520, 'hold': 2521, 'hole': 2522, 'holed': 2523, 'holiday': 2524, 'holidays': 2525, 'hollering': 2526, 'hollow': 2527, 'holly': 2528, 'hollywood': 2529, 'hollywoodnot': 2530, 'holy': 2531, 'homage': 2532, 'home': 2533, 'homebr': 2534, 'homemade': 2535, 'homemovie': 2536, 'homicidebr': 2537, 'homosexual': 2538, 'homosexuals': 2539, 'honest': 2540, 'honestly': 2541, 'honesty': 2542, 'honor': 2543, 'honourable': 2544, 'hoo': 2545, 'hood': 2546, 'hooked': 2547, 'hope': 2548, 'hoped': 2549, 'hopefully': 2550, 'hoping': 2551, 'horrendous': 2552, 'horrible': 2553, 'horribly': 2554, 'horrid': 2555, 'horrific': 2556, 'horror': 2557, 'horse': 2558, 'hot': 2559, 'hotbr': 2560, 'hotel': 2561, 'hotness': 2562, 'hottie': 2563, 'hour': 2564, 'hours': 2565, 'house': 2566, 'houses': 2567, 'housesitter': 2568, 'hovers': 2569, 'how': 2570, 'however': 2571, 'howling': 2572, 'huge': 2573, 'hugely': 2574, 'huh': 2575, 'hum': 2576, 'human': 2577, 'humans': 2578, 'humbug': 2579, 'humorously': 2580, 'humour': 2581, 'hundred': 2582, 'hung': 2583, 'hunted': 2584, 'hunter': 2585, 'hunting': 2586, 'hurl': 2587, 'hurry': 2588, 'hurt': 2589, 'hurting': 2590, 'hurts': 2591, 'husband': 2592, 'hussy': 2593, 'hut': 2594, 'hymn': 2595, 'hyped': 2596, 'i': 2597, 'ice': 2598, 'ichi': 2599, 'icing': 2600, 'icon': 2601, 'id': 2602, 'idea': 2603, 'ideabr': 2604, 'idealistic': 2605, 'ideals': 2606, 'identical': 2607, 'identified': 2608, 'identify': 2609, 'idiocy': 2610, 'idiotic': 2611, 'idiotically': 2612, 'idiots': 2613, 'if': 2614, 'ignore': 2615, 'ignored': 2616, 'ill': 2617, 'illadvised': 2618, 'illegally': 2619, 'illiteracy': 2620, 'illiterate': 2621, 'im': 2622, 'imagery': 2623, 'images': 2624, 'imaginative': 2625, 'imagine': 2626, 'imagining': 2627, 'imdb': 2628, 'imitation': 2629, 'immediately': 2630, 'immense': 2631, 'immigrant': 2632, 'immigrants': 2633, 'imo': 2634, 'impact': 2635, 'impaled': 2636, 'implausible': 2637, 'imploring': 2638, 'implying': 2639, 'importance': 2640, 'important': 2641, 'impossible': 2642, 'impossibly': 2643, 'impressed': 2644, 'impression': 2645, 'impressive': 2646, 'improve': 2647, 'in': 2648, 'inadvertently': 2649, 'incapable': 2650, 'incessantlybr': 2651, 'incidence': 2652, 'incident': 2653, 'incidental': 2654, 'incisions': 2655, 'include': 2656, 'included': 2657, 'includedbr': 2658, 'includes': 2659, 'including': 2660, 'incoherent': 2661, 'incoherentbr': 2662, 'incompetence': 2663, 'incompetent': 2664, 'incomprehensible': 2665, 'inconsiderately': 2666, 'inconsistent': 2667, 'incorporating': 2668, 'incorrect': 2669, 'incredible': 2670, 'incrediblelooking': 2671, 'incredibly': 2672, 'incredulous': 2673, 'indeed': 2674, 'indication': 2675, 'indicative': 2676, 'indicator': 2677, 'indie': 2678, 'indifferent': 2679, 'individual': 2680, 'individuals': 2681, 'industrybr': 2682, 'inept': 2683, 'inevitable': 2684, 'infact': 2685, 'infamous': 2686, 'infinitely': 2687, 'inflicting': 2688, 'information': 2689, 'informed': 2690, 'informs': 2691, 'ingenious': 2692, 'ingenue': 2693, 'ingmar': 2694, 'inhabit': 2695, 'inhabited': 2696, 'inhumane': 2697, 'inimitable': 2698, 'initial': 2699, 'initially': 2700, 'ink': 2701, 'inked': 2702, 'inlaws': 2703, 'innocence': 2704, 'innocent': 2705, 'insane': 2706, 'insanely': 2707, 'insert': 2708, 'inserts': 2709, 'inside': 2710, 'insides': 2711, 'insightful': 2712, 'insipid': 2713, 'insisted': 2714, 'insomnia': 2715, 'inspiration': 2716, 'inspirational': 2717, 'inspire': 2718, 'inspired': 2719, 'inspiring': 2720, 'instead': 2721, 'insteadbr': 2722, 'insufferable': 2723, 'insufferably': 2724, 'insult': 2725, 'insulting': 2726, 'insultingly': 2727, 'intellectuality': 2728, 'intelligence': 2729, 'intelligent': 2730, 'intended': 2731, 'intense': 2732, 'intensity': 2733, 'intent': 2734, 'intention': 2735, 'intentions': 2736, 'interaction': 2737, 'intercut': 2738, 'interest': 2739, 'interestbr': 2740, 'interested': 2741, 'interesting': 2742, 'interests': 2743, 'intermittent': 2744, 'international': 2745, 'intervene': 2746, 'interview': 2747, 'interviews': 2748, 'intestines': 2749, 'intestinesbr': 2750, 'intimidate': 2751, 'into': 2752, 'intro': 2753, 'introduce': 2754, 'invariably': 2755, 'investigating': 2756, 'investment': 2757, 'involved': 2758, 'involves': 2759, 'involving': 2760, 'irancontra': 2761, 'irate': 2762, 'irish': 2763, 'ironic': 2764, 'ironically': 2765, 'irrational': 2766, 'irrelevant': 2767, 'irresponsibility': 2768, 'irritating': 2769, 'is': 2770, 'isbr': 2771, 'island': 2772, 'islands': 2773, 'isnt': 2774, 'isolated': 2775, 'issue': 2776, 'issues': 2777, 'iswas': 2778, 'it': 2779, 'italian': 2780, 'itbr': 2781, 'item': 2782, 'iteration': 2783, 'itll': 2784, 'its': 2785, 'itself': 2786, 'ive': 2787, 'j': 2788, 'jabbas': 2789, 'jack': 2790, 'jackie': 2791, 'jackson': 2792, 'jacob': 2793, 'jagger': 2794, 'jaggers': 2795, 'james': 2796, 'jamestown': 2797, 'jamie': 2798, 'jane': 2799, 'janet': 2800, 'janette': 2801, 'janmichael': 2802, 'japanese': 2803, 'japp': 2804, 'jaques': 2805, 'jarjar': 2806, 'jarrow': 2807, 'jay': 2808, 'jealous': 2809, 'jeanmarc': 2810, 'jeans': 2811, 'jebidia': 2812, 'jedi': 2813, 'jennifer': 2814, 'jerky': 2815, 'jess': 2816, 'jesse': 2817, 'jesus': 2818, 'jesusbr': 2819, 'jill': 2820, 'jillbr': 2821, 'jills': 2822, 'job': 2823, 'jobs': 2824, 'joe': 2825, 'joel': 2826, 'jog': 2827, 'johars': 2828, 'john': 2829, 'johnson': 2830, 'joining': 2831, 'joke': 2832, 'jokes': 2833, 'jon': 2834, 'jones': 2835, 'jordan': 2836, 'joseph': 2837, 'journey': 2838, 'joy': 2839, 'jr': 2840, 'jrs': 2841, 'judging': 2842, 'jules': 2843, 'julia': 2844, 'julian': 2845, 'julius': 2846, 'jump': 2847, 'jumped': 2848, 'june': 2849, 'jungle': 2850, 'jungles': 2851, 'junior': 2852, 'junk': 2853, 'jury': 2854, 'just': 2855, 'justice': 2856, 'justifiably': 2857, 'juvenile': 2858, 'k': 2859, 'kapoor': 2860, 'kapture': 2861, 'kapur': 2862, 'karisma': 2863, 'karl': 2864, 'kate': 2865, 'kathy': 2866, 'kathys': 2867, 'kaufmann': 2868, 'kaun': 2869, 'keen': 2870, 'keena': 2871, 'keep': 2872, 'keeps': 2873, 'keeyes': 2874, 'keith': 2875, 'kelley': 2876, 'kelly': 2877, 'kept': 2878, 'kernels': 2879, 'kerry': 2880, 'kessler': 2881, 'key': 2882, 'kher': 2883, 'kia': 2884, 'kick': 2885, 'kicks': 2886, 'kid': 2887, 'kiddie': 2888, 'kiddies': 2889, 'kidnap': 2890, 'kidnapped': 2891, 'kidnappers': 2892, 'kidnaps': 2893, 'kids': 2894, 'kill': 2895, 'killed': 2896, 'killedthis': 2897, 'killer': 2898, 'killing': 2899, 'killjoy': 2900, 'kills': 2901, 'kilter': 2902, 'kind': 2903, 'king': 2904, 'kingsley': 2905, 'kinlan': 2906, 'kinski': 2907, 'kiri': 2908, 'kirkland': 2909, 'kissykissy': 2910, 'kiya': 2911, 'knew': 2912, 'knife': 2913, 'knight': 2914, 'know': 2915, 'knowing': 2916, 'knowledge': 2917, 'known': 2918, 'knows': 2919, 'kong': 2920, 'kooky': 2921, 'koun': 2922, 'kudos': 2923, 'kurt': 2924, 'kurtz': 2925, 'la': 2926, 'labeled': 2927, 'labia': 2928, 'labyrinth': 2929, 'lack': 2930, 'lacking': 2931, 'lackluster': 2932, 'lacklustre': 2933, 'lacks': 2934, 'ladies': 2935, 'lady': 2936, 'ladybr': 2937, 'lair': 2938, 'lake': 2939, 'lalo': 2940, 'lame': 2941, 'lamebr': 2942, 'lametwilightzone': 2943, 'lana': 2944, 'land': 2945, 'landau': 2946, 'landon': 2947, 'landscapes': 2948, 'language': 2949, 'languish': 2950, 'large': 2951, 'largeness': 2952, 'larger': 2953, 'larges': 2954, 'lars': 2955, 'las': 2956, 'lascivious': 2957, 'last': 2958, 'late': 2959, 'later': 2960, 'latest': 2961, 'latterday': 2962, 'laugh': 2963, 'laughable': 2964, 'laughed': 2965, 'laughing': 2966, 'laughs': 2967, 'laughter': 2968, 'laura': 2969, 'lauras': 2970, 'laurence': 2971, 'lavender': 2972, 'law': 2973, 'lawbreaker': 2974, 'lawn': 2975, 'lawyer': 2976, 'layer': 2977, 'layering': 2978, 'lays': 2979, 'lazy': 2980, 'lead': 2981, 'leaden': 2982, 'leading': 2983, 'leads': 2984, 'leaky': 2985, 'learn': 2986, 'learned': 2987, 'learnt': 2988, 'least': 2989, 'leave': 2990, 'leaves': 2991, 'leaving': 2992, 'ledger': 2993, 'lee': 2994, 'left': 2995, 'leg': 2996, 'legend': 2997, 'legends': 2998, 'lego': 2999, 'lemmings': 3000, 'lena': 3001, 'lengthbr': 3002, 'lengthy': 3003, 'lens': 3004, 'lent': 3005, 'leonardo': 3006, 'leopold': 3007, 'lesbian': 3008, 'less': 3009, 'lesson': 3010, 'let': 3011, 'letdown': 3012, 'lets': 3013, 'letter': 3014, 'letterboxed': 3015, 'letting': 3016, 'level': 3017, 'levels': 3018, 'lewis': 3019, 'liberators': 3020, 'liberty': 3021, 'library': 3022, 'licensable': 3023, 'life': 3024, 'lifebr': 3025, 'lifestyle': 3026, 'lifetime': 3027, 'lifetimes': 3028, 'lifted': 3029, 'light': 3030, 'lighthearted': 3031, 'lights': 3032, 'likable': 3033, 'like': 3034, 'liked': 3035, 'likely': 3036, 'likes': 3037, 'likewise': 3038, 'liking': 3039, 'limit': 3040, 'limited': 3041, 'limits': 3042, 'line': 3043, 'lines': 3044, 'linesbr': 3045, 'lion': 3046, 'lions': 3047, 'lip': 3048, 'liquid': 3049, 'liquor': 3050, 'list': 3051, 'listbut': 3052, 'listed': 3053, 'listen': 3054, 'listened': 3055, 'listening': 3056, 'listings': 3057, 'lists': 3058, 'listsbr': 3059, 'lit': 3060, 'literal': 3061, 'literally': 3062, 'literary': 3063, 'little': 3064, 'liv': 3065, 'live': 3066, 'liveaction': 3067, 'lived': 3068, 'lives': 3069, 'living': 3070, 'livs': 3071, 'lmn': 3072, 'load': 3073, 'loaded': 3074, 'loadedbr': 3075, 'loads': 3076, 'loathing': 3077, 'lobotomy': 3078, 'local': 3079, 'locals': 3080, 'location': 3081, 'locations': 3082, 'lock': 3083, 'loins': 3084, 'lol': 3085, 'lonely': 3086, 'long': 3087, 'longest': 3088, 'look': 3089, 'looked': 3090, 'lookguysimdatingthepromqueen': 3091, 'lookie': 3092, 'looking': 3093, 'lookout': 3094, 'looks': 3095, 'loooong': 3096, 'loosbr': 3097, 'loose': 3098, 'loosey': 3099, 'lori': 3100, 'lose': 3101, 'loses': 3102, 'losing': 3103, 'lost': 3104, 'lostbr': 3105, 'lot': 3106, 'lots': 3107, 'loud': 3108, 'lousy': 3109, 'love': 3110, 'loved': 3111, 'lovelier': 3112, 'lovely': 3113, 'lover': 3114, 'loves': 3115, 'lovey': 3116, 'low': 3117, 'lowbudget': 3118, 'lowcaliber': 3119, 'lowcost': 3120, 'lower': 3121, 'lowest': 3122, 'lowlife': 3123, 'lubitsch': 3124, 'lubitschs': 3125, 'lucas': 3126, 'lucie': 3127, 'lucille': 3128, 'luck': 3129, 'luckily': 3130, 'lucy': 3131, 'ludicrous': 3132, 'lullaby': 3133, 'lurid': 3134, 'lurks': 3135, 'luscious': 3136, 'lust': 3137, 'lying': 3138, 'macisaac': 3139, 'mad': 3140, 'made': 3141, 'madhupur': 3142, 'madhuri': 3143, 'madly': 3144, 'madsen': 3145, 'mafia': 3146, 'magic': 3147, 'magically': 3148, 'magician': 3149, 'magicwielding': 3150, 'maidens': 3151, 'main': 3152, 'maine': 3153, 'mainstay': 3154, 'maintain': 3155, 'major': 3156, 'majority': 3157, 'make': 3158, 'makebelieve': 3159, 'makers': 3160, 'makes': 3161, 'makeup': 3162, 'making': 3163, 'male': 3164, 'malicious': 3165, 'mallorqui': 3166, 'mallorquins': 3167, 'malls': 3168, 'man': 3169, 'manage': 3170, 'managed': 3171, 'manager': 3172, 'manages': 3173, 'managing': 3174, 'mancuso': 3175, 'manhattan': 3176, 'manly': 3177, 'manner': 3178, 'mans': 3179, 'manuel': 3180, 'many': 3181, 'manybr': 3182, 'map': 3183, 'mar': 3184, 'march': 3185, 'marchers': 3186, 'margolin': 3187, 'marian': 3188, 'marienbad': 3189, 'mark': 3190, 'marketable': 3191, 'marketing': 3192, 'marleybr': 3193, 'marriage': 3194, 'marriages': 3195, 'married': 3196, 'marry': 3197, 'marsha': 3198, 'martha': 3199, 'martin': 3200, 'marty': 3201, 'marxism': 3202, 'mary': 3203, 'masculin': 3204, 'masochism': 3205, 'mason': 3206, 'mass': 3207, 'massacred': 3208, 'massive': 3209, 'massively': 3210, 'master': 3211, 'masterpiece': 3212, 'masterpieces': 3213, 'masters': 3214, 'masti': 3215, 'match': 3216, 'matching': 3217, 'mate': 3218, 'material': 3219, 'materialbr': 3220, 'maths': 3221, 'matter': 3222, 'matters': 3223, 'matthau': 3224, 'matthew': 3225, 'may': 3226, 'mayans': 3227, 'maybe': 3228, 'mcconaughey': 3229, 'mcdowell': 3230, 'mcgaw': 3231, 'mconaughey': 3232, 'me': 3233, 'meager': 3234, 'meal': 3235, 'mean': 3236, 'meanest': 3237, 'meaning': 3238, 'meaningless': 3239, 'means': 3240, 'meanspirited': 3241, 'meant': 3242, 'meantime': 3243, 'meat': 3244, 'mebr': 3245, 'mechanicalbr': 3246, 'mechanics': 3247, 'media': 3248, 'mediocre': 3249, 'meditate': 3250, 'meditation': 3251, 'meet': 3252, 'meetings': 3253, 'meets': 3254, 'melbournebr': 3255, 'member': 3256, 'members': 3257, 'memorablebr': 3258, 'memorial': 3259, 'memories': 3260, 'memory': 3261, 'men': 3262, 'menbr': 3263, 'mentally': 3264, 'mention': 3265, 'mentioned': 3266, 'mentioning': 3267, 'meow': 3268, 'mercenary': 3269, 'merciless': 3270, 'mercilesslywhich': 3271, 'merry': 3272, 'meryl': 3273, 'mess': 3274, 'message': 3275, 'messageless': 3276, 'messed': 3277, 'messi': 3278, 'messiest': 3279, 'messy': 3280, 'met': 3281, 'metal': 3282, 'metamorphosis': 3283, 'metcalfe': 3284, 'methods': 3285, 'meticulously': 3286, 'mexico': 3287, 'michael': 3288, 'micheal': 3289, 'michelangleo': 3290, 'mick': 3291, 'middle': 3292, 'mideighties': 3293, 'midsection': 3294, 'might': 3295, 'miike': 3296, 'miikes': 3297, 'mildly': 3298, 'military': 3299, 'miller': 3300, 'million': 3301, 'millionaire': 3302, 'millions': 3303, 'milo': 3304, 'mind': 3305, 'minded': 3306, 'mindless': 3307, 'mine': 3308, 'miner': 3309, 'minimal': 3310, 'minimum': 3311, 'minions': 3312, 'miniseries': 3313, 'minister': 3314, 'minor': 3315, 'minus': 3316, 'minute': 3317, 'minutes': 3318, 'miracle': 3319, 'miracles': 3320, 'miscasting': 3321, 'mischief': 3322, 'mischievous': 3323, 'miserable': 3324, 'miserably': 3325, 'misery': 3326, 'misfortune': 3327, 'misleading': 3328, 'mismatched': 3329, 'miss': 3330, 'missed': 3331, 'missie': 3332, 'missing': 3333, 'missy': 3334, 'missys': 3335, 'mistake': 3336, 'mistakes': 3337, 'mistreatment': 3338, 'mists': 3339, 'mitzi': 3340, 'mix': 3341, 'mixed': 3342, 'mixing': 3343, 'mm': 3344, 'mob': 3345, 'mobile': 3346, 'model': 3347, 'models': 3348, 'modern': 3349, 'mohnish': 3350, 'molasseslike': 3351, 'molina': 3352, 'moment': 3353, 'moments': 3354, 'momentsi': 3355, 'money': 3356, 'mongoloidlevel': 3357, 'monica': 3358, 'monobr': 3359, 'monster': 3360, 'monsters': 3361, 'monstrous': 3362, 'month': 3363, 'months': 3364, 'montossé': 3365, 'monty': 3366, 'monumental': 3367, 'mood': 3368, 'moon': 3369, 'moonlighting': 3370, 'moot': 3371, 'morale': 3372, 'moralistic': 3373, 'morals': 3374, 'more': 3375, 'morning': 3376, 'moronic': 3377, 'mortals': 3378, 'most': 3379, 'mostly': 3380, 'motel': 3381, 'mother': 3382, 'motions': 3383, 'motivations': 3384, 'motive': 3385, 'motives': 3386, 'motley': 3387, 'mould': 3388, 'mountains': 3389, 'mouse': 3390, 'mouth': 3391, 'mouthbr': 3392, 'move': 3393, 'movebr': 3394, 'moved': 3395, 'movementbr': 3396, 'moves': 3397, 'movie': 3398, 'moviebr': 3399, 'moviebut': 3400, 'movieif': 3401, 'movienot': 3402, 'movies': 3403, 'moviesbr': 3404, 'moviewell': 3405, 'moving': 3406, 'mr': 3407, 'mrs': 3408, 'ms': 3409, 'much': 3410, 'muck': 3411, 'muffled': 3412, 'muita': 3413, 'muito': 3414, 'multiple': 3415, 'multiplex': 3416, 'mundane': 3417, 'muppetpet': 3418, 'muppets': 3419, 'murder': 3420, 'murdered': 3421, 'murderer': 3422, 'murderers': 3423, 'murderous': 3424, 'muriel': 3425, 'murky': 3426, 'murphy': 3427, 'murray': 3428, 'murrays': 3429, 'museum': 3430, 'music': 3431, 'musical': 3432, 'musicals': 3433, 'musics': 3434, 'must': 3435, 'mutants': 3436, 'mutation': 3437, 'mutilation': 3438, 'mutilations': 3439, 'muting': 3440, 'my': 3441, 'myself': 3442, 'myselfbr': 3443, 'mysterious': 3444, 'mystery': 3445, 'mystic': 3446, 'mythically': 3447, 'mythology': 3448, 'myths': 3449, 'n': 3450, 'naive': 3451, 'naked': 3452, 'name': 3453, 'named': 3454, 'names': 3455, 'namesagesgenders': 3456, 'nananana': 3457, 'naomi': 3458, 'narcoleptic': 3459, 'narrate': 3460, 'narration': 3461, 'narrative': 3462, 'nastassia': 3463, 'nasties': 3464, 'nasty': 3465, 'nathalie': 3466, 'national': 3467, 'nations': 3468, 'native': 3469, 'nativeenglishspeakers': 3470, 'natives': 3471, 'natural': 3472, 'naturalized': 3473, 'naturally': 3474, 'nature': 3475, 'naughty': 3476, 'nauseambr': 3477, 'nauseated': 3478, 'nauseatingbr': 3479, 'nc17': 3480, 'near': 3481, 'nearby': 3482, 'nearly': 3483, 'nearlyasdisgusted': 3484, 'neat': 3485, 'nebulous': 3486, 'necessary': 3487, 'neck': 3488, 'ned': 3489, 'need': 3490, 'needed': 3491, 'neednt': 3492, 'needs': 3493, 'negative': 3494, 'neighbours': 3495, 'neil': 3496, 'neither': 3497, 'nelson': 3498, 'nepotism': 3499, 'never': 3500, 'neverending': 3501, 'nevertheless': 3502, 'new': 3503, 'newer': 3504, 'news': 3505, 'newton': 3506, 'next': 3507, 'nibblebr': 3508, 'nice': 3509, 'nick': 3510, 'nickleodeon': 3511, 'nigh': 3512, 'night': 3513, 'nightbr': 3514, 'nina': 3515, 'nine': 3516, 'ninja': 3517, 'niro': 3518, 'no': 3519, 'noaccount': 3520, 'noah': 3521, 'nobody': 3522, 'nods': 3523, 'noise': 3524, 'noisier': 3525, 'non': 3526, 'none': 3527, 'nonmagical': 3528, 'nonnativeenglishspeakers': 3529, 'nonsense': 3530, 'nor': 3531, 'norm': 3532, 'normal': 3533, 'normally': 3534, 'northern': 3535, 'nose': 3536, 'not': 3537, 'notably': 3538, 'notbr': 3539, 'note': 3540, 'noted': 3541, 'nothing': 3542, 'nothingbr': 3543, 'notice': 3544, 'noticed': 3545, 'notified': 3546, 'notion': 3547, 'notoriety': 3548, 'notorious': 3549, 'notquiteconfess': 3550, 'notwithstanding': 3551, 'novel': 3552, 'novellobr': 3553, 'november': 3554, 'now': 3555, 'nowhere': 3556, 'nuance': 3557, 'nubile': 3558, 'nude': 3559, 'nudity': 3560, 'nuditybr': 3561, 'nudityfree': 3562, 'nuff': 3563, 'number': 3564, 'numbers': 3565, 'numbness': 3566, 'numerous': 3567, 'nun': 3568, 'nuns': 3569, 'nutsack': 3570, 'nuview': 3571, 'nyman': 3572, 'oakley': 3573, 'objections': 3574, 'obligatory': 3575, 'obliterated': 3576, 'oblivion': 3577, 'obnoxiousbr': 3578, 'obscene': 3579, 'obscenely': 3580, 'obscenity': 3581, 'obscure': 3582, 'observing': 3583, 'obsessed': 3584, 'obsession': 3585, 'obtuse': 3586, 'obvious': 3587, 'obviously': 3588, 'obviousyou': 3589, 'occasion': 3590, 'occasionally': 3591, 'occupiers': 3592, 'occur': 3593, 'october': 3594, 'odd': 3595, 'oddball': 3596, 'oddest': 3597, 'oddities': 3598, 'oddly': 3599, 'odds': 3600, 'of': 3601, 'off': 3602, 'offal': 3603, 'offbr': 3604, 'offed': 3605, 'offense': 3606, 'offensive': 3607, 'offer': 3608, 'offered': 3609, 'officer': 3610, 'official': 3611, 'officially': 3612, 'officials': 3613, 'offkilter': 3614, 'often': 3615, 'oftused': 3616, 'oh': 3617, 'ohtar': 3618, 'oirish': 3619, 'ok': 3620, 'okay': 3621, 'okbr': 3622, 'oke': 3623, 'okes': 3624, 'ol': 3625, 'old': 3626, 'older': 3627, 'oldest': 3628, 'oldfashioned': 3629, 'on': 3630, 'onbr': 3631, 'once': 3632, 'one': 3633, 'oneal': 3634, 'onebr': 3635, 'onedimensional': 3636, 'onepanel': 3637, 'ones': 3638, 'onesbr': 3639, 'onesided': 3640, 'onethats': 3641, 'only': 3642, 'onscreen': 3643, 'onstreet': 3644, 'onto': 3645, 'ooooof': 3646, 'oozes': 3647, 'opaque': 3648, 'open': 3649, 'opening': 3650, 'openminded': 3651, 'opens': 3652, 'opinion': 3653, 'opinions': 3654, 'opportunities': 3655, 'opportunity': 3656, 'opposite': 3657, 'oppression': 3658, 'oppressive': 3659, 'option': 3660, 'or': 3661, 'orange': 3662, 'orchestra': 3663, 'order': 3664, 'ordinary': 3665, 'oregon': 3666, 'orientation': 3667, 'origin': 3668, 'original': 3669, 'originality': 3670, 'originally': 3671, 'orlando': 3672, 'orson': 3673, 'oscar': 3674, 'ostensibly': 3675, 'other': 3676, 'others': 3677, 'otherwise': 3678, 'our': 3679, 'ourselves': 3680, 'out': 3681, 'outbr': 3682, 'outcome': 3683, 'outdated': 3684, 'outfield': 3685, 'outin': 3686, 'outlandish': 3687, 'outlaw': 3688, 'outofplace': 3689, 'output': 3690, 'outrage': 3691, 'outrageous': 3692, 'outset': 3693, 'outstanding': 3694, 'outthere': 3695, 'outweigh': 3696, 'over': 3697, 'overact': 3698, 'overacting': 3699, 'overacts': 3700, 'overall': 3701, 'overblown': 3702, 'overboard': 3703, 'overcompensates': 3704, 'overintellectualised': 3705, 'overlook': 3706, 'overlookable': 3707, 'overly': 3708, 'overplays': 3709, 'overrated': 3710, 'oversexed': 3711, 'oversized': 3712, 'overthetop': 3713, 'overtly': 3714, 'overused': 3715, 'overwhelmed': 3716, 'owen': 3717, 'own': 3718, 'owner': 3719, 'owning': 3720, 'pablito': 3721, 'pace': 3722, 'pacific': 3723, 'pacing': 3724, 'pack': 3725, 'packaged': 3726, 'packs': 3727, 'pad': 3728, 'padded': 3729, 'pads': 3730, 'pages': 3731, 'paid': 3732, 'pain': 3733, 'painful': 3734, 'painfully': 3735, 'pains': 3736, 'paint': 3737, 'painted': 3738, 'painting': 3739, 'pair': 3740, 'pairs': 3741, 'pal': 3742, 'pale': 3743, 'palest': 3744, 'paltry': 3745, 'panama': 3746, 'panic': 3747, 'pans': 3748, 'panties': 3749, 'paper': 3750, 'par': 3751, 'parable': 3752, 'parallel': 3753, 'paramore': 3754, 'paramour': 3755, 'parent': 3756, 'parents': 3757, 'park': 3758, 'part': 3759, 'partial': 3760, 'partially': 3761, 'particle': 3762, 'particular': 3763, 'particularly': 3764, 'partner': 3765, 'parts': 3766, 'party': 3767, 'pass': 3768, 'passable': 3769, 'passed': 3770, 'passion': 3771, 'past': 3772, 'pat': 3773, 'path': 3774, 'pathetic': 3775, 'patients': 3776, 'patrick': 3777, 'patti': 3778, 'patty': 3779, 'pave': 3780, 'pawns': 3781, 'pay': 3782, 'paying': 3783, 'pays': 3784, 'pb': 3785, 'pbs': 3786, 'peak': 3787, 'peaked': 3788, 'pearl': 3789, 'peed': 3790, 'peek': 3791, 'peers': 3792, 'peggy': 3793, 'pen': 3794, 'penis': 3795, 'penny': 3796, 'people': 3797, 'peoplebr': 3798, 'peopleits': 3799, 'peopletheres': 3800, 'perfect': 3801, 'perfetic': 3802, 'performance': 3803, 'performances': 3804, 'performer': 3805, 'performers': 3806, 'perhaps': 3807, 'period': 3808, 'periodwith': 3809, 'permission': 3810, 'peroxide': 3811, 'perpetuation': 3812, 'perry': 3813, 'person': 3814, 'personal': 3815, 'personalities': 3816, 'personality': 3817, 'personally': 3818, 'perspective': 3819, 'perspectives': 3820, 'persuade': 3821, 'perverse': 3822, 'pet': 3823, 'peter': 3824, 'pets': 3825, 'petty': 3826, 'pfieffers': 3827, 'pg': 3828, 'phase': 3829, 'phenomena': 3830, 'philip': 3831, 'phone': 3832, 'phones': 3833, 'photo': 3834, 'photographed': 3835, 'photography': 3836, 'photographybr': 3837, 'phrase': 3838, 'picasso': 3839, 'pick': 3840, 'picking': 3841, 'picks': 3842, 'picture': 3843, 'pictures': 3844, 'piece': 3845, 'pig': 3846, 'piglike': 3847, 'pile': 3848, 'pilfered': 3849, 'pilot': 3850, 'ping': 3851, 'pingpong': 3852, 'pink': 3853, 'pino': 3854, 'pioneer': 3855, 'pipe': 3856, 'pipers': 3857, 'pisana': 3858, 'pitiful': 3859, 'pitt': 3860, 'pity': 3861, 'place': 3862, 'placed': 3863, 'places': 3864, 'plagueor': 3865, 'plain': 3866, 'plan': 3867, 'planet': 3868, 'planning': 3869, 'plantation': 3870, 'plastic': 3871, 'plasticine': 3872, 'plastrons': 3873, 'platitudes': 3874, 'plausibility': 3875, 'play': 3876, 'playboy': 3877, 'playbr': 3878, 'played': 3879, 'player': 3880, 'playing': 3881, 'playmate': 3882, 'plays': 3883, 'pleasant': 3884, 'please': 3885, 'pleasure': 3886, 'plenty': 3887, 'plodded': 3888, 'plodding': 3889, 'plods': 3890, 'plot': 3891, 'ploy': 3892, 'plucked': 3893, 'plug': 3894, 'plugs': 3895, 'plus': 3896, 'pm': 3897, 'pochath': 3898, 'poetic': 3899, 'point': 3900, 'pointed': 3901, 'pointers': 3902, 'pointless': 3903, 'points': 3904, 'pole': 3905, 'police': 3906, 'policy': 3907, 'political': 3908, 'politicians': 3909, 'politics': 3910, 'polo': 3911, 'pong': 3912, 'poodlesque': 3913, 'poor': 3914, 'poorly': 3915, 'pop': 3916, 'popcorn': 3917, 'popped': 3918, 'pops': 3919, 'popular': 3920, 'populate': 3921, 'population': 3922, 'populist': 3923, 'porch': 3924, 'porn': 3925, 'porno': 3926, 'pornographic': 3927, 'porter': 3928, 'portray': 3929, 'portrayal': 3930, 'portrayalbr': 3931, 'portrayed': 3932, 'portrays': 3933, 'positive': 3934, 'positives': 3935, 'positivity': 3936, 'possess': 3937, 'possibility': 3938, 'possible': 3939, 'possibly': 3940, 'poster': 3941, 'postwar': 3942, 'potatoes': 3943, 'potboiler': 3944, 'potentate': 3945, 'potential': 3946, 'pound': 3947, 'poverty': 3948, 'power': 3949, 'powerful': 3950, 'powersthatbe': 3951, 'practical': 3952, 'praise': 3953, 'praising': 3954, 'pratt': 3955, 'praying': 3956, 'preachy': 3957, 'preceding': 3958, 'precg': 3959, 'predictable': 3960, 'pregnantbr': 3961, 'premiere': 3962, 'premise': 3963, 'preparation': 3964, 'prepared': 3965, 'preparing': 3966, 'presbyterian': 3967, 'presence': 3968, 'presences': 3969, 'present': 3970, 'presentation': 3971, 'presented': 3972, 'preservation': 3973, 'presidential': 3974, 'pretend': 3975, 'pretensionand': 3976, 'pretentious': 3977, 'pretentiousness': 3978, 'pretty': 3979, 'prevails': 3980, 'prevent': 3981, 'preview': 3982, 'previews': 3983, 'previous': 3984, 'previously': 3985, 'prewar': 3986, 'price': 3987, 'pride': 3988, 'priestess': 3989, 'prima': 3990, 'primarily': 3991, 'prime': 3992, 'primitive': 3993, 'primitives': 3994, 'principal': 3995, 'print': 3996, 'prior': 3997, 'prison': 3998, 'prisoners': 3999, 'private': 4000, 'privilege': 4001, 'probably': 4002, 'problem': 4003, 'problems': 4004, 'proceedings': 4005, 'proceeds': 4006, 'process': 4007, 'produce': 4008, 'produced': 4009, 'produceor': 4010, 'producer': 4011, 'producers': 4012, 'producing': 4013, 'product': 4014, 'production': 4015, 'productions': 4016, 'productively': 4017, 'profit': 4018, 'profitmaking': 4019, 'profound': 4020, 'program': 4021, 'progress': 4022, 'project': 4023, 'projects': 4024, 'prolific': 4025, 'promise': 4026, 'proof': 4027, 'properly': 4028, 'props': 4029, 'pros': 4030, 'prosecutions': 4031, 'prospect': 4032, 'prospector': 4033, 'protagonists': 4034, 'protestations': 4035, 'protocol': 4036, 'prove': 4037, 'proved': 4038, 'proves': 4039, 'provide': 4040, 'provided': 4041, 'providing': 4042, 'ps': 4043, 'pseudo': 4044, 'pseudonym': 4045, 'psychedelic': 4046, 'psychopath': 4047, 'psychos': 4048, 'public': 4049, 'publicly': 4050, 'pull': 4051, 'pulled': 4052, 'pulls': 4053, 'pulp': 4054, 'pulsating': 4055, 'pulse': 4056, 'pun': 4057, 'punches': 4058, 'punctuality': 4059, 'puppetry': 4060, 'puppy': 4061, 'purchase': 4062, 'purchased': 4063, 'pure': 4064, 'purely': 4065, 'purpose': 4066, 'purposebr': 4067, 'purposes': 4068, 'purrrrrrrrrrrrrrrrbr': 4069, 'purse': 4070, 'pursue': 4071, 'push': 4072, 'pushes': 4073, 'pushups': 4074, 'put': 4075, 'putrid': 4076, 'puts': 4077, 'putting': 4078, 'pyar': 4079, 'python': 4080, 'qestions': 4081, 'qualified': 4082, 'qualify': 4083, 'qualities': 4084, 'quality': 4085, 'quantities': 4086, 'quarter': 4087, 'question': 4088, 'questionable': 4089, 'questions': 4090, 'quick': 4091, 'quickly': 4092, 'quicksand': 4093, 'quiet': 4094, 'quips': 4095, 'quite': 4096, 'quo': 4097, 'quotes': 4098, 'rabbit': 4099, 'race': 4100, 'rachel': 4101, 'raft': 4102, 'rag': 4103, 'ragged': 4104, 'rain': 4105, 'rainy': 4106, 'raise': 4107, 'raised': 4108, 'raising': 4109, 'ramallo': 4110, 'rambling': 4111, 'rampant': 4112, 'ran': 4113, 'ranchers': 4114, 'random': 4115, 'randomly': 4116, 'range': 4117, 'rangers': 4118, 'ranging': 4119, 'ransom': 4120, 'rao': 4121, 'rap': 4122, 'rape': 4123, 'raphel': 4124, 'raphs': 4125, 'rapid': 4126, 'rapidbr': 4127, 'rare': 4128, 'rarely': 4129, 'rat': 4130, 'rate': 4131, 'rates': 4132, 'rather': 4133, 'rating': 4134, 'ratings': 4135, 'ratio': 4136, 'rav4': 4137, 'ravage': 4138, 'raw': 4139, 'ray': 4140, 'raymond': 4141, 'razora': 4142, 'razorblade': 4143, 'reach': 4144, 'reached': 4145, 'reaching': 4146, 'reactions': 4147, 'read': 4148, 'readers': 4149, 'reading': 4150, 'reagan': 4151, 'reaired': 4152, 'real': 4153, 'realised': 4154, 'realistic': 4155, 'reality': 4156, 'realize': 4157, 'realized': 4158, 'realizes': 4159, 'really': 4160, 'reallybr': 4161, 'reappear': 4162, 'reason': 4163, 'reasons': 4164, 'reasonthere': 4165, 'rebecca': 4166, 'rebel': 4167, 'rebellious': 4168, 'rebirth': 4169, 'recall': 4170, 'recap': 4171, 'receive': 4172, 'received': 4173, 'recent': 4174, 'recently': 4175, 'receptions': 4176, 'recipe': 4177, 'recited': 4178, 'recommend': 4179, 'recommendation': 4180, 'reconciliation': 4181, 'reconsider': 4182, 'recorded': 4183, 'recording': 4184, 'recounts': 4185, 'recover': 4186, 'recreate': 4187, 'recreation': 4188, 'recycled': 4189, 'red': 4190, 'redeemed': 4191, 'redeeming': 4192, 'redefine': 4193, 'redherring': 4194, 'reenacting': 4195, 'refer': 4196, 'reference': 4197, 'references': 4198, 'referring': 4199, 'reflect': 4200, 'reflection': 4201, 'reformed': 4202, 'refreshing': 4203, 'refund': 4204, 'refused': 4205, 'regarded': 4206, 'regardless': 4207, 'regressive': 4208, 'regret': 4209, 'regulation': 4210, 'reinforce': 4211, 'relate': 4212, 'related': 4213, 'relations': 4214, 'relationships': 4215, 'relative': 4216, 'relatively': 4217, 'relaxing': 4218, 'release': 4219, 'released': 4220, 'releasing': 4221, 'relentless': 4222, 'relied': 4223, 'relies': 4224, 'reload': 4225, 'relying': 4226, 'remaining': 4227, 'remember': 4228, 'remick': 4229, 'reminding': 4230, 'remote': 4231, 'remotely': 4232, 'remove': 4233, 'removed': 4234, 'removing': 4235, 'renditions': 4236, 'rent': 4237, 'rentahero': 4238, 'rental': 4239, 'rented': 4240, 'renting': 4241, 'repeated': 4242, 'repetitive': 4243, 'replaced': 4244, 'replacing': 4245, 'report': 4246, 'reporter': 4247, 'reports': 4248, 'representation': 4249, 'repulsion': 4250, 'repulsive': 4251, 'reputation': 4252, 'reputed': 4253, 'reputedly': 4254, 'requiem': 4255, 'require': 4256, 'requires': 4257, 'requiring': 4258, 'rescue': 4259, 'research': 4260, 'resemble': 4261, 'resembles': 4262, 'resigned': 4263, 'resolution': 4264, 'respect': 4265, 'respective': 4266, 'response': 4267, 'responses': 4268, 'responsibility': 4269, 'responsible': 4270, 'rest': 4271, 'resting': 4272, 'restless': 4273, 'result': 4274, 'resulting': 4275, 'resurrections': 4276, 'retain': 4277, 'retains': 4278, 'retarded': 4279, 'retire': 4280, 'return': 4281, 'returnbr': 4282, 'returned': 4283, 'returning': 4284, 'returns': 4285, 'reuniting': 4286, 'reveal': 4287, 'revealed': 4288, 'revealing': 4289, 'revel': 4290, 'revenge': 4291, 'reverb': 4292, 'reverting': 4293, 'review': 4294, 'reviewer': 4295, 'reviewers': 4296, 'reviews': 4297, 'revisit': 4298, 'revolutionary': 4299, 'revolutionized': 4300, 'revolves': 4301, 'reward': 4302, 'reworking': 4303, 'rhetorical': 4304, 'rhymed': 4305, 'rhythymed': 4306, 'rich': 4307, 'richard': 4308, 'richards': 4309, 'richbr': 4310, 'rick': 4311, 'ricky': 4312, 'rickybr': 4313, 'rid': 4314, 'riddled': 4315, 'ride': 4316, 'ridiculous': 4317, 'ridiculousbr': 4318, 'right': 4319, 'rights': 4320, 'rigomortis': 4321, 'rip': 4322, 'ripoff': 4323, 'ripped': 4324, 'rips': 4325, 'rise': 4326, 'rises': 4327, 'risible': 4328, 'rising': 4329, 'risk': 4330, 'riso': 4331, 'ritter': 4332, 'rival': 4333, 'river': 4334, 'road': 4335, 'roaming': 4336, 'robbers': 4337, 'robbery': 4338, 'robert': 4339, 'roberto': 4340, 'roberts': 4341, 'robin': 4342, 'robs': 4343, 'rock': 4344, 'rocky': 4345, 'roladex': 4346, 'role': 4347, 'rolebr': 4348, 'roles': 4349, 'rolesas': 4350, 'roll': 4351, 'rolling': 4352, 'rom': 4353, 'romance': 4354, 'romanceyes': 4355, 'romantic': 4356, 'romantically': 4357, 'romanticized': 4358, 'rompbr': 4359, 'ronald': 4360, 'roof': 4361, 'room': 4362, 'rooting': 4363, 'roots': 4364, 'ross': 4365, 'rotate': 4366, 'roughbut': 4367, 'round': 4368, 'route': 4369, 'routine': 4370, 'routinely': 4371, 'routines': 4372, 'row': 4373, 'rrated': 4374, 'rub': 4375, 'rubbing': 4376, 'rugged': 4377, 'ruin': 4378, 'ruined': 4379, 'rule': 4380, 'ruler': 4381, 'run': 4382, 'running': 4383, 'runs': 4384, 'ruse': 4385, 'rush': 4386, 'rushed': 4387, 'russ': 4388, 'russell': 4389, 'ruthless': 4390, 's': 4391, 'saath': 4392, 'saban': 4393, 'saber': 4394, 'sabers': 4395, 'sabrina': 4396, 'sack': 4397, 'sacrifices': 4398, 'sacrificesbr': 4399, 'sad': 4400, 'sadly': 4401, 'safe': 4402, 'safely': 4403, 'saga': 4404, 'saggy': 4405, 'sahara': 4406, 'said': 4407, 'saidbr': 4408, 'saint': 4409, 'sake': 4410, 'sale': 4411, 'sally': 4412, 'salman': 4413, 'same': 4414, 'samesex': 4415, 'sanatorium': 4416, 'sanctimoniousness': 4417, 'sand': 4418, 'sandra': 4419, 'sands': 4420, 'sat': 4421, 'satans': 4422, 'satellite': 4423, 'satire': 4424, 'satirical': 4425, 'satisfy': 4426, 'satisfying': 4427, 'saturate': 4428, 'saudi': 4429, 'savage': 4430, 'savages': 4431, 'save': 4432, 'saved': 4433, 'saves': 4434, 'saving': 4435, 'saw': 4436, 'say': 4437, 'saying': 4438, 'says': 4439, 'scale': 4440, 'scandal': 4441, 'scare': 4442, 'scares': 4443, 'scarf': 4444, 'scary': 4445, 'scarybr': 4446, 'scenario': 4447, 'scene': 4448, 'scenebr': 4449, 'scenechrist': 4450, 'scenery': 4451, 'scenes': 4452, 'scenesbr': 4453, 'scepticism': 4454, 'scheme': 4455, 'schiavelli': 4456, 'schifrins': 4457, 'schindlers': 4458, 'schlepped': 4459, 'schlongs': 4460, 'school': 4461, 'science': 4462, 'scientists': 4463, 'score': 4464, 'scorebr': 4465, 'scores': 4466, 'scorpion': 4467, 'scott': 4468, 'scottie': 4469, 'scotts': 4470, 'scraggly': 4471, 'scrape': 4472, 'scraped': 4473, 'scratch': 4474, 'scratches': 4475, 'screaming': 4476, 'screams': 4477, 'screen': 4478, 'screenbr': 4479, 'screening': 4480, 'screenplay': 4481, 'screenplays': 4482, 'screw': 4483, 'screwball': 4484, 'scrip': 4485, 'script': 4486, 'scriptwriter': 4487, 'scrooge': 4488, 'scrooged': 4489, 'sculpted': 4490, 'sean': 4491, 'seanand': 4492, 'search': 4493, 'searched': 4494, 'searching': 4495, 'season': 4496, 'seasoned': 4497, 'sebastian': 4498, 'sebastians': 4499, 'second': 4500, 'seconds': 4501, 'secondworst': 4502, 'secret': 4503, 'secretary': 4504, 'secretly': 4505, 'section': 4506, 'seduced': 4507, 'seductive': 4508, 'see': 4509, 'seeing': 4510, 'seeking': 4511, 'seem': 4512, 'seemed': 4513, 'seems': 4514, 'seemsbr': 4515, 'seen': 4516, 'sees': 4517, 'seized': 4518, 'selected': 4519, 'selective': 4520, 'self': 4521, 'selfcentered': 4522, 'selfconsciously': 4523, 'selfdestruction': 4524, 'sell': 4525, 'selling': 4526, 'sellout': 4527, 'semantically': 4528, 'semblance': 4529, 'semi': 4530, 'semiincoherent': 4531, 'send': 4532, 'senile': 4533, 'sense': 4534, 'sensebr': 4535, 'senseless': 4536, 'sensibility': 4537, 'sensitive': 4538, 'sent': 4539, 'sentence': 4540, 'sentences': 4541, 'sentiment': 4542, 'separately': 4543, 'sequel': 4544, 'sequence': 4545, 'sequences': 4546, 'series': 4547, 'seriesbr': 4548, 'serious': 4549, 'seriously': 4550, 'serve': 4551, 'service': 4552, 'serving': 4553, 'set': 4554, 'sets': 4555, 'setting': 4556, 'settings': 4557, 'several': 4558, 'severe': 4559, 'severin': 4560, 'sevigny': 4561, 'sewage': 4562, 'sex': 4563, 'sexo': 4564, 'sexuallytransmitted': 4565, 'sexy': 4566, 'seyrig': 4567, 'sgt': 4568, 'shadow': 4569, 'shadowbr': 4570, 'shahid': 4571, 'shahrukhed': 4572, 'shake': 4573, 'shaker': 4574, 'shakes': 4575, 'shakespeare': 4576, 'shaking': 4577, 'shaky': 4578, 'shallow': 4579, 'shame': 4580, 'shamelessly': 4581, 'shape': 4582, 'share': 4583, 'shark': 4584, 'shattered': 4585, 'she': 4586, 'shed': 4587, 'shell': 4588, 'shepherd': 4589, 'sherritt': 4590, 'shes': 4591, 'ship': 4592, 'shirt': 4593, 'shite': 4594, 'shits': 4595, 'shock': 4596, 'shocked': 4597, 'shocking': 4598, 'shockingly': 4599, 'shoddy': 4600, 'shoes': 4601, 'shoestring': 4602, 'shook': 4603, 'shoot': 4604, 'shooting': 4605, 'shootout': 4606, 'shop': 4607, 'shopping': 4608, 'short': 4609, 'shortbr': 4610, 'shorterwhich': 4611, 'shot': 4612, 'shots': 4613, 'should': 4614, 'shoulders': 4615, 'shouldnt': 4616, 'shouldve': 4617, 'shouting': 4618, 'show': 4619, 'showdown': 4620, 'showed': 4621, 'shower': 4622, 'showered': 4623, 'showing': 4624, 'shown': 4625, 'shows': 4626, 'showtime': 4627, 'shred': 4628, 'shredder': 4629, 'shrek': 4630, 'shrouded': 4631, 'sht': 4632, 'shut': 4633, 'shy': 4634, 'siani': 4635, 'sickening': 4636, 'sickroomhothouse': 4637, 'side': 4638, 'sidekick': 4639, 'sides': 4640, 'sidesplittingbr': 4641, 'sight': 4642, 'signalled': 4643, 'signals': 4644, 'significant': 4645, 'signposted': 4646, 'signposting': 4647, 'silent': 4648, 'silhouetted': 4649, 'silk': 4650, 'silliness': 4651, 'silly': 4652, 'silver': 4653, 'sim': 4654, 'similar': 4655, 'similarly': 4656, 'simon': 4657, 'simons': 4658, 'simple': 4659, 'simplest': 4660, 'simplicity': 4661, 'simply': 4662, 'simpsons': 4663, 'simpsonsbr': 4664, 'simulated': 4665, 'sinatra': 4666, 'since': 4667, 'sincere': 4668, 'sincerely': 4669, 'sincerity': 4670, 'singer': 4671, 'singers': 4672, 'singing': 4673, 'single': 4674, 'sink': 4675, 'sirens': 4676, 'sister': 4677, 'sit': 4678, 'site': 4679, 'sitting': 4680, 'sittings': 4681, 'situation': 4682, 'situations': 4683, 'situationsbr': 4684, 'six': 4685, 'skate': 4686, 'skill': 4687, 'skills': 4688, 'skimmed': 4689, 'skimpy': 4690, 'skinhead': 4691, 'skinny': 4692, 'skip': 4693, 'skirmish': 4694, 'slack': 4695, 'slacken': 4696, 'slap': 4697, 'slapstick': 4698, 'sleaze': 4699, 'sleazy': 4700, 'sleep': 4701, 'sleepiness': 4702, 'sleeping': 4703, 'sleeps': 4704, 'slew': 4705, 'slide': 4706, 'slight': 4707, 'slightest': 4708, 'slightly': 4709, 'slimy': 4710, 'slips': 4711, 'slop': 4712, 'sloppy': 4713, 'slouching': 4714, 'slow': 4715, 'slowly': 4716, 'slowmotion': 4717, 'slowpacingly': 4718, 'sluggishly': 4719, 'smackdown': 4720, 'small': 4721, 'smaller': 4722, 'smalltown': 4723, 'smartmouthed': 4724, 'smile': 4725, 'smith': 4726, 'smitten': 4727, 'smoke': 4728, 'smoked': 4729, 'smokin': 4730, 'smokling': 4731, 'smooth': 4732, 'smug': 4733, 'smushed': 4734, 'snail': 4735, 'snails': 4736, 'sneak': 4737, 'sneaking': 4738, 'snob': 4739, 'snoozer': 4740, 'snore': 4741, 'snowy': 4742, 'snuggled': 4743, 'so': 4744, 'soaked': 4745, 'soapbr': 4746, 'soaps': 4747, 'socalled': 4748, 'soccoro': 4749, 'socially': 4750, 'society': 4751, 'societybr': 4752, 'sockets': 4753, 'softly': 4754, 'sold': 4755, 'soldier': 4756, 'soldiers': 4757, 'sole': 4758, 'solely': 4759, 'solid': 4760, 'some': 4761, 'somebody': 4762, 'somehow': 4763, 'someone': 4764, 'someones': 4765, 'something': 4766, 'sometime': 4767, 'sometimes': 4768, 'somewhat': 4769, 'somewhere': 4770, 'son': 4771, 'song': 4772, 'songbr': 4773, 'songs': 4774, 'soon': 4775, 'sooooo': 4776, 'sooraj': 4777, 'sophistication': 4778, 'sophomore': 4779, 'sordid': 4780, 'sore': 4781, 'sorry': 4782, 'sort': 4783, 'sorts': 4784, 'soul': 4785, 'soulmate': 4786, 'sound': 4787, 'sounded': 4788, 'sounds': 4789, 'soundsand': 4790, 'soundtrack': 4791, 'soundtracksbr': 4792, 'source': 4793, 'south': 4794, 'southern': 4795, 'southerners': 4796, 'soviet': 4797, 'sows': 4798, 'space': 4799, 'spaceship': 4800, 'spain': 4801, 'spanish': 4802, 'spare': 4803, 'sparked': 4804, 'sparkles': 4805, 'spawned': 4806, 'speak': 4807, 'speakers': 4808, 'speaking': 4809, 'speaks': 4810, 'special': 4811, 'specially': 4812, 'specials': 4813, 'species': 4814, 'specific': 4815, 'speed': 4816, 'spelled': 4817, 'spend': 4818, 'spends': 4819, 'spent': 4820, 'spew': 4821, 'spewingsbut': 4822, 'spews': 4823, 'spielberg': 4824, 'spies': 4825, 'spikes': 4826, 'spill': 4827, 'spinelessness': 4828, 'spiral': 4829, 'spirit': 4830, 'spirited': 4831, 'spiritless': 4832, 'splash': 4833, 'splashing': 4834, 'splinter': 4835, 'split': 4836, 'spoil': 4837, 'spoiled': 4838, 'spoiler': 4839, 'spoilers': 4840, 'spoilersbr': 4841, 'spoke': 4842, 'spoken': 4843, 'sporadically': 4844, 'sportage': 4845, 'sports': 4846, 'spot': 4847, 'spotlight': 4848, 'spots': 4849, 'spouse': 4850, 'spouting': 4851, 'spree': 4852, 'springits': 4853, 'spy': 4854, 'square': 4855, 'squeakyclean': 4856, 'squished': 4857, 'stage': 4858, 'stake': 4859, 'stalked': 4860, 'stalker': 4861, 'stalking': 4862, 'stand': 4863, 'standard': 4864, 'standards': 4865, 'standing': 4866, 'standpoint': 4867, 'stands': 4868, 'staple': 4869, 'star': 4870, 'stare': 4871, 'staring': 4872, 'starlet': 4873, 'starred': 4874, 'starring': 4875, 'stars': 4876, 'start': 4877, 'started': 4878, 'starters': 4879, 'starting': 4880, 'starts': 4881, 'state': 4882, 'stated': 4883, 'statements': 4884, 'states': 4885, 'status': 4886, 'stay': 4887, 'stayed': 4888, 'stays': 4889, 'stealing': 4890, 'steam': 4891, 'steaming': 4892, 'steamy': 4893, 'stein': 4894, 'stench': 4895, 'step': 4896, 'stepmother': 4897, 'steps': 4898, 'stereoscopic': 4899, 'stereotype': 4900, 'stereotypes': 4901, 'stereotypical': 4902, 'steve': 4903, 'stick': 4904, 'sticking': 4905, 'sticks': 4906, 'stiff': 4907, 'stiflingbr': 4908, 'still': 4909, 'stilts': 4910, 'stink': 4911, 'stinker': 4912, 'stinking': 4913, 'stock': 4914, 'stocked': 4915, 'stockholm': 4916, 'stolen': 4917, 'stomach': 4918, 'stood': 4919, 'stop': 4920, 'stopped': 4921, 'store': 4922, 'storebr': 4923, 'stores': 4924, 'stories': 4925, 'storiesbr': 4926, 'storm': 4927, 'stormbr': 4928, 'stormy': 4929, 'story': 4930, 'storybr': 4931, 'storyits': 4932, 'storyline': 4933, 'storylineor': 4934, 'storyscreenplay': 4935, 'storywise': 4936, 'straight': 4937, 'straightlaced': 4938, 'straighttovideo': 4939, 'strained': 4940, 'stranded': 4941, 'strange': 4942, 'strangers': 4943, 'strangest': 4944, 'strapped': 4945, 'strategic': 4946, 'stratten': 4947, 'strattens': 4948, 'straw': 4949, 'strays': 4950, 'stream': 4951, 'streep': 4952, 'street': 4953, 'streetnobr': 4954, 'stress': 4955, 'stretch': 4956, 'strictly': 4957, 'stride': 4958, 'strike': 4959, 'strikes': 4960, 'striking': 4961, 'string': 4962, 'strip': 4963, 'strippers': 4964, 'stroll': 4965, 'strong': 4966, 'stronger': 4967, 'strongly': 4968, 'struck': 4969, 'structural': 4970, 'structure': 4971, 'struggle': 4972, 'struggles': 4973, 'struggling': 4974, 'stuck': 4975, 'studded': 4976, 'student': 4977, 'students': 4978, 'studios': 4979, 'studly': 4980, 'study': 4981, 'studying': 4982, 'stuff': 4983, 'stuffcorny': 4984, 'stuffed': 4985, 'stumbles': 4986, 'stupid': 4987, 'stupidbr': 4988, 'stupidest': 4989, 'stupidity': 4990, 'stupidlybr': 4991, 'sturdy': 4992, 'style': 4993, 'stylebr': 4994, 'stylings': 4995, 'stylish': 4996, 'sub': 4997, 'subatomic': 4998, 'subject': 4999, 'submission': 5000, 'subpar': 5001, 'subplots': 5002, 'subs': 5003, 'subsequent': 5004, 'substance': 5005, 'substances': 5006, 'substantial': 5007, 'subtitles': 5008, 'subtly': 5009, 'succeeded': 5010, 'succeeds': 5011, 'success': 5012, 'successful': 5013, 'such': 5014, 'suck': 5015, 'sucked': 5016, 'suckers': 5017, 'suckotrocity': 5018, 'sucks': 5019, 'sudden': 5020, 'suddenly': 5021, 'suffer': 5022, 'suffering': 5023, 'suffers': 5024, 'suffice': 5025, 'sugar': 5026, 'suggest': 5027, 'suggestion': 5028, 'suggests': 5029, 'suicide': 5030, 'suite': 5031, 'suitor': 5032, 'suits': 5033, 'sum': 5034, 'summary': 5035, 'sun': 5036, 'sundance': 5037, 'sunday': 5038, 'sunglasses': 5039, 'sunk': 5040, 'sunniness': 5041, 'sunny': 5042, 'sunnybrook': 5043, 'sunnys': 5044, 'sunscreen': 5045, 'sunshine': 5046, 'superficial': 5047, 'superintendent': 5048, 'superior': 5049, 'supermarket': 5050, 'supermodels': 5051, 'support': 5052, 'supporting': 5053, 'supports': 5054, 'suppose': 5055, 'supposed': 5056, 'supposedly': 5057, 'sure': 5058, 'surely': 5059, 'surface': 5060, 'surprise': 5061, 'surprised': 5062, 'surprisingly': 5063, 'surrounded': 5064, 'surrounding': 5065, 'surrounds': 5066, 'survival': 5067, 'survive': 5068, 'survived': 5069, 'susan': 5070, 'suspect': 5071, 'suspicion': 5072, 'suspicions': 5073, 'suspicious': 5074, 'suspiciously': 5075, 'suv': 5076, 'swallow': 5077, 'swede': 5078, 'swedes': 5079, 'swedish': 5080, 'sweet': 5081, 'sweetnatured': 5082, 'swerve': 5083, 'swift': 5084, 'swing': 5085, 'swinging': 5086, 'switzerland': 5087, 'swoozie': 5088, 'sykes': 5089, 'symbol': 5090, 'symbolic': 5091, 'symmetric': 5092, 'sympathetic': 5093, 'sympathize': 5094, 'sympathy': 5095, 'synopsis': 5096, 'system': 5097, 't': 5098, 'table': 5099, 'tackle': 5100, 'tacky': 5101, 'tad': 5102, 'tailor': 5103, 'tainted': 5104, 'takashi': 5105, 'take': 5106, 'taken': 5107, 'takes': 5108, 'taking': 5109, 'tale': 5110, 'talent': 5111, 'talented': 5112, 'talents': 5113, 'tales': 5114, 'taletelling': 5115, 'talk': 5116, 'talked': 5117, 'talking': 5118, 'talks': 5119, 'tall': 5120, 'tame': 5121, 'tamest': 5122, 'tap': 5123, 'tape': 5124, 'tapes': 5125, 'tara': 5126, 'target': 5127, 'targets': 5128, 'taskbr': 5129, 'taste': 5130, 'tastebr': 5131, 'tastes': 5132, 'tawdry': 5133, 'tax': 5134, 'tea': 5135, 'teach': 5136, 'teacher': 5137, 'team': 5138, 'tears': 5139, 'technical': 5140, 'technically': 5141, 'technique': 5142, 'techniques': 5143, 'tedious': 5144, 'tediousbr': 5145, 'tediously': 5146, 'tee': 5147, 'teen': 5148, 'teenage': 5149, 'teenagers': 5150, 'teens': 5151, 'teeth': 5152, 'television': 5153, 'tell': 5154, 'telling': 5155, 'tells': 5156, 'temperament': 5157, 'tempra': 5158, 'ten': 5159, 'tend': 5160, 'tends': 5161, 'tension': 5162, 'term': 5163, 'terminator': 5164, 'terms': 5165, 'terrible': 5166, 'terribly': 5167, 'terrific': 5168, 'terror': 5169, 'terrorises': 5170, 'terrorized': 5171, 'test': 5172, 'text': 5173, 'textbook': 5174, 'than': 5175, 'thanks': 5176, 'that': 5177, 'thatbr': 5178, 'thats': 5179, 'the': 5180, 'theater': 5181, 'theaters': 5182, 'theatrical': 5183, 'theatrics': 5184, 'thee': 5185, 'their': 5186, 'them': 5187, 'thematic': 5188, 'thembr': 5189, 'theme': 5190, 'themed': 5191, 'themes': 5192, 'themselves': 5193, 'then': 5194, 'there': 5195, 'therefore': 5196, 'thereof': 5197, 'theres': 5198, 'these': 5199, 'they': 5200, 'theyll': 5201, 'theyre': 5202, 'theyve': 5203, 'thge': 5204, 'thieves': 5205, 'thigh': 5206, 'thin': 5207, 'thing': 5208, 'things': 5209, 'think': 5210, 'thinking': 5211, 'thinkingagain': 5212, 'thinwhich': 5213, 'third': 5214, 'thirty': 5215, 'this': 5216, 'thisbr': 5217, 'thisthis': 5218, 'tho': 5219, 'thomas': 5220, 'thomsons': 5221, 'thoroughly': 5222, 'those': 5223, 'though': 5224, 'thoughbr': 5225, 'thought': 5226, 'thousand': 5227, 'three': 5228, 'threeyearold': 5229, 'threw': 5230, 'thriller': 5231, 'thrilleronce': 5232, 'thrilling': 5233, 'throbbing': 5234, 'throes': 5235, 'through': 5236, 'throughout': 5237, 'throw': 5238, 'thrown': 5239, 'thru': 5240, 'thudding': 5241, 'thugs': 5242, 'thundering': 5243, 'thursday': 5244, 'thus': 5245, 'ticket': 5246, 'tiffanys': 5247, 'till': 5248, 'tim': 5249, 'time': 5250, 'timebr': 5251, 'timeframe': 5252, 'times': 5253, 'timesand': 5254, 'timesbr': 5255, 'timethe': 5256, 'timing': 5257, 'ting': 5258, 'tiny': 5259, 'tips': 5260, 'tired': 5261, 'tiresome': 5262, 'titilation': 5263, 'title': 5264, 'titled': 5265, 'titles': 5266, 'tmnt': 5267, 'to': 5268, 'today': 5269, 'todaybr': 5270, 'together': 5271, 'togetherbr': 5272, 'toilet': 5273, 'token': 5274, 'told': 5275, 'tolerable': 5276, 'tomorrow': 5277, 'tone': 5278, 'toned': 5279, 'tons': 5280, 'too': 5281, 'toobr': 5282, 'took': 5283, 'top': 5284, 'topnotch': 5285, 'tops': 5286, 'tore': 5287, 'torpid': 5288, 'torture': 5289, 'tortures': 5290, 'torturing': 5291, 'tossed': 5292, 'total': 5293, 'totally': 5294, 'totem': 5295, 'touch': 5296, 'touched': 5297, 'touches': 5298, 'tough': 5299, 'tought': 5300, 'tour': 5301, 'towards': 5302, 'town': 5303, 'toyota': 5304, 'trace': 5305, 'track': 5306, 'tracks': 5307, 'trademarks': 5308, 'traffic': 5309, 'tragedy': 5310, 'tragic': 5311, 'trailer': 5312, 'trailers': 5313, 'train': 5314, 'training': 5315, 'trains': 5316, 'trainspotting': 5317, 'trait': 5318, 'translate': 5319, 'translation': 5320, 'transpires': 5321, 'trash': 5322, 'trashbr': 5323, 'trashy': 5324, 'traumatic': 5325, 'travel': 5326, 'travels': 5327, 'treacherous': 5328, 'treasonbr': 5329, 'treated': 5330, 'treating': 5331, 'treatment': 5332, 'tree': 5333, 'trees': 5334, 'trenchant': 5335, 'tribal': 5336, 'tribe': 5337, 'tribes': 5338, 'tribeswomen': 5339, 'trick': 5340, 'trickortreaters': 5341, 'tricks': 5342, 'tried': 5343, 'trier': 5344, 'triers': 5345, 'tries': 5346, 'trip': 5347, 'tripbr': 5348, 'tripod': 5349, 'tripwhich': 5350, 'tristan': 5351, 'tristans': 5352, 'trite': 5353, 'trivial': 5354, 'trophy': 5355, 'tropical': 5356, 'trouble': 5357, 'troubled': 5358, 'troublemaker': 5359, 'truck': 5360, 'true': 5361, 'truest': 5362, 'truly': 5363, 'trust': 5364, 'truth': 5365, 'try': 5366, 'trying': 5367, 'tryinghardtoact': 5368, 'tube': 5369, 'tuberculosis': 5370, 'tucked': 5371, 'tune': 5372, 'tunes': 5373, 'turd': 5374, 'turgid': 5375, 'turkey': 5376, 'turkish': 5377, 'turks': 5378, 'turn': 5379, 'turned': 5380, 'turner': 5381, 'turning': 5382, 'turns': 5383, 'turtle': 5384, 'turtledom': 5385, 'turtles': 5386, 'tv': 5387, 'tv14': 5388, 'tweaking': 5389, 'twenty': 5390, 'twentyfive': 5391, 'twice': 5392, 'twinkling': 5393, 'twist': 5394, 'twisted': 5395, 'twists': 5396, 'two': 5397, 'twodimensional': 5398, 'twogallons': 5399, 'twoplushour': 5400, 'twothirds': 5401, 'twotiming': 5402, 'type': 5403, 'types': 5404, 'typical': 5405, 'typically': 5406, 'tzc': 5407, 'ug': 5408, 'ugly': 5409, 'uk': 5410, 'ultimate': 5411, 'ultimately': 5412, 'ultra': 5413, 'ultraminimal': 5414, 'umbrage': 5415, 'umpteen': 5416, 'unable': 5417, 'unaffecting': 5418, 'unappetising': 5419, 'unattractive': 5420, 'unavoidably': 5421, 'unbearable': 5422, 'unbelievable': 5423, 'unbelievably': 5424, 'unchained': 5425, 'uncle': 5426, 'uncomfortable': 5427, 'uncomfortably': 5428, 'unconditionallymuch': 5429, 'unconvincing': 5430, 'uncountable': 5431, 'uncreative': 5432, 'uncredited': 5433, 'uncut': 5434, 'undead': 5435, 'undeniably': 5436, 'under': 5437, 'undercover': 5438, 'underdeveloped': 5439, 'underexploited': 5440, 'undergoes': 5441, 'underground': 5442, 'underlines': 5443, 'underlying': 5444, 'undermines': 5445, 'understand': 5446, 'understandable': 5447, 'understandbr': 5448, 'understanding': 5449, 'understatement': 5450, 'understood': 5451, 'underworldbr': 5452, 'undeservedly': 5453, 'undeveloped': 5454, 'undressed': 5455, 'unenjoyable': 5456, 'unexplainable': 5457, 'unfair': 5458, 'unfathomable': 5459, 'unfold': 5460, 'unfortunate': 5461, 'unfortunately': 5462, 'unfortuntately': 5463, 'unfunny': 5464, 'unharmed': 5465, 'unicorn': 5466, 'unimaginative': 5467, 'unimpressive': 5468, 'uninspired': 5469, 'unintentionally': 5470, 'uninvolving': 5471, 'union': 5472, 'unique': 5473, 'united': 5474, 'universalbr': 5475, 'universe': 5476, 'unknown': 5477, 'unknowns': 5478, 'unless': 5479, 'unlikely': 5480, 'unmanaged': 5481, 'unnatural': 5482, 'unnecessarily': 5483, 'unnecessary': 5484, 'unneeded': 5485, 'unoriginal': 5486, 'unpleasant': 5487, 'unreal': 5488, 'unrealistic': 5489, 'unrelentingly': 5490, 'unsupervised': 5491, 'unsupportive': 5492, 'until': 5493, 'untrue': 5494, 'unusual': 5495, 'unveiled': 5496, 'unwatchable': 5497, 'up': 5498, 'uplift': 5499, 'uplifting': 5500, 'upon': 5501, 'upper': 5502, 'ups': 5503, 'upset': 5504, 'upstage': 5505, 'upstart': 5506, 'upto': 5507, 'urge': 5508, 'ursula': 5509, 'us': 5510, 'usage': 5511, 'use': 5512, 'used': 5513, 'user': 5514, 'uses': 5515, 'using': 5516, 'usual': 5517, 'usually': 5518, 'utilize': 5519, 'uttering': 5520, 'utterless': 5521, 'utterly': 5522, 'vacation': 5523, 'vainer': 5524, 'valery': 5525, 'valuable': 5526, 'value': 5527, 'values': 5528, 'van': 5529, 'vanquished': 5530, 'vapid': 5531, 'variety': 5532, 'vat': 5533, 'vaudeville': 5534, 'veered': 5535, 'vegas': 5536, 'vehicle': 5537, 'vein': 5538, 'ventures': 5539, 'venus': 5540, 'verdict': 5541, 'vernes': 5542, 'versa': 5543, 'version': 5544, 'versionbr': 5545, 'versions': 5546, 'very': 5547, 'vet': 5548, 'vhs': 5549, 'vice': 5550, 'victim': 5551, 'victims': 5552, 'victors': 5553, 'video': 5554, 'videoasia': 5555, 'videos': 5556, 'vietnam': 5557, 'view': 5558, 'viewable': 5559, 'viewbr': 5560, 'viewed': 5561, 'viewer': 5562, 'viewers': 5563, 'viewing': 5564, 'viewings': 5565, 'views': 5566, 'vigilance': 5567, 'vile': 5568, 'vilebr': 5569, 'villain': 5570, 'villains': 5571, 'villaronga': 5572, 'vilmos': 5573, 'vincent': 5574, 'vinegar': 5575, 'vinnie': 5576, 'violence': 5577, 'violent': 5578, 'virgin': 5579, 'virginal': 5580, 'virtually': 5581, 'virtue': 5582, 'virtuous': 5583, 'vis': 5584, 'visible': 5585, 'vision': 5586, 'visionbr': 5587, 'visions': 5588, 'visitalthough': 5589, 'visited': 5590, 'visiting': 5591, 'vitavetavegamin': 5592, 'vivah': 5593, 'vivah20something': 5594, 'vocational': 5595, 'voguebr': 5596, 'voice': 5597, 'voiceover': 5598, 'voices': 5599, 'void': 5600, 'vomitum': 5601, 'vortex': 5602, 'vosloo': 5603, 'vote': 5604, 'voters': 5605, 'vulgar': 5606, 'vulgarity': 5607, 'vulvas': 5608, 'w': 5609, 'wagner': 5610, 'wait': 5611, 'waiting': 5612, 'waitress': 5613, 'wake': 5614, 'wakes': 5615, 'walk': 5616, 'walked': 5617, 'walking': 5618, 'walks': 5619, 'wall': 5620, 'walmart': 5621, 'walter': 5622, 'wanders': 5623, 'wane': 5624, 'wannabe': 5625, 'want': 5626, 'wanted': 5627, 'wanting': 5628, 'wants': 5629, 'war': 5630, 'warbr': 5631, 'wards': 5632, 'warn': 5633, 'warned': 5634, 'warning': 5635, 'warp': 5636, 'warped': 5637, 'warrants': 5638, 'warrior': 5639, 'wars': 5640, 'was': 5641, 'wasbr': 5642, 'wash': 5643, 'washington': 5644, 'washingup': 5645, 'wasnt': 5646, 'waste': 5647, 'wasted': 5648, 'wasteful': 5649, 'watch': 5650, 'watchable': 5651, 'watchbr': 5652, 'watched': 5653, 'watching': 5654, 'watchingbr': 5655, 'water': 5656, 'watts': 5657, 'waves': 5658, 'waxes': 5659, 'way': 5660, 'waybr': 5661, 'wayher': 5662, 'ways': 5663, 'waysbr': 5664, 'we': 5665, 'weak': 5666, 'weakest': 5667, 'wealthy': 5668, 'weapon': 5669, 'wearing': 5670, 'wears': 5671, 'weather': 5672, 'wed': 5673, 'wedding': 5674, 'wee': 5675, 'week': 5676, 'weekbr': 5677, 'weekend': 5678, 'weekid': 5679, 'weeks': 5680, 'weird': 5681, 'weirdly': 5682, 'weirdo': 5683, 'well': 5684, 'wellacted': 5685, 'wellbeing': 5686, 'welldone': 5687, 'welles': 5688, 'wellexecuted': 5689, 'wellknown': 5690, 'wellmade': 5691, 'wellrated': 5692, 'welltodo': 5693, 'wellwith': 5694, 'went': 5695, 'were': 5696, 'werent': 5697, 'werner': 5698, 'western': 5699, 'westernepic': 5700, 'weston': 5701, 'weve': 5702, 'what': 5703, 'whatbr': 5704, 'whatever': 5705, 'whatnot': 5706, 'whats': 5707, 'whatsoever': 5708, 'wheel': 5709, 'whelkbr': 5710, 'when': 5711, 'whenever': 5712, 'where': 5713, 'whether': 5714, 'which': 5715, 'while': 5716, 'whilebr': 5717, 'whilst': 5718, 'whine': 5719, 'whines': 5720, 'whining': 5721, 'whirlwind': 5722, 'white': 5723, 'whiz': 5724, 'who': 5725, 'whocares': 5726, 'whoever': 5727, 'whole': 5728, 'wholebr': 5729, 'wholly': 5730, 'whom': 5731, 'whoo': 5732, 'whos': 5733, 'whose': 5734, 'why': 5735, 'whybr': 5736, 'wide': 5737, 'wideeyed': 5738, 'widescreen': 5739, 'wielded': 5740, 'wife': 5741, 'wifegirl': 5742, 'wild': 5743, 'wildlife': 5744, 'will': 5745, 'william': 5746, 'williams': 5747, 'willie': 5748, 'willies': 5749, 'willing': 5750, 'willis': 5751, 'wilson': 5752, 'wilsonnext': 5753, 'window': 5754, 'windows': 5755, 'winning': 5756, 'wins': 5757, 'wisdom': 5758, 'wise': 5759, 'wish': 5760, 'wishes': 5761, 'wishing': 5762, 'wishywashy': 5763, 'witch': 5764, 'with': 5765, 'withbr': 5766, 'withhaving': 5767, 'within': 5768, 'without': 5769, 'witless': 5770, 'witness': 5771, 'witty': 5772, 'wives': 5773, 'wobble': 5774, 'wobbles': 5775, 'woefully': 5776, 'woman': 5777, 'womans': 5778, 'women': 5779, 'womenbr': 5780, 'womens': 5781, 'won': 5782, 'wonder': 5783, 'wondered': 5784, 'wonderful': 5785, 'wondering': 5786, 'wont': 5787, 'wooden': 5788, 'woodley': 5789, 'woods': 5790, 'woodward': 5791, 'woody': 5792, 'word': 5793, 'words': 5794, 'work': 5795, 'workbr': 5796, 'worked': 5797, 'working': 5798, 'workingclass': 5799, 'workingoh': 5800, 'works': 5801, 'world': 5802, 'worlds': 5803, 'worldshe': 5804, 'worn': 5805, 'worried': 5806, 'worry': 5807, 'worse': 5808, 'worship': 5809, 'worst': 5810, 'worth': 5811, 'worthless': 5812, 'worthwhile': 5813, 'worthy': 5814, 'would': 5815, 'wouldbr': 5816, 'wouldnt': 5817, 'wouldve': 5818, 'woven': 5819, 'wow': 5820, 'wowed': 5821, 'wrestling': 5822, 'wretched': 5823, 'write': 5824, 'writer': 5825, 'writers': 5826, 'writhing': 5827, 'writing': 5828, 'writings': 5829, 'written': 5830, 'wrong': 5831, 'wronged': 5832, 'wrote': 5833, 'wry': 5834, 'wwe': 5835, 'wyatt': 5836, 'xmas': 5837, 'yawning': 5838, 'yeah': 5839, 'year': 5840, 'years': 5841, 'yeesh': 5842, 'yellow': 5843, 'yemen': 5844, 'yer': 5845, 'yes': 5846, 'yesterday': 5847, 'yet': 5848, 'yknow': 5849, 'york': 5850, 'yorks': 5851, 'you': 5852, 'youbr': 5853, 'youd': 5854, 'youll': 5855, 'young': 5856, 'younger': 5857, 'your': 5858, 'youre': 5859, 'yourself': 5860, 'youtube': 5861, 'youve': 5862, 'yum': 5863, 'yup': 5864, 'z': 5865, 'zack': 5866, 'zantaras': 5867, 'zappa': 5868, 'zeman': 5869, 'zero': 5870, 'zgrade': 5871, 'zillion': 5872, 'zombie': 5873, 'zombiecannibal': 5874, 'zombies': 5875, 'zombiesbr': 5876, 'zoomins': 5877, 'zooms': 5878, 'zsigmond': 5879}\n",
      "Running Truncated SVD over 5880 words...\n",
      "Done.\n"
     ]
    },
    {
     "data": {
      "image/png": "[encoded data removed]",
      "text/plain": [
       "<Figure size 1000x500 with 1 Axes>"
      ]
     },
     "metadata": {},
     "output_type": "display_data"
    }
   ],
   "source": [
    "# -----------------------------\n",
    "# Run This Cell to Produce Your Plot\n",
    "# ------------------------------\n",
    "imdb_corpus = read_corpus()\n",
    "M_co_occurrence, word2ind_co_occurrence = compute_co_occurrence_matrix(imdb_corpus)\n",
    "M_reduced_co_occurrence = reduce_to_k_dim(M_co_occurrence, k=2)\n",
    "\n",
    "# Rescale (normalize) the rows to make them each of unit-length\n",
    "M_lengths = np.linalg.norm(M_reduced_co_occurrence, axis=1)\n",
    "M_normalized = M_reduced_co_occurrence / M_lengths[:, np.newaxis] # broadcasting\n",
    "\n",
    "words = ['movie', 'book', 'mysterious', 'story', 'fascinating', 'good', 'interesting', 'large', 'massive', 'huge']\n",
    "\n",
    "plot_embeddings(M_normalized, word2ind_co_occurrence, words)"
   ]
  },
  {
   "cell_type": "markdown",
   "metadata": {
    "id": "RtOd40JTSSuE"
   },
   "source": [
    "**Verify that your figure matches \"question_1.5.png\" in the assignment zip. If not, use the figure in \"question_1.5.png\" to answer the next two questions.**"
   ]
  },
  {
   "cell_type": "markdown",
   "metadata": {
    "id": "ciXWGMvRSSuE"
   },
   "source": [
    "a. Find at least two groups of words that cluster together in 2-dimensional embedding space. Give an explanation for each cluster you observe."
   ]
  },
  {
   "cell_type": "markdown",
   "metadata": {
    "id": "fLU7o3HESSuF"
   },
   "source": [
    "<font color=\"green\">\n",
    "    I found three clusters:\n",
    "            1. Consists of the lonely word \"story\";\n",
    "            2. The biggest cluster. Includes different words\n",
    "            3. The last cluster includes two words: \"large\", \"massive\".\n",
    "</font>\n"
   ]
  },
  {
   "cell_type": "markdown",
   "metadata": {
    "id": "3H-tyA9RSSuF"
   },
   "source": [
    "b. What doesn't cluster together that you might think should have? Describe at least two examples."
   ]
  },
  {
   "cell_type": "markdown",
   "metadata": {
    "id": "3NG2j9J4SSuG",
    "jp-MarkdownHeadingCollapsed": true
   },
   "source": [
    "<font color=\"green\">Obviously, some words are clustered in a strange manner. For example, the 2nd cluster includes both nouns and adjectives. Some of the adjectives related to those placed in the 2nd cluster separated into the 3rd cluster. And one of the nouns, \"story\", separated from the others. I think the words in the 2nd cluster simply co-occured more often in our corpus.</font>"
   ]
  },
  {
   "cell_type": "markdown",
   "metadata": {
    "id": "_h0OzAaRSSuI"
   },
   "source": [
    "## Part 2: Prediction-Based Word Vectors (15 points)\n",
    "\n",
    "As discussed in class, more recently prediction-based word vectors have demonstrated better performance, such as word2vec and GloVe (which also utilizes the benefit of counts). Here, we shall explore the embeddings produced by GloVe. Please revisit the class notes and lecture slides for more details on the word2vec and GloVe algorithms. If you're feeling adventurous, challenge yourself and try reading [GloVe's original paper](https://nlp.stanford.edu/pubs/glove.pdf).\n",
    "\n",
    "Then run the following cells to load the GloVe vectors into memory. **Note**: If this is your first time to run these cells, i.e. download the embedding model, it will take a couple minutes to run. If you've run these cells before, rerunning them will load the model without redownloading it, which will take about 1 to 2 minutes."
   ]
  },
  {
   "cell_type": "code",
   "execution_count": 15,
   "metadata": {
    "colab": {
     "base_uri": "https://localhost:8080/"
    },
    "id": "l3kwvdksSSuI",
    "outputId": "736a4672-4b59-4c2e-d6e6-b16e4548db30"
   },
   "outputs": [
    {
     "name": "stdout",
     "output_type": "stream",
     "text": [
      "Loaded vocab size 400000\n"
     ]
    }
   ],
   "source": [
    "def load_embedding_model():\n",
    "    \"\"\" Load GloVe Vectors\n",
    "        Return:\n",
    "            wv_from_bin: All 400000 embeddings, each length 200\n",
    "    \"\"\"\n",
    "    import gensim.downloader as api\n",
    "    wv_from_bin = api.load(\"glove-wiki-gigaword-200\")\n",
    "    print(\"Loaded vocab size %i\" % len(list(wv_from_bin.index_to_key)))\n",
    "    return wv_from_bin\n",
    "wv_from_bin = load_embedding_model()"
   ]
  },
  {
   "cell_type": "markdown",
   "metadata": {
    "id": "egIeG1RTSSuK"
   },
   "source": [
    "#### Note: If you are receiving a \"reset by peer\" error, rerun the cell to restart the download. "
   ]
  },
  {
   "cell_type": "markdown",
   "metadata": {
    "id": "rH9gWJWpSSuL"
   },
   "source": [
    "### Reducing dimensionality of Word Embeddings\n",
    "Let's directly compare the GloVe embeddings to those of the co-occurrence matrix. In order to avoid running out of memory, we will work with a sample of 10000 GloVe vectors instead.\n",
    "Run the following cells to:\n",
    "\n",
    "1. Put 10000 Glove vectors into a matrix M\n",
    "2. Run `reduce_to_k_dim` (your Truncated SVD function) to reduce the vectors from 200-dimensional to 2-dimensional."
   ]
  },
  {
   "cell_type": "code",
   "execution_count": 16,
   "metadata": {
    "id": "0PROUu_-SSuL"
   },
   "outputs": [],
   "source": [
    "def get_matrix_of_vectors(wv_from_bin, required_words):\n",
    "    \"\"\" Put the GloVe vectors into a matrix M.\n",
    "        Param:\n",
    "            wv_from_bin: KeyedVectors object; the 400000 GloVe vectors loaded from file\n",
    "        Return:\n",
    "            M: numpy matrix shape (num words, 200) containing the vectors\n",
    "            word2ind: dictionary mapping each word to its row number in M\n",
    "    \"\"\"\n",
    "    import random\n",
    "    words = list(wv_from_bin.index_to_key)\n",
    "    print(\"Shuffling words ...\")\n",
    "    random.seed(225)\n",
    "    random.shuffle(words)\n",
    "    print(\"Putting %i words into word2ind and matrix M...\" % len(words))\n",
    "    word2ind = {}\n",
    "    M = []\n",
    "    curInd = 0\n",
    "    for w in words:\n",
    "        try:\n",
    "            M.append(wv_from_bin.get_vector(w))\n",
    "            word2ind[w] = curInd\n",
    "            curInd += 1\n",
    "        except KeyError:\n",
    "            continue\n",
    "    for w in required_words:\n",
    "        if w in words:\n",
    "            continue\n",
    "        try:\n",
    "            M.append(wv_from_bin.get_vector(w))\n",
    "            word2ind[w] = curInd\n",
    "            curInd += 1\n",
    "        except KeyError:\n",
    "            continue\n",
    "    M = np.stack(M)\n",
    "    print(\"Done.\")\n",
    "    return M, word2ind"
   ]
  },
  {
   "cell_type": "code",
   "execution_count": 17,
   "metadata": {
    "colab": {
     "base_uri": "https://localhost:8080/"
    },
    "id": "cpgM0M-hSSuM",
    "outputId": "b0989be9-8e11-45d8-8ba9-47297a990760"
   },
   "outputs": [
    {
     "name": "stdout",
     "output_type": "stream",
     "text": [
      "Shuffling words ...\n",
      "Putting 400000 words into word2ind and matrix M...\n",
      "Done.\n",
      "Running Truncated SVD over 400000 words...\n",
      "Done.\n"
     ]
    }
   ],
   "source": [
    "# -----------------------------------------------------------------\n",
    "# Run Cell to Reduce 200-Dimensional Word Embeddings to k Dimensions\n",
    "# Note: This should be quick to run\n",
    "# -----------------------------------------------------------------\n",
    "M, word2ind = get_matrix_of_vectors(wv_from_bin, words)\n",
    "M_reduced = reduce_to_k_dim(M, k=2)\n",
    "\n",
    "# Rescale (normalize) the rows to make them each of unit-length\n",
    "M_lengths = np.linalg.norm(M_reduced, axis=1)\n",
    "M_reduced_normalized = M_reduced / M_lengths[:, np.newaxis] # broadcasting"
   ]
  },
  {
   "cell_type": "markdown",
   "metadata": {
    "id": "8_46FYMJSSuN"
   },
   "source": [
    "**Note: If you are receiving out of memory issues on your local machine, try closing other applications to free more memory on your device. You may want to try restarting your machine so that you can free up extra memory. Then immediately run the jupyter notebook and see if you can load the word vectors properly. If you still have problems with loading the embeddings onto your local machine after this, please go to office hours or contact course staff.**"
   ]
  },
  {
   "cell_type": "markdown",
   "metadata": {
    "id": "zAFrU8ahSSuO"
   },
   "source": [
    "### Question 2.1: GloVe Plot Analysis [written] (3 points)\n",
    "\n",
    "Run the cell below to plot the 2D GloVe embeddings for `['movie', 'film', 'review', 'mysterious', 'story', 'metal', 'value', 'australia', 'china']`."
   ]
  },
  {
   "cell_type": "code",
   "execution_count": 18,
   "metadata": {
    "colab": {
     "base_uri": "https://localhost:8080/",
     "height": 321
    },
    "id": "9kHRkjz6SSuO",
    "outputId": "fbe0f8af-ea5e-456d-8d75-b9ad0caaa5fc",
    "scrolled": true
   },
   "outputs": [
    {
     "data": {
      "image/png": "[encoded data removed]",
      "text/plain": [
       "<Figure size 1000x500 with 1 Axes>"
      ]
     },
     "metadata": {},
     "output_type": "display_data"
    }
   ],
   "source": [
    "words = ['movie', 'book', 'mysterious', 'story', 'fascinating', 'good', 'interesting', 'large', 'massive', 'huge']\n",
    "\n",
    "plot_embeddings(M_reduced_normalized, word2ind, words)"
   ]
  },
  {
   "cell_type": "markdown",
   "metadata": {},
   "source": [
    "**Verify that your figure matches \"question_2.1.png\" in the assignment zip. If not, use the figure in \"question_2.1.png\" (and the figure in \"question_1.5.png\", if applicable) to answer the next two questions.**"
   ]
  },
  {
   "cell_type": "markdown",
   "metadata": {
    "id": "eOnrMZkzSSuP"
   },
   "source": [
    "a. What is one way the plot is different from the one generated earlier from the co-occurrence matrix? What is one way it's similar?"
   ]
  },
  {
   "cell_type": "markdown",
   "metadata": {
    "id": "5KC4PTQoSSuQ"
   },
   "source": [
    "<font color=\"green\">\n",
    "    Now, the words are separated into 4 clusters, these clusters are more dense than the previous ones. The words in clusters are more related compared to the previous model, but there're still some strange tendencies, for example, the word \"huge\" formed its own cluster and separated from its synonyms in similar way to the \"story\" in the previous plot.\n",
    "</font>"
   ]
  },
  {
   "cell_type": "markdown",
   "metadata": {
    "id": "bNDY5puZSSuQ"
   },
   "source": [
    "b. Why might the GloVe plot (question_2.1.png) differ from the plot generated earlier from the co-occurrence matrix (question_1.5.png)?"
   ]
  },
  {
   "cell_type": "markdown",
   "metadata": {
    "id": "o-cWAvi8SSuR"
   },
   "source": [
    "#### <font color=\"red\">Write your answer here.</font>"
   ]
  },
  {
   "cell_type": "markdown",
   "metadata": {
    "id": "nA8oIbjjSSuS"
   },
   "source": [
    "### Cosine Similarity\n",
    "Now that we have word vectors, we need a way to quantify the similarity between individual words, according to these vectors. One such metric is cosine-similarity. We will be using this to find words that are \"close\" and \"far\" from one another.\n",
    "\n",
    "We can think of n-dimensional vectors as points in n-dimensional space. If we take this perspective [L1](http://mathworld.wolfram.com/L1-Norm.html) and [L2](http://mathworld.wolfram.com/L2-Norm.html) Distances help quantify the amount of space \"we must travel\" to get between these two points. Another approach is to examine the angle between two vectors. From trigonometry we know that:\n",
    "\n",
    "<img src=\"./imgs/inner_product.png\" width=20% style=\"float: center;\"></img>\n",
    "\n",
    "Instead of computing the actual angle, we can leave the similarity in terms of $similarity = cos(\\Theta)$. Formally the [Cosine Similarity](https://en.wikipedia.org/wiki/Cosine_similarity) $s$ between two vectors $p$ and $q$ is defined as:\n",
    "\n",
    "$$s = \\frac{p \\cdot q}{||p|| ||q||}, \\textrm{ where } s \\in [-1, 1] $$ "
   ]
  },
  {
   "cell_type": "markdown",
   "metadata": {
    "id": "sFfCOLUsSSuS"
   },
   "source": [
    "### Question 2.2: Words with Multiple Meanings (1.5 points) [code + written] \n",
    "Polysemes and homonyms are words that have more than one meaning (see this [wiki page](https://en.wikipedia.org/wiki/Polysemy) to learn more about the difference between polysemes and homonyms ). Find a word with *at least two different meanings* such that the top-10 most similar words (according to cosine similarity) contain related words from *both* meanings. For example, \"leaves\" has both \"go_away\" and \"a_structure_of_a_plant\" meaning in the top 10, and \"scoop\" has both \"handed_waffle_cone\" and \"lowdown\". You will probably need to try several polysemous or homonymic words before you find one. \n",
    "\n",
    "Please state the word you discover and the multiple meanings that occur in the top 10. Why do you think many of the polysemous or homonymic words you tried didn't work (i.e. the top-10 most similar words only contain **one** of the meanings of the words)?\n",
    "\n",
    "**Note**: You should use the `wv_from_bin.most_similar(word)` function to get the top 10 most similar words. This function ranks all other words in the vocabulary with respect to their cosine similarity to the given word. For further assistance, please check the __[GenSim documentation](https://radimrehurek.com/gensim/models/keyedvectors.html#gensim.models.keyedvectors.FastTextKeyedVectors.most_similar)__."
   ]
  },
  {
   "cell_type": "code",
   "execution_count": 19,
   "metadata": {
    "colab": {
     "base_uri": "https://localhost:8080/"
    },
    "id": "ZAr09U-xSSuT",
    "outputId": "da8adff7-c61e-43a0-8f4b-66084b4a66b8"
   },
   "outputs": [
    {
     "data": {
      "text/plain": [
       "[('scoops', 0.6437130570411682),\n",
       " ('spoon', 0.5459855794906616),\n",
       " ('scooped', 0.5319253206253052),\n",
       " ('slice', 0.5201053023338318),\n",
       " ('innside', 0.5154464244842529),\n",
       " ('cream', 0.4963828921318054),\n",
       " ('scooping', 0.49233871698379517),\n",
       " ('buckets', 0.4825914204120636),\n",
       " ('fatman', 0.4815135896205902),\n",
       " ('scrape', 0.4774448275566101)]"
      ]
     },
     "execution_count": 19,
     "metadata": {},
     "output_type": "execute_result"
    }
   ],
   "source": [
    "# ------------------\n",
    "# Write your implementation here.\n",
    "wv_from_bin.most_similar(\"scoop\")\n",
    "\n",
    "# ------------------"
   ]
  },
  {
   "cell_type": "markdown",
   "metadata": {
    "id": "VdQ018tjSSuT"
   },
   "source": [
    "#### <font color=\"red\">Write your answer here.</font>"
   ]
  },
  {
   "cell_type": "markdown",
   "metadata": {
    "id": "VfeW-eK9SSuU"
   },
   "source": [
    "### Question 2.3: Synonyms & Antonyms (2 points) [code + written] \n",
    "\n",
    "When considering Cosine Similarity, it's often more convenient to think of Cosine Distance, which is simply 1 - Cosine Similarity.\n",
    "\n",
    "Find three words $(w_1,w_2,w_3)$ where $w_1$ and $w_2$ are synonyms and $w_1$ and $w_3$ are antonyms, but Cosine Distance $(w_1,w_3) <$ Cosine Distance $(w_1,w_2)$. \n",
    "\n",
    "As an example, $w_1$=\"happy\" is closer to $w_3$=\"sad\" than to $w_2$=\"cheerful\". Please find a different example that satisfies the above. Once you have found your example, please give a possible explanation for why this counter-intuitive result may have happened.\n",
    "\n",
    "You should use the the `wv_from_bin.distance(w1, w2)` function here in order to compute the cosine distance between two words. Please see the __[GenSim documentation](https://radimrehurek.com/gensim/models/keyedvectors.html#gensim.models.keyedvectors.FastTextKeyedVectors.distance)__ for further assistance."
   ]
  },
  {
   "cell_type": "code",
   "execution_count": 33,
   "metadata": {
    "colab": {
     "base_uri": "https://localhost:8080/"
    },
    "id": "bwlpPjpHSSuV",
    "outputId": "8c983677-b3d1-4423-d31c-da566cb522a5"
   },
   "outputs": [
    {
     "name": "stdout",
     "output_type": "stream",
     "text": [
      "0.25226807594299316 < 0.3328642249107361\n"
     ]
    }
   ],
   "source": [
    "# ------------------\n",
    "# Write your implementation here.\n",
    "print(f\"{wv_from_bin.distance('fast', 'slow')} < {wv_from_bin.distance('fast', 'quick')}\")\n",
    "# ------------------"
   ]
  },
  {
   "cell_type": "markdown",
   "metadata": {
    "id": "PeIHjTFMSSuV"
   },
   "source": [
    "<font color=\"green\">Antonyms often occur in the same context.</font>"
   ]
  },
  {
   "cell_type": "markdown",
   "metadata": {
    "id": "ZxIDq26zSSuW"
   },
   "source": [
    "### Question 2.4: Analogies with Word Vectors [written] (1.5 points)\n",
    "Word vectors have been shown to *sometimes* exhibit the ability to solve analogies. \n",
    "\n",
    "As an example, for the analogy \"man : grandfather :: woman : x\" (read: man is to grandfather as woman is to x), what is x?\n",
    "\n",
    "In the cell below, we show you how to use word vectors to find x using the `most_similar` function from the __[GenSim documentation](https://radimrehurek.com/gensim/models/keyedvectors.html#gensim.models.keyedvectors.KeyedVectors.most_similar)__. The function finds words that are most similar to the words in the `positive` list and most dissimilar from the words in the `negative` list (while omitting the input words, which are often the most similar; see [this paper](https://www.aclweb.org/anthology/N18-2039.pdf)). The answer to the analogy will have the highest cosine similarity (largest returned numerical value)."
   ]
  },
  {
   "cell_type": "code",
   "execution_count": 34,
   "metadata": {
    "colab": {
     "base_uri": "https://localhost:8080/"
    },
    "id": "u0pC7H4VSSuY",
    "outputId": "a2e3a0c1-2621-4def-f00b-f3de583f86bf"
   },
   "outputs": [
    {
     "name": "stdout",
     "output_type": "stream",
     "text": [
      "[('grandmother', 0.7608445286750793),\n",
      " ('granddaughter', 0.7200808525085449),\n",
      " ('daughter', 0.7168302536010742),\n",
      " ('mother', 0.7151536345481873),\n",
      " ('niece', 0.7005682587623596),\n",
      " ('father', 0.6659888029098511),\n",
      " ('aunt', 0.6623408794403076),\n",
      " ('grandson', 0.6618767380714417),\n",
      " ('grandparents', 0.6446609497070312),\n",
      " ('wife', 0.6445354223251343)]\n"
     ]
    }
   ],
   "source": [
    "# Run this cell to answer the analogy -- man : grandfather :: woman : x\n",
    "pprint.pprint(wv_from_bin.most_similar(positive=['woman', 'grandfather'], negative=['man']))"
   ]
  },
  {
   "cell_type": "markdown",
   "metadata": {
    "id": "XVv8I9WwSSuZ"
   },
   "source": [
    "Let $m$, $g$, $w$, and $x$ denote the word vectors for `man`, `grandfather`, `woman`, and the answer, respectively. Using **only** vectors $m$, $g$, $w$, and the vector arithmetic operators $+$ and $-$ in your answer, what is the expression in which we are maximizing cosine similarity with $x$?\n",
    "\n",
    "Hint: Recall that word vectors are simply multi-dimensional vectors that represent a word. It might help to draw out a 2D example using arbitrary locations of each vector. Where would `man` and `woman` lie in the coordinate plane relative to `grandfather` and the answer?"
   ]
  },
  {
   "cell_type": "markdown",
   "metadata": {
    "id": "KlUKBqtHSSuZ"
   },
   "source": [
    "<font color=\"green\">x = g - m + w</font>"
   ]
  },
  {
   "cell_type": "markdown",
   "metadata": {
    "id": "2rRgMca9SSua"
   },
   "source": [
    "### Question 2.5: Finding Analogies [code + written]  (1.5 points)\n",
    "a. For the previous example, it's clear that \"grandmother\" completes the analogy. But give an intuitive explanation as to why the `most_similar` function gives us words like \"granddaughter\", \"daughter\", or \"mother?"
   ]
  },
  {
   "cell_type": "markdown",
   "metadata": {
    "id": "WgYQXazQSSua"
   },
   "source": [
    "<font color=\"green\">These words often occur in the same context with \"grandfather\" and they just like the word \"grandmother\" don't have a \"man\" component in it.</font>"
   ]
  },
  {
   "cell_type": "markdown",
   "metadata": {
    "id": "p9aAUXEISSub"
   },
   "source": [
    "b. Find an example of analogy that holds according to these vectors (i.e. the intended word is ranked top). In your solution please state the full analogy in the form x:y :: a:b. If you believe the analogy is complicated, explain why the analogy holds in one or two sentences.\n",
    "\n",
    "**Note**: You may have to try many analogies to find one that works!"
   ]
  },
  {
   "cell_type": "code",
   "execution_count": 47,
   "metadata": {
    "id": "CRvYK2xifpq7"
   },
   "outputs": [
    {
     "name": "stdout",
     "output_type": "stream",
     "text": [
      "[('music', 0.7066732048988342),\n",
      " ('musicians', 0.5873122811317444),\n",
      " ('jazz', 0.5793055891990662),\n",
      " ('band', 0.5737208724021912),\n",
      " ('arts', 0.5602889060974121),\n",
      " ('performing', 0.5597420334815979),\n",
      " ('musical', 0.5507118701934814),\n",
      " ('taught', 0.5403493642807007),\n",
      " ('recording', 0.5392805337905884),\n",
      " ('dance', 0.529486894607544)]\n"
     ]
    }
   ],
   "source": [
    "# For example: x, y, a, b = (\"\", \"\", \"\", \"\")\n",
    "# ------------------\n",
    "# Write your implementation here.\n",
    "x, y, a, b = (\"mathematician\", \"mathematics\", \"musician\", \"music\")\n",
    "pprint.pprint(wv_from_bin.most_similar(positive=[a, y], negative=[x]))\n",
    "# ------------------\n",
    "\n",
    "# Test the solution\n",
    "assert wv_from_bin.most_similar(positive=[a, y], negative=[x])[0][0] == b"
   ]
  },
  {
   "cell_type": "markdown",
   "metadata": {
    "id": "K3QlPqAwSSub"
   },
   "source": [
    "<font color=\"green\">\"mathematician\":\"mathematics\" :: \"musician\":\"music\".</font>"
   ]
  },
  {
   "cell_type": "markdown",
   "metadata": {
    "id": "SwgcEywwSSuc"
   },
   "source": [
    "### Question 2.6: Incorrect Analogy [code + written] (1.5 points)\n",
    "a. Below, we expect to see the intended analogy \"hand : glove :: foot : **sock**\", but we see an unexpected result instead. Give a potential reason as to why this particular analogy turned out the way it did?"
   ]
  },
  {
   "cell_type": "code",
   "execution_count": 48,
   "metadata": {
    "colab": {
     "base_uri": "https://localhost:8080/"
    },
    "id": "m-ykWoJoSSuc",
    "outputId": "60fa3812-3e62-429e-c309-349463c75f9e"
   },
   "outputs": [
    {
     "name": "stdout",
     "output_type": "stream",
     "text": [
      "[('45,000-square', 0.4922032058238983),\n",
      " ('15,000-square', 0.4649604558944702),\n",
      " ('10,000-square', 0.45447564125061035),\n",
      " ('6,000-square', 0.44975772500038147),\n",
      " ('3,500-square', 0.4441334009170532),\n",
      " ('700-square', 0.44257497787475586),\n",
      " ('50,000-square', 0.43563973903656006),\n",
      " ('3,000-square', 0.43486514687538147),\n",
      " ('30,000-square', 0.4330596923828125),\n",
      " ('footed', 0.43236875534057617)]\n"
     ]
    }
   ],
   "source": [
    "pprint.pprint(wv_from_bin.most_similar(positive=['foot', 'glove'], negative=['hand']))"
   ]
  },
  {
   "cell_type": "markdown",
   "metadata": {
    "id": "zn4ruS8MSSud"
   },
   "source": [
    "<font color=\"green\">The word \"foot\" has two different meanings and one of them (measure unit) is used more frequently.</font>"
   ]
  },
  {
   "cell_type": "markdown",
   "metadata": {
    "id": "D1gHyZt0SSud"
   },
   "source": [
    "b. Find another example of analogy that does *not* hold according to these vectors. In your solution, state the intended analogy in the form x:y :: a:b, and state the **incorrect** value of b according to the word vectors (in the previous example, this would be **'45,000-square'**)."
   ]
  },
  {
   "cell_type": "code",
   "execution_count": 56,
   "metadata": {
    "id": "ms-DTC8_ftiA"
   },
   "outputs": [
    {
     "name": "stdout",
     "output_type": "stream",
     "text": [
      "[('bats', 0.5207927823066711),\n",
      " ('balls', 0.4991653561592102),\n",
      " ('fungo', 0.4580093324184418),\n",
      " ('hitters', 0.45702168345451355),\n",
      " ('leaf-nosed', 0.4557341933250427),\n",
      " ('lefthanded', 0.45453086495399475),\n",
      " ('batting', 0.4522234797477722),\n",
      " ('pitches', 0.43141990900039673),\n",
      " ('swing', 0.4281787872314453),\n",
      " ('woods', 0.4204165041446686)]\n"
     ]
    }
   ],
   "source": [
    "# For example: x, y, a, b = (\"\", \"\", \"\", \"\")\n",
    "# ------------------\n",
    "# Write your implementation here.\n",
    "x, y, a, b = (\"club\", \"golf\", \"bat\", \"baseball\")\n",
    "\n",
    "# ------------------\n",
    "pprint.pprint(wv_from_bin.most_similar(positive=[a, y], negative=[x]))\n",
    "assert wv_from_bin.most_similar(positive=[a, y], negative=[x])[0][0] != b"
   ]
  },
  {
   "cell_type": "markdown",
   "metadata": {
    "id": "c4x0EHjeSSue"
   },
   "source": [
    "<font color=\"green\">\"club\":\"golf\" :: \"bat\":\"baseball\"</font>\n",
    "<font color=\"red\">- \"bats\"</font>"
   ]
  },
  {
   "cell_type": "markdown",
   "metadata": {
    "id": "yvlycXN-SSuf"
   },
   "source": [
    "### Question 2.7: Guided Analysis of Bias in Word Vectors [written] (1 point)\n",
    "\n",
    "It's important to be cognizant of the biases (gender, race, sexual orientation etc.) implicit in our word embeddings. Bias can be dangerous because it can reinforce stereotypes through applications that employ these models.\n",
    "\n",
    "Run the cell below, to examine (a) which terms are most similar to \"woman\" and \"profession\" and most dissimilar to \"man\", and (b) which terms are most similar to \"man\" and \"profession\" and most dissimilar to \"woman\". Point out the difference between the list of female-associated words and the list of male-associated words, and explain how it is reflecting gender bias."
   ]
  },
  {
   "cell_type": "code",
   "execution_count": 57,
   "metadata": {
    "colab": {
     "base_uri": "https://localhost:8080/"
    },
    "id": "XggWA4MhSSuf",
    "outputId": "534a694b-f4fa-479e-9e7c-12b17db3abb8"
   },
   "outputs": [
    {
     "name": "stdout",
     "output_type": "stream",
     "text": [
      "[('reputation', 0.5250177383422852),\n",
      " ('professions', 0.5178037881851196),\n",
      " ('skill', 0.49046966433525085),\n",
      " ('skills', 0.4900550842285156),\n",
      " ('ethic', 0.4897659420967102),\n",
      " ('business', 0.4875851273536682),\n",
      " ('respected', 0.485920250415802),\n",
      " ('practice', 0.482104629278183),\n",
      " ('regarded', 0.4778572618961334),\n",
      " ('life', 0.4760662019252777)]\n",
      "\n",
      "[('professions', 0.5957458019256592),\n",
      " ('practitioner', 0.4988412857055664),\n",
      " ('teaching', 0.48292145133018494),\n",
      " ('nursing', 0.48211807012557983),\n",
      " ('vocation', 0.4788965880870819),\n",
      " ('teacher', 0.47160351276397705),\n",
      " ('practicing', 0.46937811374664307),\n",
      " ('educator', 0.46524322032928467),\n",
      " ('physicians', 0.4628995656967163),\n",
      " ('professionals', 0.4601393938064575)]\n"
     ]
    }
   ],
   "source": [
    "# Run this cell\n",
    "# Here `positive` indicates the list of words to be similar to and `negative` indicates the list of words to be\n",
    "# most dissimilar from.\n",
    "\n",
    "pprint.pprint(wv_from_bin.most_similar(positive=['man', 'profession'], negative=['woman']))\n",
    "print()\n",
    "pprint.pprint(wv_from_bin.most_similar(positive=['woman', 'profession'], negative=['man']))"
   ]
  },
  {
   "cell_type": "markdown",
   "metadata": {
    "id": "x4g6KbsYSSuh"
   },
   "source": [
    "#### <font color=\"red\">Write your answer here.</font>"
   ]
  },
  {
   "cell_type": "markdown",
   "metadata": {
    "id": "LxJmnS6lSSui"
   },
   "source": [
    "### Question 2.8: Independent Analysis of Bias in Word Vectors [code + written]  (1 point)\n",
    "\n",
    "Use the `most_similar` function to find another pair of analogies that demonstrates some bias is exhibited by the vectors. Please briefly explain the example of bias that you discover."
   ]
  },
  {
   "cell_type": "code",
   "execution_count": 91,
   "metadata": {
    "colab": {
     "base_uri": "https://localhost:8080/"
    },
    "id": "PZoDheIfSSui",
    "outputId": "f45fef83-ee36-4ef1-b970-775c3b40c515"
   },
   "outputs": [
    {
     "name": "stdout",
     "output_type": "stream",
     "text": [
      "[('electrician', 0.5375966429710388),\n",
      " ('wurzelbacher', 0.5217380523681641),\n",
      " ('mechanic', 0.49725979566574097),\n",
      " ('plumbers', 0.47615286707878113),\n",
      " ('welder', 0.46130791306495667),\n",
      " ('stonemason', 0.4592463970184326),\n",
      " ('bricklayer', 0.44925224781036377),\n",
      " ('journeyman', 0.42515116930007935),\n",
      " ('roofer', 0.4238099455833435),\n",
      " ('janitor', 0.41907861828804016)]\n",
      "\n",
      "[('hairdresser', 0.5374661087989807),\n",
      " ('electrician', 0.5246625542640686),\n",
      " ('schoolteacher', 0.4976594150066376),\n",
      " ('homemaker', 0.4962398409843445),\n",
      " ('roofer', 0.49454933404922485),\n",
      " ('seamstress', 0.49318233132362366),\n",
      " ('dentist', 0.47946158051490784),\n",
      " ('welder', 0.4610152244567871),\n",
      " ('fortune-teller', 0.45981067419052124),\n",
      " ('housekeeper', 0.45372751355171204)]\n"
     ]
    }
   ],
   "source": [
    "# ------------------\n",
    "# Write your implementation here.\n",
    "pprint.pprint(wv_from_bin.most_similar(positive=['man', 'plumber'], negative=['woman']))\n",
    "print()\n",
    "pprint.pprint(wv_from_bin.most_similar(positive=['woman', 'plumber'], negative=['man']))\n",
    "\n",
    "# ------------------"
   ]
  },
  {
   "cell_type": "markdown",
   "metadata": {
    "id": "TGOlmtJoSSuj"
   },
   "source": [
    "#### <font color=\"red\">Write your answer here.</font>"
   ]
  },
  {
   "cell_type": "markdown",
   "metadata": {
    "id": "eK2XVWzmSSuk"
   },
   "source": [
    "### Question 2.9: Thinking About Bias [written] (2 points)\n",
    "\n",
    "a. Give one explanation of how bias gets into the word vectors. Briefly describe a real-world example that demonstrates this source of bias. Your real-world example should be focused on word vectors, as opposed to bias in other AI systems (e.g., ChatGPT)."
   ]
  },
  {
   "cell_type": "markdown",
   "metadata": {
    "id": "19pM85fCSSuk"
   },
   "source": [
    "#### <font color=\"red\">Write your answer here.</font>"
   ]
  },
  {
   "cell_type": "markdown",
   "metadata": {
    "id": "ILYqJZ7ASSul"
   },
   "source": [
    "b. What is one method you can use to mitigate bias exhibited by word vectors? Briefly describe a real-world example that demonstrates this method."
   ]
  },
  {
   "cell_type": "markdown",
   "metadata": {
    "id": "dnJaAB7mSSul"
   },
   "source": [
    "\n",
    "#### <font color=\"red\">Write your answer here.</font>"
   ]
  },
  {
   "cell_type": "markdown",
   "metadata": {
    "id": "dzh3eEmZSSum"
   },
   "source": [
    "# <font color=\"blue\"> Submission Instructions</font>\n",
    "\n",
    "1. Click the Save button at the top of the Jupyter Notebook.\n",
    "2. Select Cell -> All Output -> Clear. This will clear all the outputs from all cells (but will keep the content of all cells). \n",
    "2. Select Cell -> Run All. This will run all the cells in order, and will take several minutes.\n",
    "3. Once you've rerun everything, select File -> Download as -> PDF via LaTeX (If you have trouble using \"PDF via LaTex\", you can also save the webpage as pdf. <font color='blue'> Make sure all your solutions especially the coding parts are displayed in the pdf</font>, it's okay if the provided codes get cut off because lines are not wrapped in code cells).\n",
    "4. Look at the PDF file and make sure all your solutions are there, displayed correctly. The PDF is the only thing your graders will see!\n",
    "5. Submit your PDF on Gradescope."
   ]
  }
 ],
 "metadata": {
  "anaconda-cloud": {},
  "colab": {
   "provenance": []
  },
  "kernelspec": {
   "display_name": "cs224n",
   "language": "python",
   "name": "cs224n"
  },
  "language_info": {
   "codemirror_mode": {
    "name": "ipython",
    "version": 3
   },
   "file_extension": ".py",
   "mimetype": "text/x-python",
   "name": "python",
   "nbconvert_exporter": "python",
   "pygments_lexer": "ipython3",
   "version": "3.12.2"
  }
 },
 "nbformat": 4,
 "nbformat_minor": 4
}
